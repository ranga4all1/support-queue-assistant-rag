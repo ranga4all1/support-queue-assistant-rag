{
 "cells": [
  {
   "cell_type": "markdown",
   "id": "a088946d-04ef-4b5e-9a25-4e9247f123cc",
   "metadata": {},
   "source": [
    "# evaluation-data-generation\n",
    "\n",
    "Ground truth data generation for evaluation"
   ]
  },
  {
   "cell_type": "code",
   "execution_count": 1,
   "id": "3456a0bc-24b3-42f3-9a5e-4b78de98761e",
   "metadata": {},
   "outputs": [],
   "source": [
    "import pandas as pd\n",
    "from openai import OpenAI\n",
    "import json\n",
    "from tqdm.auto import tqdm"
   ]
  },
  {
   "cell_type": "code",
   "execution_count": 2,
   "id": "560dcbb4-6f28-4a6d-a646-fe5b60130be5",
   "metadata": {},
   "outputs": [],
   "source": [
    "# client = OpenAI(api_key = 'YOUR_KEY')\n",
    "client = OpenAI()"
   ]
  },
  {
   "cell_type": "code",
   "execution_count": 3,
   "id": "7fe65f59-b375-444d-b3ef-25535a29ab6c",
   "metadata": {},
   "outputs": [
    {
     "data": {
      "text/html": [
       "<div>\n",
       "<style scoped>\n",
       "    .dataframe tbody tr th:only-of-type {\n",
       "        vertical-align: middle;\n",
       "    }\n",
       "\n",
       "    .dataframe tbody tr th {\n",
       "        vertical-align: top;\n",
       "    }\n",
       "\n",
       "    .dataframe thead th {\n",
       "        text-align: right;\n",
       "    }\n",
       "</style>\n",
       "<table border=\"1\" class=\"dataframe\">\n",
       "  <thead>\n",
       "    <tr style=\"text-align: right;\">\n",
       "      <th></th>\n",
       "      <th>id</th>\n",
       "      <th>question</th>\n",
       "      <th>category</th>\n",
       "      <th>subcategory</th>\n",
       "      <th>intent</th>\n",
       "      <th>product_feature</th>\n",
       "      <th>response</th>\n",
       "      <th>related_articles</th>\n",
       "      <th>tags</th>\n",
       "    </tr>\n",
       "  </thead>\n",
       "  <tbody>\n",
       "    <tr>\n",
       "      <th>0</th>\n",
       "      <td>0</td>\n",
       "      <td>How do I reset my password?</td>\n",
       "      <td>Account</td>\n",
       "      <td>Password Management</td>\n",
       "      <td>Password Recovery</td>\n",
       "      <td>Authentication &amp; Security</td>\n",
       "      <td>To reset your password, click on the 'Forgot P...</td>\n",
       "      <td>https://help.example.com/account/reset-password</td>\n",
       "      <td>password, reset, account access</td>\n",
       "    </tr>\n",
       "    <tr>\n",
       "      <th>1</th>\n",
       "      <td>1</td>\n",
       "      <td>What payment methods do you accept?</td>\n",
       "      <td>Billing</td>\n",
       "      <td>Payment Options</td>\n",
       "      <td>Payment Information</td>\n",
       "      <td>Billing &amp; Invoicing</td>\n",
       "      <td>We accept major credit cards (Visa, MasterCard...</td>\n",
       "      <td>https://help.example.com/billing/payment-methods</td>\n",
       "      <td>payment, credit card, PayPal</td>\n",
       "    </tr>\n",
       "    <tr>\n",
       "      <th>2</th>\n",
       "      <td>2</td>\n",
       "      <td>Can I integrate your service with Salesforce?</td>\n",
       "      <td>Technical</td>\n",
       "      <td>Integrations</td>\n",
       "      <td>Integration Setup</td>\n",
       "      <td>API &amp; Integrations</td>\n",
       "      <td>Yes, we offer a Salesforce integration. You ca...</td>\n",
       "      <td>https://developers.example.com/integrations/sa...</td>\n",
       "      <td>Salesforce, integration, API</td>\n",
       "    </tr>\n",
       "    <tr>\n",
       "      <th>3</th>\n",
       "      <td>3</td>\n",
       "      <td>How do I add a new user to my account?</td>\n",
       "      <td>Account</td>\n",
       "      <td>User Management</td>\n",
       "      <td>Add User</td>\n",
       "      <td>User Roles &amp; Permissions</td>\n",
       "      <td>To add a new user, go to 'Settings' &gt; 'User Ma...</td>\n",
       "      <td>https://help.example.com/account/adding-users</td>\n",
       "      <td>add user, invite, user management</td>\n",
       "    </tr>\n",
       "    <tr>\n",
       "      <th>4</th>\n",
       "      <td>4</td>\n",
       "      <td>What's included in the Enterprise plan?</td>\n",
       "      <td>General Inquiry</td>\n",
       "      <td>Pricing &amp; Plans</td>\n",
       "      <td>Plan Information</td>\n",
       "      <td>Subscription Management</td>\n",
       "      <td>Our Enterprise plan includes unlimited users, ...</td>\n",
       "      <td>https://www.example.com/pricing</td>\n",
       "      <td>Enterprise plan, pricing, features</td>\n",
       "    </tr>\n",
       "  </tbody>\n",
       "</table>\n",
       "</div>"
      ],
      "text/plain": [
       "   id                                       question         category  \\\n",
       "0   0                    How do I reset my password?          Account   \n",
       "1   1            What payment methods do you accept?          Billing   \n",
       "2   2  Can I integrate your service with Salesforce?        Technical   \n",
       "3   3         How do I add a new user to my account?          Account   \n",
       "4   4        What's included in the Enterprise plan?  General Inquiry   \n",
       "\n",
       "           subcategory               intent            product_feature  \\\n",
       "0  Password Management    Password Recovery  Authentication & Security   \n",
       "1      Payment Options  Payment Information        Billing & Invoicing   \n",
       "2         Integrations    Integration Setup         API & Integrations   \n",
       "3      User Management             Add User   User Roles & Permissions   \n",
       "4      Pricing & Plans     Plan Information    Subscription Management   \n",
       "\n",
       "                                            response  \\\n",
       "0  To reset your password, click on the 'Forgot P...   \n",
       "1  We accept major credit cards (Visa, MasterCard...   \n",
       "2  Yes, we offer a Salesforce integration. You ca...   \n",
       "3  To add a new user, go to 'Settings' > 'User Ma...   \n",
       "4  Our Enterprise plan includes unlimited users, ...   \n",
       "\n",
       "                                    related_articles  \\\n",
       "0    https://help.example.com/account/reset-password   \n",
       "1   https://help.example.com/billing/payment-methods   \n",
       "2  https://developers.example.com/integrations/sa...   \n",
       "3      https://help.example.com/account/adding-users   \n",
       "4                    https://www.example.com/pricing   \n",
       "\n",
       "                                 tags  \n",
       "0     password, reset, account access  \n",
       "1        payment, credit card, PayPal  \n",
       "2        Salesforce, integration, API  \n",
       "3   add user, invite, user management  \n",
       "4  Enterprise plan, pricing, features  "
      ]
     },
     "execution_count": 3,
     "metadata": {},
     "output_type": "execute_result"
    }
   ],
   "source": [
    "df = pd.read_csv('../data/data-clean.csv', sep=\",\")\n",
    "df.head()"
   ]
  },
  {
   "cell_type": "code",
   "execution_count": 4,
   "id": "496d545e-57d2-4a71-a914-f519eb8243c1",
   "metadata": {},
   "outputs": [
    {
     "data": {
      "text/plain": [
       "Index(['id', 'question', 'category', 'subcategory', 'intent',\n",
       "       'product_feature', 'response', 'related_articles', 'tags'],\n",
       "      dtype='object')"
      ]
     },
     "execution_count": 4,
     "metadata": {},
     "output_type": "execute_result"
    }
   ],
   "source": [
    "df.columns"
   ]
  },
  {
   "cell_type": "code",
   "execution_count": 5,
   "id": "3e3e0982-49f8-4e4b-9c35-ba29b427bffe",
   "metadata": {},
   "outputs": [],
   "source": [
    "documents = df.to_dict(orient='records')"
   ]
  },
  {
   "cell_type": "code",
   "execution_count": 6,
   "id": "79933e70-7299-4a1b-bd2f-872854f71a9b",
   "metadata": {},
   "outputs": [
    {
     "data": {
      "text/plain": [
       "{'id': 0,\n",
       " 'question': 'How do I reset my password?',\n",
       " 'category': 'Account',\n",
       " 'subcategory': 'Password Management',\n",
       " 'intent': 'Password Recovery',\n",
       " 'product_feature': 'Authentication & Security',\n",
       " 'response': \"To reset your password, click on the 'Forgot Password' link on the login page. Enter your email address, and we'll send you instructions to create a new password.\",\n",
       " 'related_articles': 'https://help.example.com/account/reset-password',\n",
       " 'tags': 'password, reset, account access'}"
      ]
     },
     "execution_count": 6,
     "metadata": {},
     "output_type": "execute_result"
    }
   ],
   "source": [
    "documents[0]"
   ]
  },
  {
   "cell_type": "code",
   "execution_count": 7,
   "id": "6a3f84eb-fb7a-414e-bfdd-17da29ab89a7",
   "metadata": {},
   "outputs": [],
   "source": [
    "prompt_template = \"\"\"\n",
    "You emulate a user of B2B SaaS company's support queue assistant application.\n",
    "Formulate 5 questions this user might ask based on a provided category, subcategory, or intent.\n",
    "Make the questions specific to this category, subcategory, or intent.\n",
    "The record should contain the answer to the questions, and the questions should\n",
    "be complete and not too short. Use as fewer words as possible from the record.\n",
    "\n",
    "The record:\n",
    "\n",
    "question: {question}\n",
    "category: {category}\n",
    "subcategory: {subcategory}\n",
    "intent: {intent}\n",
    "product_feature: {product_feature}\n",
    "response: {response}\n",
    "related_articles: {related_articles}\n",
    "tags: {tags}\n",
    "\n",
    "Provide the output in parsable JSON without using code blocks:\n",
    "\n",
    "{{\"questions\": [\"question1\", \"question2\", ..., \"question5\"]}}\n",
    "\"\"\".strip()"
   ]
  },
  {
   "cell_type": "code",
   "execution_count": 8,
   "id": "b893983f-6536-416a-929e-7238ce67368f",
   "metadata": {},
   "outputs": [],
   "source": [
    "prompt = prompt_template.format(**documents[0])"
   ]
  },
  {
   "cell_type": "code",
   "execution_count": 9,
   "id": "09149928-de6e-4035-b07b-9d1095dd4463",
   "metadata": {},
   "outputs": [
    {
     "data": {
      "text/plain": [
       "'You emulate a user of B2B SaaS company\\'s support queue assistant application.\\nFormulate 5 questions this user might ask based on a provided category, subcategory, or intent.\\nMake the questions specific to this category, subcategory, or intent.\\nThe record should contain the answer to the questions, and the questions should\\nbe complete and not too short. Use as fewer words as possible from the record. \\n\\nThe record:\\n\\nquestion: How do I reset my password?\\ncategory: Account\\nsubcategory: Password Management\\nintent: Password Recovery\\nproduct_feature: Authentication & Security\\nresponse: To reset your password, click on the \\'Forgot Password\\' link on the login page. Enter your email address, and we\\'ll send you instructions to create a new password.\\nrelated_articles: https://help.example.com/account/reset-password\\ntags: password, reset, account access\\n\\nProvide the output in parsable JSON without using code blocks:\\n\\n{\"questions\": [\"question1\", \"question2\", ..., \"question5\"]}'"
      ]
     },
     "execution_count": 9,
     "metadata": {},
     "output_type": "execute_result"
    }
   ],
   "source": [
    "prompt"
   ]
  },
  {
   "cell_type": "code",
   "execution_count": 10,
   "id": "8df5985c-6b45-452c-9961-10339aa442be",
   "metadata": {},
   "outputs": [],
   "source": [
    "def llm(prompt):\n",
    "    response = client.chat.completions.create(\n",
    "        model='gpt-4o-mini',\n",
    "        messages=[{\"role\": \"user\", \"content\": prompt}]\n",
    "    )\n",
    "\n",
    "    return response.choices[0].message.content"
   ]
  },
  {
   "cell_type": "code",
   "execution_count": 11,
   "id": "0fa8a398-4bc7-4237-8188-24b4f6a02be1",
   "metadata": {},
   "outputs": [],
   "source": [
    "questions = llm(prompt)"
   ]
  },
  {
   "cell_type": "code",
   "execution_count": 12,
   "id": "7d22d495-1072-4841-a4c6-438478c4da6a",
   "metadata": {},
   "outputs": [
    {
     "data": {
      "text/plain": [
       "{'questions': ['What steps should I follow to reset my password?',\n",
       "  \"Where can I find the 'Forgot Password' link for my account?\",\n",
       "  'How will I receive instructions to change my password?',\n",
       "  'What information do I need to provide to reset my password?',\n",
       "  'Is there a specific page I should visit to reset my password?']}"
      ]
     },
     "execution_count": 12,
     "metadata": {},
     "output_type": "execute_result"
    }
   ],
   "source": [
    "json.loads(questions)"
   ]
  },
  {
   "cell_type": "code",
   "execution_count": 13,
   "id": "ff4d87fc-4c01-4c17-aa3b-9acb552b5ae3",
   "metadata": {},
   "outputs": [],
   "source": [
    "def generate_questions(doc):\n",
    "    prompt = prompt_template.format(**doc)\n",
    "\n",
    "    response = client.chat.completions.create(\n",
    "        model='gpt-4o-mini',\n",
    "        messages=[{\"role\": \"user\", \"content\": prompt}]\n",
    "    )\n",
    "\n",
    "    json_response = response.choices[0].message.content\n",
    "    return json_response"
   ]
  },
  {
   "cell_type": "code",
   "execution_count": 14,
   "id": "8f3697a9-858b-41bf-a0a5-e5cb3d102b12",
   "metadata": {},
   "outputs": [],
   "source": [
    "results = {}"
   ]
  },
  {
   "cell_type": "code",
   "execution_count": 15,
   "id": "21168ab7-800a-4307-a8f4-f1e0d1ba9c8a",
   "metadata": {},
   "outputs": [
    {
     "data": {
      "application/vnd.jupyter.widget-view+json": {
       "model_id": "5718bda72f3247198c06576d79edaaf6",
       "version_major": 2,
       "version_minor": 0
      },
      "text/plain": [
       "  0%|          | 0/125 [00:00<?, ?it/s]"
      ]
     },
     "metadata": {},
     "output_type": "display_data"
    }
   ],
   "source": [
    "for doc in tqdm(documents):\n",
    "    doc_id = doc['id']\n",
    "    if doc_id in results:\n",
    "        continue\n",
    "\n",
    "    questions_raw = generate_questions(doc)\n",
    "    questions = json.loads(questions_raw)\n",
    "    results[doc_id] = questions['questions']"
   ]
  },
  {
   "cell_type": "code",
   "execution_count": 16,
   "id": "decc504d-847b-4a91-8935-3f7fbd882ce3",
   "metadata": {},
   "outputs": [],
   "source": [
    "final_results = []\n",
    "\n",
    "for doc_id, questions in results.items():\n",
    "    for q in questions:\n",
    "        final_results.append((doc_id, q))"
   ]
  },
  {
   "cell_type": "code",
   "execution_count": 17,
   "id": "b3a49ddd-20fe-438f-9637-4ac165865687",
   "metadata": {},
   "outputs": [
    {
     "data": {
      "text/plain": [
       "(0, 'What steps do I need to follow to reset my password for my account?')"
      ]
     },
     "execution_count": 17,
     "metadata": {},
     "output_type": "execute_result"
    }
   ],
   "source": [
    "final_results[0]"
   ]
  },
  {
   "cell_type": "code",
   "execution_count": 18,
   "id": "72549909-643d-4e6e-8e32-bec6c62c4236",
   "metadata": {},
   "outputs": [
    {
     "data": {
      "text/html": [
       "<div>\n",
       "<style scoped>\n",
       "    .dataframe tbody tr th:only-of-type {\n",
       "        vertical-align: middle;\n",
       "    }\n",
       "\n",
       "    .dataframe tbody tr th {\n",
       "        vertical-align: top;\n",
       "    }\n",
       "\n",
       "    .dataframe thead th {\n",
       "        text-align: right;\n",
       "    }\n",
       "</style>\n",
       "<table border=\"1\" class=\"dataframe\">\n",
       "  <thead>\n",
       "    <tr style=\"text-align: right;\">\n",
       "      <th></th>\n",
       "      <th>id</th>\n",
       "      <th>question</th>\n",
       "    </tr>\n",
       "  </thead>\n",
       "  <tbody>\n",
       "    <tr>\n",
       "      <th>0</th>\n",
       "      <td>0</td>\n",
       "      <td>What steps do I need to follow to reset my pas...</td>\n",
       "    </tr>\n",
       "    <tr>\n",
       "      <th>1</th>\n",
       "      <td>0</td>\n",
       "      <td>Can you guide me through the password recovery...</td>\n",
       "    </tr>\n",
       "    <tr>\n",
       "      <th>2</th>\n",
       "      <td>0</td>\n",
       "      <td>Where can I find the link to reset my password...</td>\n",
       "    </tr>\n",
       "    <tr>\n",
       "      <th>3</th>\n",
       "      <td>0</td>\n",
       "      <td>Is there a specific email address I need to us...</td>\n",
       "    </tr>\n",
       "    <tr>\n",
       "      <th>4</th>\n",
       "      <td>0</td>\n",
       "      <td>What resources are available if I encounter is...</td>\n",
       "    </tr>\n",
       "    <tr>\n",
       "      <th>...</th>\n",
       "      <td>...</td>\n",
       "      <td>...</td>\n",
       "    </tr>\n",
       "    <tr>\n",
       "      <th>620</th>\n",
       "      <td>124</td>\n",
       "      <td>What are the steps to create a custom workflow...</td>\n",
       "    </tr>\n",
       "    <tr>\n",
       "      <th>621</th>\n",
       "      <td>124</td>\n",
       "      <td>Can I integrate external systems when setting ...</td>\n",
       "    </tr>\n",
       "    <tr>\n",
       "      <th>622</th>\n",
       "      <td>124</td>\n",
       "      <td>How does the Workflow Builder help in automati...</td>\n",
       "    </tr>\n",
       "    <tr>\n",
       "      <th>623</th>\n",
       "      <td>124</td>\n",
       "      <td>Is there a way to test my custom workflow befo...</td>\n",
       "    </tr>\n",
       "    <tr>\n",
       "      <th>624</th>\n",
       "      <td>124</td>\n",
       "      <td>What kind of logic can I incorporate into my c...</td>\n",
       "    </tr>\n",
       "  </tbody>\n",
       "</table>\n",
       "<p>625 rows × 2 columns</p>\n",
       "</div>"
      ],
      "text/plain": [
       "      id                                           question\n",
       "0      0  What steps do I need to follow to reset my pas...\n",
       "1      0  Can you guide me through the password recovery...\n",
       "2      0  Where can I find the link to reset my password...\n",
       "3      0  Is there a specific email address I need to us...\n",
       "4      0  What resources are available if I encounter is...\n",
       "..   ...                                                ...\n",
       "620  124  What are the steps to create a custom workflow...\n",
       "621  124  Can I integrate external systems when setting ...\n",
       "622  124  How does the Workflow Builder help in automati...\n",
       "623  124  Is there a way to test my custom workflow befo...\n",
       "624  124  What kind of logic can I incorporate into my c...\n",
       "\n",
       "[625 rows x 2 columns]"
      ]
     },
     "execution_count": 18,
     "metadata": {},
     "output_type": "execute_result"
    }
   ],
   "source": [
    "df_results = pd.DataFrame(final_results, columns=['id', 'question'])\n",
    "df_results"
   ]
  },
  {
   "cell_type": "code",
   "execution_count": 19,
   "id": "fbef07c4-5d20-43a1-a652-afa59997f60b",
   "metadata": {},
   "outputs": [],
   "source": [
    "df_results.to_csv('../data/ground-truth-retrieval.csv', index=False)"
   ]
  },
  {
   "cell_type": "code",
   "execution_count": 20,
   "id": "a234f2fd-6ca6-4077-99ef-76b0f6be032f",
   "metadata": {},
   "outputs": [
    {
     "name": "stdout",
     "output_type": "stream",
     "text": [
      "id,question\n",
      "0,What steps do I need to follow to reset my password for my account?\n",
      "0,Can you guide me through the password recovery process for the application?\n",
      "0,Where can I find the link to reset my password on the login page?\n",
      "0,Is there a specific email address I need to use to receive password reset instructions?\n",
      "0,What resources are available if I encounter issues while trying to reset my password?\n",
      "1,What are the accepted payment methods for your service?\n",
      "1,Can I use PayPal to pay for my subscription?\n",
      "1,Do you accept credit cards for payment?\n",
      "1,What invoicing options are available for enterprise customers?\n"
     ]
    }
   ],
   "source": [
    "!head ../data/ground-truth-retrieval.csv"
   ]
  },
  {
   "cell_type": "code",
   "execution_count": null,
   "id": "4ab590f8-a3a2-4f64-8c0d-8d8f3af2f2bd",
   "metadata": {},
   "outputs": [],
   "source": []
  }
 ],
 "metadata": {
  "kernelspec": {
   "display_name": "Python 3 (ipykernel)",
   "language": "python",
   "name": "python3"
  },
  "language_info": {
   "codemirror_mode": {
    "name": "ipython",
    "version": 3
   },
   "file_extension": ".py",
   "mimetype": "text/x-python",
   "name": "python",
   "nbconvert_exporter": "python",
   "pygments_lexer": "ipython3",
   "version": "3.12.1"
  }
 },
 "nbformat": 4,
 "nbformat_minor": 5
}
