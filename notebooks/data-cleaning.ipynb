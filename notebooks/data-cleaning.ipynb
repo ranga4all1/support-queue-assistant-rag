{
 "cells": [
  {
   "cell_type": "markdown",
   "id": "e44f6ad4-3342-4479-a05c-cd32498823ff",
   "metadata": {},
   "source": [
    "# Data cleaning"
   ]
  },
  {
   "cell_type": "code",
   "execution_count": 1,
   "id": "e30bc41a-9865-4ca1-bb70-372d16952d3a",
   "metadata": {},
   "outputs": [],
   "source": [
    "import pandas as pd"
   ]
  },
  {
   "cell_type": "code",
   "execution_count": 2,
   "id": "e3559283-b425-4d18-9042-e6a6414fbf0d",
   "metadata": {},
   "outputs": [
    {
     "data": {
      "text/html": [
       "<div>\n",
       "<style scoped>\n",
       "    .dataframe tbody tr th:only-of-type {\n",
       "        vertical-align: middle;\n",
       "    }\n",
       "\n",
       "    .dataframe tbody tr th {\n",
       "        vertical-align: top;\n",
       "    }\n",
       "\n",
       "    .dataframe thead th {\n",
       "        text-align: right;\n",
       "    }\n",
       "</style>\n",
       "<table border=\"1\" class=\"dataframe\">\n",
       "  <thead>\n",
       "    <tr style=\"text-align: right;\">\n",
       "      <th></th>\n",
       "      <th>id</th>\n",
       "      <th>question</th>\n",
       "      <th>category</th>\n",
       "      <th>subcategory</th>\n",
       "      <th>intent</th>\n",
       "      <th>product_feature</th>\n",
       "      <th>response</th>\n",
       "      <th>related_articles</th>\n",
       "      <th>tags</th>\n",
       "    </tr>\n",
       "  </thead>\n",
       "  <tbody>\n",
       "    <tr>\n",
       "      <th>0</th>\n",
       "      <td>0</td>\n",
       "      <td>How do I reset my password?</td>\n",
       "      <td>Account</td>\n",
       "      <td>Password Management</td>\n",
       "      <td>Password Recovery</td>\n",
       "      <td>Authentication &amp; Security</td>\n",
       "      <td>To reset your password, click on the 'Forgot P...</td>\n",
       "      <td>https://help.example.com/account/reset-password</td>\n",
       "      <td>password, reset, account access</td>\n",
       "    </tr>\n",
       "    <tr>\n",
       "      <th>1</th>\n",
       "      <td>1</td>\n",
       "      <td>What payment methods do you accept?</td>\n",
       "      <td>Billing</td>\n",
       "      <td>Payment Options</td>\n",
       "      <td>Payment Information</td>\n",
       "      <td>Billing &amp; Invoicing</td>\n",
       "      <td>We accept major credit cards (Visa, MasterCard...</td>\n",
       "      <td>https://help.example.com/billing/payment-methods</td>\n",
       "      <td>payment, credit card, PayPal</td>\n",
       "    </tr>\n",
       "    <tr>\n",
       "      <th>2</th>\n",
       "      <td>2</td>\n",
       "      <td>Can I integrate your service with Salesforce?</td>\n",
       "      <td>Technical</td>\n",
       "      <td>Integrations</td>\n",
       "      <td>Integration Setup</td>\n",
       "      <td>API &amp; Integrations</td>\n",
       "      <td>Yes, we offer a Salesforce integration. You ca...</td>\n",
       "      <td>https://developers.example.com/integrations/sa...</td>\n",
       "      <td>Salesforce, integration, API</td>\n",
       "    </tr>\n",
       "    <tr>\n",
       "      <th>3</th>\n",
       "      <td>3</td>\n",
       "      <td>How do I add a new user to my account?</td>\n",
       "      <td>Account</td>\n",
       "      <td>User Management</td>\n",
       "      <td>Add User</td>\n",
       "      <td>User Roles &amp; Permissions</td>\n",
       "      <td>To add a new user, go to 'Settings' &gt; 'User Ma...</td>\n",
       "      <td>https://help.example.com/account/adding-users</td>\n",
       "      <td>add user, invite, user management</td>\n",
       "    </tr>\n",
       "    <tr>\n",
       "      <th>4</th>\n",
       "      <td>4</td>\n",
       "      <td>What's included in the Enterprise plan?</td>\n",
       "      <td>General Inquiry</td>\n",
       "      <td>Pricing &amp; Plans</td>\n",
       "      <td>Plan Information</td>\n",
       "      <td>Subscription Management</td>\n",
       "      <td>Our Enterprise plan includes unlimited users, ...</td>\n",
       "      <td>https://www.example.com/pricing</td>\n",
       "      <td>Enterprise plan, pricing, features</td>\n",
       "    </tr>\n",
       "    <tr>\n",
       "      <th>...</th>\n",
       "      <td>...</td>\n",
       "      <td>...</td>\n",
       "      <td>...</td>\n",
       "      <td>...</td>\n",
       "      <td>...</td>\n",
       "      <td>...</td>\n",
       "      <td>...</td>\n",
       "      <td>...</td>\n",
       "      <td>...</td>\n",
       "    </tr>\n",
       "    <tr>\n",
       "      <th>120</th>\n",
       "      <td>120</td>\n",
       "      <td>How do I implement feature flags?</td>\n",
       "      <td>Technical</td>\n",
       "      <td>Development</td>\n",
       "      <td>Feature Flag Setup</td>\n",
       "      <td>Product Management</td>\n",
       "      <td>To implement feature flags, use our Feature Ma...</td>\n",
       "      <td>https://developers.example.com/feature-flags-sdk</td>\n",
       "      <td>feature flags, A/B testing, product management</td>\n",
       "    </tr>\n",
       "    <tr>\n",
       "      <th>121</th>\n",
       "      <td>121</td>\n",
       "      <td>What's your policy on data anonymization?</td>\n",
       "      <td>General Inquiry</td>\n",
       "      <td>Privacy &amp; Compliance</td>\n",
       "      <td>Anonymization Policy</td>\n",
       "      <td>Data Management</td>\n",
       "      <td>We offer data anonymization features to help y...</td>\n",
       "      <td>https://www.example.com/privacy/data-anonymiza...</td>\n",
       "      <td>anonymization, privacy, GDPR</td>\n",
       "    </tr>\n",
       "    <tr>\n",
       "      <th>122</th>\n",
       "      <td>122</td>\n",
       "      <td>How do I implement WebSocket connections?</td>\n",
       "      <td>Technical</td>\n",
       "      <td>Real-time Communication</td>\n",
       "      <td>WebSocket Setup</td>\n",
       "      <td>API &amp; Integrations</td>\n",
       "      <td>To implement WebSocket connections, use our Re...</td>\n",
       "      <td>https://developers.example.com/websocket-sdk</td>\n",
       "      <td>WebSocket, real-time, communication</td>\n",
       "    </tr>\n",
       "    <tr>\n",
       "      <th>123</th>\n",
       "      <td>123</td>\n",
       "      <td>Can I get a security questionnaire filled out?</td>\n",
       "      <td>General Inquiry</td>\n",
       "      <td>Security</td>\n",
       "      <td>Security Questionnaire Request</td>\n",
       "      <td>Data Management</td>\n",
       "      <td>Yes, we can complete security questionnaires f...</td>\n",
       "      <td>https://www.example.com/security/questionnaire</td>\n",
       "      <td>security questionnaire, compliance, vendor ass...</td>\n",
       "    </tr>\n",
       "    <tr>\n",
       "      <th>124</th>\n",
       "      <td>124</td>\n",
       "      <td>How do I implement custom workflows?</td>\n",
       "      <td>Technical</td>\n",
       "      <td>Process Automation</td>\n",
       "      <td>Workflow Customization</td>\n",
       "      <td>Process Automation</td>\n",
       "      <td>To implement custom workflows, use our Workflo...</td>\n",
       "      <td>https://help.example.com/features/custom-workf...</td>\n",
       "      <td>workflows, automation, business processes</td>\n",
       "    </tr>\n",
       "  </tbody>\n",
       "</table>\n",
       "<p>125 rows × 9 columns</p>\n",
       "</div>"
      ],
      "text/plain": [
       "      id                                        question         category  \\\n",
       "0      0                     How do I reset my password?          Account   \n",
       "1      1             What payment methods do you accept?          Billing   \n",
       "2      2   Can I integrate your service with Salesforce?        Technical   \n",
       "3      3          How do I add a new user to my account?          Account   \n",
       "4      4         What's included in the Enterprise plan?  General Inquiry   \n",
       "..   ...                                             ...              ...   \n",
       "120  120               How do I implement feature flags?        Technical   \n",
       "121  121       What's your policy on data anonymization?  General Inquiry   \n",
       "122  122       How do I implement WebSocket connections?        Technical   \n",
       "123  123  Can I get a security questionnaire filled out?  General Inquiry   \n",
       "124  124            How do I implement custom workflows?        Technical   \n",
       "\n",
       "                 subcategory                          intent  \\\n",
       "0        Password Management               Password Recovery   \n",
       "1            Payment Options             Payment Information   \n",
       "2               Integrations               Integration Setup   \n",
       "3            User Management                        Add User   \n",
       "4            Pricing & Plans                Plan Information   \n",
       "..                       ...                             ...   \n",
       "120              Development              Feature Flag Setup   \n",
       "121     Privacy & Compliance            Anonymization Policy   \n",
       "122  Real-time Communication                 WebSocket Setup   \n",
       "123                 Security  Security Questionnaire Request   \n",
       "124       Process Automation          Workflow Customization   \n",
       "\n",
       "               product_feature  \\\n",
       "0    Authentication & Security   \n",
       "1          Billing & Invoicing   \n",
       "2           API & Integrations   \n",
       "3     User Roles & Permissions   \n",
       "4      Subscription Management   \n",
       "..                         ...   \n",
       "120         Product Management   \n",
       "121            Data Management   \n",
       "122         API & Integrations   \n",
       "123            Data Management   \n",
       "124         Process Automation   \n",
       "\n",
       "                                              response  \\\n",
       "0    To reset your password, click on the 'Forgot P...   \n",
       "1    We accept major credit cards (Visa, MasterCard...   \n",
       "2    Yes, we offer a Salesforce integration. You ca...   \n",
       "3    To add a new user, go to 'Settings' > 'User Ma...   \n",
       "4    Our Enterprise plan includes unlimited users, ...   \n",
       "..                                                 ...   \n",
       "120  To implement feature flags, use our Feature Ma...   \n",
       "121  We offer data anonymization features to help y...   \n",
       "122  To implement WebSocket connections, use our Re...   \n",
       "123  Yes, we can complete security questionnaires f...   \n",
       "124  To implement custom workflows, use our Workflo...   \n",
       "\n",
       "                                      related_articles  \\\n",
       "0      https://help.example.com/account/reset-password   \n",
       "1     https://help.example.com/billing/payment-methods   \n",
       "2    https://developers.example.com/integrations/sa...   \n",
       "3        https://help.example.com/account/adding-users   \n",
       "4                      https://www.example.com/pricing   \n",
       "..                                                 ...   \n",
       "120   https://developers.example.com/feature-flags-sdk   \n",
       "121  https://www.example.com/privacy/data-anonymiza...   \n",
       "122       https://developers.example.com/websocket-sdk   \n",
       "123     https://www.example.com/security/questionnaire   \n",
       "124  https://help.example.com/features/custom-workf...   \n",
       "\n",
       "                                                  tags  \n",
       "0                      password, reset, account access  \n",
       "1                         payment, credit card, PayPal  \n",
       "2                         Salesforce, integration, API  \n",
       "3                    add user, invite, user management  \n",
       "4                   Enterprise plan, pricing, features  \n",
       "..                                                 ...  \n",
       "120     feature flags, A/B testing, product management  \n",
       "121                       anonymization, privacy, GDPR  \n",
       "122                WebSocket, real-time, communication  \n",
       "123  security questionnaire, compliance, vendor ass...  \n",
       "124          workflows, automation, business processes  \n",
       "\n",
       "[125 rows x 9 columns]"
      ]
     },
     "execution_count": 2,
     "metadata": {},
     "output_type": "execute_result"
    }
   ],
   "source": [
    "df = pd.read_csv('../data/data-unclean-125.csv', sep=\",\")\n",
    "df"
   ]
  },
  {
   "cell_type": "code",
   "execution_count": 3,
   "id": "78511be1-a14d-46fd-906d-984a30010f75",
   "metadata": {},
   "outputs": [
    {
     "data": {
      "text/plain": [
       "0      False\n",
       "1      False\n",
       "2      False\n",
       "3      False\n",
       "4      False\n",
       "       ...  \n",
       "120    False\n",
       "121    False\n",
       "122    False\n",
       "123    False\n",
       "124    False\n",
       "Length: 125, dtype: bool"
      ]
     },
     "execution_count": 3,
     "metadata": {},
     "output_type": "execute_result"
    }
   ],
   "source": [
    "df.duplicated()"
   ]
  },
  {
   "cell_type": "code",
   "execution_count": 4,
   "id": "d68fe2f4-59ee-4d4c-8be8-ce92058cc7ed",
   "metadata": {},
   "outputs": [
    {
     "data": {
      "text/plain": [
       "0      False\n",
       "1      False\n",
       "2      False\n",
       "3      False\n",
       "4      False\n",
       "       ...  \n",
       "120    False\n",
       "121    False\n",
       "122    False\n",
       "123    False\n",
       "124    False\n",
       "Length: 125, dtype: bool"
      ]
     },
     "execution_count": 4,
     "metadata": {},
     "output_type": "execute_result"
    }
   ],
   "source": [
    "df.duplicated(subset=['question'])"
   ]
  },
  {
   "cell_type": "code",
   "execution_count": 5,
   "id": "eca2029b-e398-4cbf-aa60-9f4f06d82e1f",
   "metadata": {},
   "outputs": [
    {
     "data": {
      "text/plain": [
       "array(['Account', 'Billing', 'Technical', 'General Inquiry'], dtype=object)"
      ]
     },
     "execution_count": 5,
     "metadata": {},
     "output_type": "execute_result"
    }
   ],
   "source": [
    "df.category.unique()"
   ]
  },
  {
   "cell_type": "code",
   "execution_count": 6,
   "id": "fc59105a-cab0-4db4-96e6-d7f1a5889b46",
   "metadata": {
    "scrolled": true
   },
   "outputs": [
    {
     "data": {
      "text/plain": [
       "category\n",
       "Technical          53\n",
       "General Inquiry    40\n",
       "Billing            19\n",
       "Account            13\n",
       "Name: count, dtype: int64"
      ]
     },
     "execution_count": 6,
     "metadata": {},
     "output_type": "execute_result"
    }
   ],
   "source": [
    "df.category.value_counts()"
   ]
  },
  {
   "cell_type": "code",
   "execution_count": 7,
   "id": "89deee97-8795-43d0-80c3-fd0d97a391c8",
   "metadata": {},
   "outputs": [],
   "source": [
    "df.to_csv('../data/data-clean.csv', index=False)"
   ]
  },
  {
   "cell_type": "code",
   "execution_count": null,
   "id": "8c116964-6ec0-43cd-9209-9d3db376ff32",
   "metadata": {},
   "outputs": [],
   "source": []
  }
 ],
 "metadata": {
  "kernelspec": {
   "display_name": "Python 3 (ipykernel)",
   "language": "python",
   "name": "python3"
  },
  "language_info": {
   "codemirror_mode": {
    "name": "ipython",
    "version": 3
   },
   "file_extension": ".py",
   "mimetype": "text/x-python",
   "name": "python",
   "nbconvert_exporter": "python",
   "pygments_lexer": "ipython3",
   "version": "3.12.1"
  }
 },
 "nbformat": 4,
 "nbformat_minor": 5
}
