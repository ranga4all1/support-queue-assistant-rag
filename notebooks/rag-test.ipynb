{
 "cells": [
  {
   "cell_type": "markdown",
   "id": "6fe33621-9419-4a5a-876a-c7f51f8259d7",
   "metadata": {},
   "source": [
    "# support-queue-assistant-rag"
   ]
  },
  {
   "cell_type": "code",
   "execution_count": 1,
   "id": "fb8b049f-d26c-468a-aefd-f0d7ff31dd28",
   "metadata": {},
   "outputs": [],
   "source": [
    "# Uncomment and execute this once to download minsearch\n",
    "# !wget https://raw.githubusercontent.com/alexeygrigorev/minsearch/main/minsearch.py"
   ]
  },
  {
   "cell_type": "code",
   "execution_count": 2,
   "id": "6b9b57ed-e906-4aae-8f92-c0997b673774",
   "metadata": {},
   "outputs": [],
   "source": [
    "# Import libraries\n",
    "import pandas as pd\n",
    "import random\n",
    "import json\n",
    "from tqdm.auto import tqdm\n",
    "import minsearch\n",
    "from openai import OpenAI"
   ]
  },
  {
   "cell_type": "markdown",
   "id": "29288501-d09f-4696-93cc-a6d005174749",
   "metadata": {},
   "source": [
    "## Ingestion"
   ]
  },
  {
   "cell_type": "code",
   "execution_count": 3,
   "id": "65a795b7-fae2-405c-8c1d-71b1c5bbca2d",
   "metadata": {},
   "outputs": [
    {
     "data": {
      "text/html": [
       "<div>\n",
       "<style scoped>\n",
       "    .dataframe tbody tr th:only-of-type {\n",
       "        vertical-align: middle;\n",
       "    }\n",
       "\n",
       "    .dataframe tbody tr th {\n",
       "        vertical-align: top;\n",
       "    }\n",
       "\n",
       "    .dataframe thead th {\n",
       "        text-align: right;\n",
       "    }\n",
       "</style>\n",
       "<table border=\"1\" class=\"dataframe\">\n",
       "  <thead>\n",
       "    <tr style=\"text-align: right;\">\n",
       "      <th></th>\n",
       "      <th>id</th>\n",
       "      <th>question</th>\n",
       "      <th>category</th>\n",
       "      <th>subcategory</th>\n",
       "      <th>intent</th>\n",
       "      <th>product_feature</th>\n",
       "      <th>response</th>\n",
       "      <th>related_articles</th>\n",
       "      <th>tags</th>\n",
       "    </tr>\n",
       "  </thead>\n",
       "  <tbody>\n",
       "    <tr>\n",
       "      <th>0</th>\n",
       "      <td>0</td>\n",
       "      <td>How do I reset my password?</td>\n",
       "      <td>Account</td>\n",
       "      <td>Password Management</td>\n",
       "      <td>Password Recovery</td>\n",
       "      <td>Authentication &amp; Security</td>\n",
       "      <td>To reset your password, click on the 'Forgot P...</td>\n",
       "      <td>https://help.example.com/account/reset-password</td>\n",
       "      <td>password, reset, account access</td>\n",
       "    </tr>\n",
       "    <tr>\n",
       "      <th>1</th>\n",
       "      <td>1</td>\n",
       "      <td>What payment methods do you accept?</td>\n",
       "      <td>Billing</td>\n",
       "      <td>Payment Options</td>\n",
       "      <td>Payment Information</td>\n",
       "      <td>Billing &amp; Invoicing</td>\n",
       "      <td>We accept major credit cards (Visa, MasterCard...</td>\n",
       "      <td>https://help.example.com/billing/payment-methods</td>\n",
       "      <td>payment, credit card, PayPal</td>\n",
       "    </tr>\n",
       "    <tr>\n",
       "      <th>2</th>\n",
       "      <td>2</td>\n",
       "      <td>Can I integrate your service with Salesforce?</td>\n",
       "      <td>Technical</td>\n",
       "      <td>Integrations</td>\n",
       "      <td>Integration Setup</td>\n",
       "      <td>API &amp; Integrations</td>\n",
       "      <td>Yes, we offer a Salesforce integration. You ca...</td>\n",
       "      <td>https://developers.example.com/integrations/sa...</td>\n",
       "      <td>Salesforce, integration, API</td>\n",
       "    </tr>\n",
       "    <tr>\n",
       "      <th>3</th>\n",
       "      <td>3</td>\n",
       "      <td>How do I add a new user to my account?</td>\n",
       "      <td>Account</td>\n",
       "      <td>User Management</td>\n",
       "      <td>Add User</td>\n",
       "      <td>User Roles &amp; Permissions</td>\n",
       "      <td>To add a new user, go to 'Settings' &gt; 'User Ma...</td>\n",
       "      <td>https://help.example.com/account/adding-users</td>\n",
       "      <td>add user, invite, user management</td>\n",
       "    </tr>\n",
       "    <tr>\n",
       "      <th>4</th>\n",
       "      <td>4</td>\n",
       "      <td>What's included in the Enterprise plan?</td>\n",
       "      <td>General Inquiry</td>\n",
       "      <td>Pricing &amp; Plans</td>\n",
       "      <td>Plan Information</td>\n",
       "      <td>Subscription Management</td>\n",
       "      <td>Our Enterprise plan includes unlimited users, ...</td>\n",
       "      <td>https://www.example.com/pricing</td>\n",
       "      <td>Enterprise plan, pricing, features</td>\n",
       "    </tr>\n",
       "  </tbody>\n",
       "</table>\n",
       "</div>"
      ],
      "text/plain": [
       "   id                                       question         category  \\\n",
       "0   0                    How do I reset my password?          Account   \n",
       "1   1            What payment methods do you accept?          Billing   \n",
       "2   2  Can I integrate your service with Salesforce?        Technical   \n",
       "3   3         How do I add a new user to my account?          Account   \n",
       "4   4        What's included in the Enterprise plan?  General Inquiry   \n",
       "\n",
       "           subcategory               intent            product_feature  \\\n",
       "0  Password Management    Password Recovery  Authentication & Security   \n",
       "1      Payment Options  Payment Information        Billing & Invoicing   \n",
       "2         Integrations    Integration Setup         API & Integrations   \n",
       "3      User Management             Add User   User Roles & Permissions   \n",
       "4      Pricing & Plans     Plan Information    Subscription Management   \n",
       "\n",
       "                                            response  \\\n",
       "0  To reset your password, click on the 'Forgot P...   \n",
       "1  We accept major credit cards (Visa, MasterCard...   \n",
       "2  Yes, we offer a Salesforce integration. You ca...   \n",
       "3  To add a new user, go to 'Settings' > 'User Ma...   \n",
       "4  Our Enterprise plan includes unlimited users, ...   \n",
       "\n",
       "                                    related_articles  \\\n",
       "0    https://help.example.com/account/reset-password   \n",
       "1   https://help.example.com/billing/payment-methods   \n",
       "2  https://developers.example.com/integrations/sa...   \n",
       "3      https://help.example.com/account/adding-users   \n",
       "4                    https://www.example.com/pricing   \n",
       "\n",
       "                                 tags  \n",
       "0     password, reset, account access  \n",
       "1        payment, credit card, PayPal  \n",
       "2        Salesforce, integration, API  \n",
       "3   add user, invite, user management  \n",
       "4  Enterprise plan, pricing, features  "
      ]
     },
     "execution_count": 3,
     "metadata": {},
     "output_type": "execute_result"
    }
   ],
   "source": [
    "df = pd.read_csv('../data/data-clean.csv', sep=\",\")\n",
    "df.head()"
   ]
  },
  {
   "cell_type": "code",
   "execution_count": 5,
   "id": "250f23f8-5753-4dad-a03d-89a0ef057d32",
   "metadata": {},
   "outputs": [
    {
     "data": {
      "text/plain": [
       "(125, 9)"
      ]
     },
     "execution_count": 5,
     "metadata": {},
     "output_type": "execute_result"
    }
   ],
   "source": [
    "df.shape"
   ]
  },
  {
   "cell_type": "code",
   "execution_count": 6,
   "id": "1124d1f1-febe-4cc0-b772-bc2a62574946",
   "metadata": {},
   "outputs": [
    {
     "data": {
      "text/plain": [
       "Index(['id', 'question', 'category', 'subcategory', 'intent',\n",
       "       'product_feature', 'response', 'related_articles', 'tags'],\n",
       "      dtype='object')"
      ]
     },
     "execution_count": 6,
     "metadata": {},
     "output_type": "execute_result"
    }
   ],
   "source": [
    "df.columns"
   ]
  },
  {
   "cell_type": "code",
   "execution_count": 7,
   "id": "e1d95d89-f9bb-4058-9fc0-81800e01d464",
   "metadata": {},
   "outputs": [],
   "source": [
    "documents = df.to_dict(orient='records')"
   ]
  },
  {
   "cell_type": "code",
   "execution_count": 8,
   "id": "42a4c64e-607c-438e-b246-a1971f5b8ef4",
   "metadata": {},
   "outputs": [
    {
     "data": {
      "text/plain": [
       "{'id': 0,\n",
       " 'question': 'How do I reset my password?',\n",
       " 'category': 'Account',\n",
       " 'subcategory': 'Password Management',\n",
       " 'intent': 'Password Recovery',\n",
       " 'product_feature': 'Authentication & Security',\n",
       " 'response': \"To reset your password, click on the 'Forgot Password' link on the login page. Enter your email address, and we'll send you instructions to create a new password.\",\n",
       " 'related_articles': 'https://help.example.com/account/reset-password',\n",
       " 'tags': 'password, reset, account access'}"
      ]
     },
     "execution_count": 8,
     "metadata": {},
     "output_type": "execute_result"
    }
   ],
   "source": [
    "documents[0]"
   ]
  },
  {
   "cell_type": "code",
   "execution_count": 9,
   "id": "7ff4a045-5cdf-42f6-bbc4-fabcab27a08d",
   "metadata": {},
   "outputs": [],
   "source": [
    "index = minsearch.Index(\n",
    "    text_fields=['question', 'category', 'subcategory', 'intent',\n",
    "       'product_feature', 'response', 'related_articles', 'tags'],\n",
    "    keyword_fields=['id']\n",
    ")"
   ]
  },
  {
   "cell_type": "code",
   "execution_count": 10,
   "id": "37be3965-4e03-4785-abe0-00567c758f8b",
   "metadata": {},
   "outputs": [
    {
     "data": {
      "text/plain": [
       "<minsearch.Index at 0x7b18ec9640b0>"
      ]
     },
     "execution_count": 10,
     "metadata": {},
     "output_type": "execute_result"
    }
   ],
   "source": [
    "index.fit(documents)"
   ]
  },
  {
   "cell_type": "code",
   "execution_count": 11,
   "id": "74c70bd3-ec4e-4457-b3c6-a9b28afcbb73",
   "metadata": {},
   "outputs": [],
   "source": [
    "query = 'How do I integrate your API with my CRM?'"
   ]
  },
  {
   "cell_type": "code",
   "execution_count": 12,
   "id": "6dba9dd9-fbda-468b-bbf1-32cfdd2dbc87",
   "metadata": {},
   "outputs": [
    {
     "data": {
      "text/plain": [
       "[{'id': 12,\n",
       "  'question': 'What APIs do you offer?',\n",
       "  'category': 'Technical',\n",
       "  'subcategory': 'API',\n",
       "  'intent': 'API Information',\n",
       "  'product_feature': 'API & Integrations',\n",
       "  'response': 'We offer RESTful APIs for most of our services, including data retrieval, user management, and reporting. Full documentation, including endpoints and example requests, can be found in our API documentation.',\n",
       "  'related_articles': 'https://developers.example.com/api',\n",
       "  'tags': 'API, integration, development'},\n",
       " {'id': 41,\n",
       "  'question': 'How do I generate an API token?',\n",
       "  'category': 'Technical',\n",
       "  'subcategory': 'API',\n",
       "  'intent': 'Generate API Token',\n",
       "  'product_feature': 'API & Integrations',\n",
       "  'response': \"To generate an API token, go to 'Settings' > 'API & Integrations' > 'API Tokens'. Click 'Generate New Token', give it a name and set the expiration. Copy the token immediately as it won't be displayed again. Remember to keep your tokens secure.\",\n",
       "  'related_articles': 'https://developers.example.com/api/authentication',\n",
       "  'tags': 'API, token, security'},\n",
       " {'id': 18,\n",
       "  'question': 'How do I generate an API key?',\n",
       "  'category': 'Technical',\n",
       "  'subcategory': 'API',\n",
       "  'intent': 'Generate API Key',\n",
       "  'product_feature': 'API & Integrations',\n",
       "  'response': \"To generate an API key, go to 'Settings' > 'API & Integrations' > 'API Keys'. Click 'Generate New Key', give it a name, and select the appropriate permissions. Remember to copy the key immediately, as it won't be displayed again.\",\n",
       "  'related_articles': 'https://developers.example.com/api/authentication',\n",
       "  'tags': 'API key, integration, security'},\n",
       " {'id': 79,\n",
       "  'question': 'How do I use the API pagination feature?',\n",
       "  'category': 'Technical',\n",
       "  'subcategory': 'API',\n",
       "  'intent': 'API Pagination',\n",
       "  'product_feature': 'API & Integrations',\n",
       "  'response': \"Our API uses cursor-based pagination for list endpoints. Include a 'limit' parameter to set the page size. The response includes a 'next_cursor' field if there are more results. To get the next page, include this cursor value in your next request as the 'cursor' parameter.\",\n",
       "  'related_articles': 'https://developers.example.com/api/pagination',\n",
       "  'tags': 'API, pagination, data retrieval'},\n",
       " {'id': 34,\n",
       "  'question': 'Can I use your API with Python?',\n",
       "  'category': 'Technical',\n",
       "  'subcategory': 'API',\n",
       "  'intent': 'API Usage',\n",
       "  'product_feature': 'API & Integrations',\n",
       "  'response': 'Yes, our API can be used with Python. We provide a Python SDK that simplifies API interactions. You can find installation instructions, code examples, and full documentation in our Developer Center. Make sure to use Python 3.6 or later for compatibility.',\n",
       "  'related_articles': 'https://developers.example.com/python-sdk',\n",
       "  'tags': 'API, Python, integration'},\n",
       " {'id': 63,\n",
       "  'question': 'How do I use the API to create new users?',\n",
       "  'category': 'Technical',\n",
       "  'subcategory': 'API',\n",
       "  'intent': 'User Creation via API',\n",
       "  'product_feature': 'API & Integrations',\n",
       "  'response': \"To create users via API, use the POST /users endpoint. Send a JSON payload with the user's details (email, name, role, etc.). You'll need to authenticate with an API key that has user management permissions. Refer to our API docs for full details and examples.\",\n",
       "  'related_articles': 'https://developers.example.com/api/users',\n",
       "  'tags': 'API, user management, integration'},\n",
       " {'id': 93,\n",
       "  'question': 'How do I use the GraphQL API?',\n",
       "  'category': 'Technical',\n",
       "  'subcategory': 'API',\n",
       "  'intent': 'GraphQL Usage',\n",
       "  'product_feature': 'API & Integrations',\n",
       "  'response': \"To use our GraphQL API, send POST requests to the /graphql endpoint with your query in the request body. You'll need to authenticate with an API key in the Authorization header. Use introspection to explore available types and fields. We provide client libraries for popular languages.\",\n",
       "  'related_articles': 'https://developers.example.com/api/graphql',\n",
       "  'tags': 'GraphQL, API, data querying'},\n",
       " {'id': 87,\n",
       "  'question': 'How do I use the bulk update API?',\n",
       "  'category': 'Technical',\n",
       "  'subcategory': 'API',\n",
       "  'intent': 'Bulk Update Operations',\n",
       "  'product_feature': 'API & Integrations',\n",
       "  'response': 'To use the bulk update API, send a POST request to the /bulk-update endpoint with an array of objects to update. Each object should include an ID and the fields to update. The API processes these in batches for efficiency. Check the response for success status and any error details.',\n",
       "  'related_articles': 'https://developers.example.com/api/bulk-update',\n",
       "  'tags': 'API, bulk update, data management'},\n",
       " {'id': 47,\n",
       "  'question': 'How do I set up webhooks?',\n",
       "  'category': 'Technical',\n",
       "  'subcategory': 'API',\n",
       "  'intent': 'Webhook Setup',\n",
       "  'product_feature': 'API & Integrations',\n",
       "  'response': \"To set up webhooks, go to 'Settings' > 'API & Integrations' > 'Webhooks'. Click 'Add Webhook', enter the destination URL, select the events you want to trigger the webhook, and save. You can test the webhook before activating it in your production environment.\",\n",
       "  'related_articles': 'https://developers.example.com/webhooks',\n",
       "  'tags': 'webhooks, API, integration'},\n",
       " {'id': 97,\n",
       "  'question': 'How do I use the recommendation engine API?',\n",
       "  'category': 'Technical',\n",
       "  'subcategory': 'API',\n",
       "  'intent': 'Recommendation Engine Usage',\n",
       "  'product_feature': 'AI & Machine Learning',\n",
       "  'response': 'To use the recommendation engine API, send a POST request to /recommendations with user_id and context parameters. The API returns personalized recommendations based on user behavior and item characteristics. You can fine-tune recommendations by adjusting weights in the request.',\n",
       "  'related_articles': 'https://developers.example.com/api/recommendations',\n",
       "  'tags': 'API, recommendations, machine learning'}]"
      ]
     },
     "execution_count": 12,
     "metadata": {},
     "output_type": "execute_result"
    }
   ],
   "source": [
    "index.search(query, num_results=10)"
   ]
  },
  {
   "cell_type": "markdown",
   "id": "d894e3e0-b1a1-4307-a443-3b1a5d9b00eb",
   "metadata": {},
   "source": [
    "## RAG Flow"
   ]
  },
  {
   "cell_type": "code",
   "execution_count": 13,
   "id": "c970265d-3405-48e1-8f02-8e9cd3c84cbc",
   "metadata": {},
   "outputs": [],
   "source": [
    "client = OpenAI(api_key = 'YOUR_KEY')"
   ]
  },
  {
   "cell_type": "code",
   "execution_count": 14,
   "id": "ca422f77-6b38-4492-bcf1-661a981b6ad4",
   "metadata": {},
   "outputs": [],
   "source": [
    "def search(query):\n",
    "    boost = {}\n",
    "\n",
    "    results = index.search(\n",
    "        query=query,\n",
    "        filter_dict={},\n",
    "        boost_dict=boost,\n",
    "        num_results=10\n",
    "    )\n",
    "\n",
    "    return results"
   ]
  },
  {
   "cell_type": "code",
   "execution_count": 15,
   "id": "bae6b46c-3016-4b53-bb6c-a51693f9c260",
   "metadata": {},
   "outputs": [],
   "source": [
    "prompt_template = \"\"\"\n",
    "You're a B2B SaaS company's customer support analyst. Answer the QUESTION based on the CONTEXT from our support queue knowledge database.\n",
    "Use only the facts from the CONTEXT when answering the QUESTION.\n",
    "\n",
    "QUESTION: {question}\n",
    "\n",
    "CONTEXT:\n",
    "{context}\n",
    "\"\"\".strip()\n",
    "\n",
    "entry_template = \"\"\"\n",
    "question: {question}\n",
    "category: {category}\n",
    "subcategory: {subcategory}\n",
    "intent: {intent}\n",
    "product_feature: {product_feature}\n",
    "response: {response}\n",
    "related_articles: {related_articles}\n",
    "tags: {tags}\n",
    "\"\"\".strip()\n",
    "\n",
    "def build_prompt(query, search_results):\n",
    "    context = \"\"\n",
    "    \n",
    "    for doc in search_results:\n",
    "        context = context + entry_template.format(**doc) + \"\\n\\n\"\n",
    "\n",
    "    prompt = prompt_template.format(question=query, context=context).strip()\n",
    "    return prompt"
   ]
  },
  {
   "cell_type": "code",
   "execution_count": 16,
   "id": "f099289d-4556-4eaf-83cc-0730be70b740",
   "metadata": {},
   "outputs": [],
   "source": [
    "def llm(prompt, model='gpt-4o-mini'):\n",
    "    response = client.chat.completions.create(\n",
    "        model=model,\n",
    "        messages=[{\"role\": \"user\", \"content\": prompt}]\n",
    "    )\n",
    "    \n",
    "    return response.choices[0].message.content"
   ]
  },
  {
   "cell_type": "code",
   "execution_count": 17,
   "id": "6269394a-2f04-419d-bf94-b4af69b9297f",
   "metadata": {},
   "outputs": [],
   "source": [
    "def rag(query, model='gpt-4o-mini'):\n",
    "    search_results = search(query)\n",
    "    prompt = build_prompt(query, search_results)\n",
    "    #print(prompt)\n",
    "    answer = llm(prompt, model=model)\n",
    "    return answer"
   ]
  },
  {
   "cell_type": "code",
   "execution_count": 18,
   "id": "4e1f3c83-7e82-4956-a4cc-546c67372e0c",
   "metadata": {},
   "outputs": [
    {
     "name": "stdout",
     "output_type": "stream",
     "text": [
      "To reset your password, click on the 'Forgot Password' link on the login page. Enter your email address, and we'll send you instructions to create a new password. For more details, you can also visit our help article: [Reset Password](https://help.example.com/account/reset-password).\n"
     ]
    }
   ],
   "source": [
    "question = 'How can I reset my password?'\n",
    "answer = rag(question)\n",
    "print(answer)"
   ]
  },
  {
   "cell_type": "code",
   "execution_count": 19,
   "id": "a6f34caa-60cb-4df2-a51d-b5f70b325e35",
   "metadata": {},
   "outputs": [
    {
     "name": "stdout",
     "output_type": "stream",
     "text": [
      "To set up an enterprise account, you should contact our sales team to discuss your organization's size and needs. They will help you create a tailored enterprise license proposal, which typically includes unlimited users, priority support, and custom terms. For more information, visit [this link](https://www.example.com/enterprise-licensing).\n"
     ]
    }
   ],
   "source": [
    "question = 'How can I setup enterprise account?'\n",
    "answer = rag(question)\n",
    "print(answer)"
   ]
  },
  {
   "cell_type": "markdown",
   "id": "2f636c0a-d9c3-4160-9a60-11212a5b9819",
   "metadata": {},
   "source": [
    "## Retrieval evaluation\n",
    "\n",
    "Make sure that ground truth data was generated using `evaluation-data-generation.ipynb`"
   ]
  },
  {
   "cell_type": "code",
   "execution_count": 20,
   "id": "0a2800b6-5dc8-4888-b432-11f42e17f035",
   "metadata": {},
   "outputs": [],
   "source": [
    "df_question = pd.read_csv('../data/ground-truth-retrieval.csv')"
   ]
  },
  {
   "cell_type": "code",
   "execution_count": 21,
   "id": "47ac04ce-38de-48ca-bfbe-e7bf919d362c",
   "metadata": {},
   "outputs": [
    {
     "data": {
      "text/html": [
       "<div>\n",
       "<style scoped>\n",
       "    .dataframe tbody tr th:only-of-type {\n",
       "        vertical-align: middle;\n",
       "    }\n",
       "\n",
       "    .dataframe tbody tr th {\n",
       "        vertical-align: top;\n",
       "    }\n",
       "\n",
       "    .dataframe thead th {\n",
       "        text-align: right;\n",
       "    }\n",
       "</style>\n",
       "<table border=\"1\" class=\"dataframe\">\n",
       "  <thead>\n",
       "    <tr style=\"text-align: right;\">\n",
       "      <th></th>\n",
       "      <th>id</th>\n",
       "      <th>question</th>\n",
       "    </tr>\n",
       "  </thead>\n",
       "  <tbody>\n",
       "    <tr>\n",
       "      <th>0</th>\n",
       "      <td>0</td>\n",
       "      <td>What steps do I need to follow to reset my pas...</td>\n",
       "    </tr>\n",
       "    <tr>\n",
       "      <th>1</th>\n",
       "      <td>0</td>\n",
       "      <td>Can you guide me through the password recovery...</td>\n",
       "    </tr>\n",
       "    <tr>\n",
       "      <th>2</th>\n",
       "      <td>0</td>\n",
       "      <td>Where can I find the link to reset my password...</td>\n",
       "    </tr>\n",
       "    <tr>\n",
       "      <th>3</th>\n",
       "      <td>0</td>\n",
       "      <td>Is there a specific email address I need to us...</td>\n",
       "    </tr>\n",
       "    <tr>\n",
       "      <th>4</th>\n",
       "      <td>0</td>\n",
       "      <td>What resources are available if I encounter is...</td>\n",
       "    </tr>\n",
       "    <tr>\n",
       "      <th>...</th>\n",
       "      <td>...</td>\n",
       "      <td>...</td>\n",
       "    </tr>\n",
       "    <tr>\n",
       "      <th>620</th>\n",
       "      <td>124</td>\n",
       "      <td>What are the steps to create a custom workflow...</td>\n",
       "    </tr>\n",
       "    <tr>\n",
       "      <th>621</th>\n",
       "      <td>124</td>\n",
       "      <td>Can I integrate external systems when setting ...</td>\n",
       "    </tr>\n",
       "    <tr>\n",
       "      <th>622</th>\n",
       "      <td>124</td>\n",
       "      <td>How does the Workflow Builder help in automati...</td>\n",
       "    </tr>\n",
       "    <tr>\n",
       "      <th>623</th>\n",
       "      <td>124</td>\n",
       "      <td>Is there a way to test my custom workflow befo...</td>\n",
       "    </tr>\n",
       "    <tr>\n",
       "      <th>624</th>\n",
       "      <td>124</td>\n",
       "      <td>What kind of logic can I incorporate into my c...</td>\n",
       "    </tr>\n",
       "  </tbody>\n",
       "</table>\n",
       "<p>625 rows × 2 columns</p>\n",
       "</div>"
      ],
      "text/plain": [
       "      id                                           question\n",
       "0      0  What steps do I need to follow to reset my pas...\n",
       "1      0  Can you guide me through the password recovery...\n",
       "2      0  Where can I find the link to reset my password...\n",
       "3      0  Is there a specific email address I need to us...\n",
       "4      0  What resources are available if I encounter is...\n",
       "..   ...                                                ...\n",
       "620  124  What are the steps to create a custom workflow...\n",
       "621  124  Can I integrate external systems when setting ...\n",
       "622  124  How does the Workflow Builder help in automati...\n",
       "623  124  Is there a way to test my custom workflow befo...\n",
       "624  124  What kind of logic can I incorporate into my c...\n",
       "\n",
       "[625 rows x 2 columns]"
      ]
     },
     "execution_count": 21,
     "metadata": {},
     "output_type": "execute_result"
    }
   ],
   "source": [
    "df_question"
   ]
  },
  {
   "cell_type": "code",
   "execution_count": 22,
   "id": "9bf70d02-703b-4349-bfb8-1942d0585f43",
   "metadata": {},
   "outputs": [],
   "source": [
    "ground_truth = df_question.to_dict(orient='records')"
   ]
  },
  {
   "cell_type": "code",
   "execution_count": 23,
   "id": "d9836ff7-eaab-4185-8e47-8a242dcf426d",
   "metadata": {},
   "outputs": [
    {
     "data": {
      "text/plain": [
       "{'id': 0,\n",
       " 'question': 'What steps do I need to follow to reset my password for my account?'}"
      ]
     },
     "execution_count": 23,
     "metadata": {},
     "output_type": "execute_result"
    }
   ],
   "source": [
    "ground_truth[0]"
   ]
  },
  {
   "cell_type": "code",
   "execution_count": 24,
   "id": "211b700b-4346-4982-a8d8-c54dec522532",
   "metadata": {},
   "outputs": [],
   "source": [
    "def hit_rate(relevance_total):\n",
    "    cnt = 0\n",
    "\n",
    "    for line in relevance_total:\n",
    "        if True in line:\n",
    "            cnt = cnt + 1\n",
    "\n",
    "    return cnt / len(relevance_total)\n",
    "\n",
    "def mrr(relevance_total):\n",
    "    total_score = 0.0\n",
    "\n",
    "    for line in relevance_total:\n",
    "        for rank in range(len(line)):\n",
    "            if line[rank] == True:\n",
    "                total_score = total_score + 1 / (rank + 1)\n",
    "\n",
    "    return total_score / len(relevance_total)"
   ]
  },
  {
   "cell_type": "code",
   "execution_count": 25,
   "id": "8163518a-12ef-4d46-80ea-7471e0c19a5e",
   "metadata": {},
   "outputs": [],
   "source": [
    "def minsearch_search(query):\n",
    "    boost = {}\n",
    "\n",
    "    results = index.search(\n",
    "        query=query,\n",
    "        filter_dict={},\n",
    "        boost_dict=boost,\n",
    "        num_results=10\n",
    "    )\n",
    "\n",
    "    return results"
   ]
  },
  {
   "cell_type": "code",
   "execution_count": 26,
   "id": "46ad0ad2-c737-4979-a426-715080071bc6",
   "metadata": {},
   "outputs": [],
   "source": [
    "def evaluate(ground_truth, search_function):\n",
    "    relevance_total = []\n",
    "\n",
    "    for q in tqdm(ground_truth):\n",
    "        doc_id = q['id']\n",
    "        results = search_function(q)\n",
    "        relevance = [d['id'] == doc_id for d in results]\n",
    "        relevance_total.append(relevance)\n",
    "\n",
    "    return {\n",
    "        'hit_rate': hit_rate(relevance_total),\n",
    "        'mrr': mrr(relevance_total),\n",
    "    }"
   ]
  },
  {
   "cell_type": "code",
   "execution_count": 27,
   "id": "55453e32-d1b0-4c0a-9ed3-2931e01d7f60",
   "metadata": {},
   "outputs": [
    {
     "data": {
      "application/vnd.jupyter.widget-view+json": {
       "model_id": "743baeb278f8457497f5a7cc99acee8d",
       "version_major": 2,
       "version_minor": 0
      },
      "text/plain": [
       "  0%|          | 0/625 [00:00<?, ?it/s]"
      ]
     },
     "metadata": {},
     "output_type": "display_data"
    },
    {
     "data": {
      "text/plain": [
       "{'hit_rate': 0.968, 'mrr': 0.834332698412698}"
      ]
     },
     "execution_count": 27,
     "metadata": {},
     "output_type": "execute_result"
    }
   ],
   "source": [
    "evaluate(ground_truth, lambda q: minsearch_search(q['question']))"
   ]
  },
  {
   "cell_type": "markdown",
   "id": "41c75606-9638-4709-a6e9-418607bed598",
   "metadata": {},
   "source": [
    "## Finding the best parameters"
   ]
  },
  {
   "cell_type": "code",
   "execution_count": 29,
   "id": "9104cffa-7827-4dcd-a33e-ab9823be96cb",
   "metadata": {},
   "outputs": [],
   "source": [
    "df_validation = df_question[:60]\n",
    "df_test = df_question[60:]"
   ]
  },
  {
   "cell_type": "code",
   "execution_count": 33,
   "id": "466d6b3c-37f9-4825-8baa-e4af44d2af68",
   "metadata": {},
   "outputs": [
    {
     "data": {
      "text/plain": [
       "((60, 2), (565, 2))"
      ]
     },
     "execution_count": 33,
     "metadata": {},
     "output_type": "execute_result"
    }
   ],
   "source": [
    "df_validation.shape, df_test.shape"
   ]
  },
  {
   "cell_type": "code",
   "execution_count": 31,
   "id": "8c51b078-d7d2-4629-8147-0d4058febeec",
   "metadata": {},
   "outputs": [
    {
     "data": {
      "text/html": [
       "<div>\n",
       "<style scoped>\n",
       "    .dataframe tbody tr th:only-of-type {\n",
       "        vertical-align: middle;\n",
       "    }\n",
       "\n",
       "    .dataframe tbody tr th {\n",
       "        vertical-align: top;\n",
       "    }\n",
       "\n",
       "    .dataframe thead th {\n",
       "        text-align: right;\n",
       "    }\n",
       "</style>\n",
       "<table border=\"1\" class=\"dataframe\">\n",
       "  <thead>\n",
       "    <tr style=\"text-align: right;\">\n",
       "      <th></th>\n",
       "      <th>id</th>\n",
       "      <th>question</th>\n",
       "    </tr>\n",
       "  </thead>\n",
       "  <tbody>\n",
       "    <tr>\n",
       "      <th>60</th>\n",
       "      <td>12</td>\n",
       "      <td>What types of APIs does your company provide?</td>\n",
       "    </tr>\n",
       "    <tr>\n",
       "      <th>61</th>\n",
       "      <td>12</td>\n",
       "      <td>Can you explain the capabilities of your APIs ...</td>\n",
       "    </tr>\n",
       "    <tr>\n",
       "      <th>62</th>\n",
       "      <td>12</td>\n",
       "      <td>Where can I find the documentation for your APIs?</td>\n",
       "    </tr>\n",
       "    <tr>\n",
       "      <th>63</th>\n",
       "      <td>12</td>\n",
       "      <td>Do your APIs support user management functiona...</td>\n",
       "    </tr>\n",
       "    <tr>\n",
       "      <th>64</th>\n",
       "      <td>12</td>\n",
       "      <td>Are example requests included in your API docu...</td>\n",
       "    </tr>\n",
       "    <tr>\n",
       "      <th>...</th>\n",
       "      <td>...</td>\n",
       "      <td>...</td>\n",
       "    </tr>\n",
       "    <tr>\n",
       "      <th>620</th>\n",
       "      <td>124</td>\n",
       "      <td>What are the steps to create a custom workflow...</td>\n",
       "    </tr>\n",
       "    <tr>\n",
       "      <th>621</th>\n",
       "      <td>124</td>\n",
       "      <td>Can I integrate external systems when setting ...</td>\n",
       "    </tr>\n",
       "    <tr>\n",
       "      <th>622</th>\n",
       "      <td>124</td>\n",
       "      <td>How does the Workflow Builder help in automati...</td>\n",
       "    </tr>\n",
       "    <tr>\n",
       "      <th>623</th>\n",
       "      <td>124</td>\n",
       "      <td>Is there a way to test my custom workflow befo...</td>\n",
       "    </tr>\n",
       "    <tr>\n",
       "      <th>624</th>\n",
       "      <td>124</td>\n",
       "      <td>What kind of logic can I incorporate into my c...</td>\n",
       "    </tr>\n",
       "  </tbody>\n",
       "</table>\n",
       "<p>565 rows × 2 columns</p>\n",
       "</div>"
      ],
      "text/plain": [
       "      id                                           question\n",
       "60    12      What types of APIs does your company provide?\n",
       "61    12  Can you explain the capabilities of your APIs ...\n",
       "62    12  Where can I find the documentation for your APIs?\n",
       "63    12  Do your APIs support user management functiona...\n",
       "64    12  Are example requests included in your API docu...\n",
       "..   ...                                                ...\n",
       "620  124  What are the steps to create a custom workflow...\n",
       "621  124  Can I integrate external systems when setting ...\n",
       "622  124  How does the Workflow Builder help in automati...\n",
       "623  124  Is there a way to test my custom workflow befo...\n",
       "624  124  What kind of logic can I incorporate into my c...\n",
       "\n",
       "[565 rows x 2 columns]"
      ]
     },
     "execution_count": 31,
     "metadata": {},
     "output_type": "execute_result"
    }
   ],
   "source": [
    "df_test"
   ]
  },
  {
   "cell_type": "code",
   "execution_count": 34,
   "id": "bb85e173-067d-4949-8f44-0d530b8d9051",
   "metadata": {},
   "outputs": [],
   "source": [
    "import random\n",
    "\n",
    "def simple_optimize(param_ranges, objective_function, n_iterations=10):\n",
    "    best_params = None\n",
    "    best_score = float('-inf')  # Assuming we're minimizing. Use float('-inf') if maximizing.\n",
    "\n",
    "    for _ in range(n_iterations):\n",
    "        # Generate random parameters\n",
    "        current_params = {}\n",
    "        for param, (min_val, max_val) in param_ranges.items():\n",
    "            if isinstance(min_val, int) and isinstance(max_val, int):\n",
    "                current_params[param] = random.randint(min_val, max_val)\n",
    "            else:\n",
    "                current_params[param] = random.uniform(min_val, max_val)\n",
    "        \n",
    "        # Evaluate the objective function\n",
    "        current_score = objective_function(current_params)\n",
    "        \n",
    "        # Update best if current is better\n",
    "        if current_score > best_score:  # Change to > if maximizing\n",
    "            best_score = current_score\n",
    "            best_params = current_params\n",
    "    \n",
    "    return best_params, best_score"
   ]
  },
  {
   "cell_type": "code",
   "execution_count": 35,
   "id": "07c9d7ac-769f-4e3f-95d1-358ee0429b67",
   "metadata": {},
   "outputs": [],
   "source": [
    "gt_val = df_validation.to_dict(orient='records')"
   ]
  },
  {
   "cell_type": "code",
   "execution_count": 36,
   "id": "f4577c3b-17e8-4f75-a2c8-3737aac02fec",
   "metadata": {},
   "outputs": [],
   "source": [
    "def minsearch_search(query, boost=None):\n",
    "    if boost is None:\n",
    "        boost = {}\n",
    "\n",
    "    results = index.search(\n",
    "        query=query,\n",
    "        filter_dict={},\n",
    "        boost_dict=boost,\n",
    "        num_results=10\n",
    "    )\n",
    "\n",
    "    return results"
   ]
  },
  {
   "cell_type": "code",
   "execution_count": 37,
   "id": "77e10549-98ab-40e7-9463-fd672bb2e608",
   "metadata": {},
   "outputs": [],
   "source": [
    "param_ranges = {\n",
    "    'question': (0.0, 3.0),\n",
    "    'category': (0.0, 3.0),\n",
    "    'subcategory': (0.0, 3.0),\n",
    "    'intent': (0.0, 3.0),\n",
    "    'product_feature': (0.0, 3.0),\n",
    "    'response': (0.0, 3.0),\n",
    "    'related_articles': (0.0, 3.0),\n",
    "    'tags': (0.0, 3.0),\n",
    "}\n",
    "\n",
    "def objective(boost_params):\n",
    "    def search_function(q):\n",
    "        return minsearch_search(q['question'], boost_params)\n",
    "\n",
    "    results = evaluate(gt_val, search_function)\n",
    "    return results['mrr']"
   ]
  },
  {
   "cell_type": "code",
   "execution_count": 38,
   "id": "9fafe336-cb51-48f1-9dd9-b9d26701cd2d",
   "metadata": {},
   "outputs": [
    {
     "data": {
      "application/vnd.jupyter.widget-view+json": {
       "model_id": "d6525ec5f8d345ad839fe8dc0f464909",
       "version_major": 2,
       "version_minor": 0
      },
      "text/plain": [
       "  0%|          | 0/60 [00:00<?, ?it/s]"
      ]
     },
     "metadata": {},
     "output_type": "display_data"
    },
    {
     "data": {
      "application/vnd.jupyter.widget-view+json": {
       "model_id": "788fb9d9c3c7470a8b9837d5b25e1174",
       "version_major": 2,
       "version_minor": 0
      },
      "text/plain": [
       "  0%|          | 0/60 [00:00<?, ?it/s]"
      ]
     },
     "metadata": {},
     "output_type": "display_data"
    },
    {
     "data": {
      "application/vnd.jupyter.widget-view+json": {
       "model_id": "e5d4394848fb4ca9af714f5be74ea855",
       "version_major": 2,
       "version_minor": 0
      },
      "text/plain": [
       "  0%|          | 0/60 [00:00<?, ?it/s]"
      ]
     },
     "metadata": {},
     "output_type": "display_data"
    },
    {
     "data": {
      "application/vnd.jupyter.widget-view+json": {
       "model_id": "c26a8246fe0b4e4395ba8ba6c10f97d2",
       "version_major": 2,
       "version_minor": 0
      },
      "text/plain": [
       "  0%|          | 0/60 [00:00<?, ?it/s]"
      ]
     },
     "metadata": {},
     "output_type": "display_data"
    },
    {
     "data": {
      "application/vnd.jupyter.widget-view+json": {
       "model_id": "24633f64de2f4d99a5bfe70d1b77a11c",
       "version_major": 2,
       "version_minor": 0
      },
      "text/plain": [
       "  0%|          | 0/60 [00:00<?, ?it/s]"
      ]
     },
     "metadata": {},
     "output_type": "display_data"
    },
    {
     "data": {
      "application/vnd.jupyter.widget-view+json": {
       "model_id": "ddcc3c12481f4aeda5a0ee669fa23d1a",
       "version_major": 2,
       "version_minor": 0
      },
      "text/plain": [
       "  0%|          | 0/60 [00:00<?, ?it/s]"
      ]
     },
     "metadata": {},
     "output_type": "display_data"
    },
    {
     "data": {
      "application/vnd.jupyter.widget-view+json": {
       "model_id": "5f7b90f9c01d4c49bda20fbf66ab729b",
       "version_major": 2,
       "version_minor": 0
      },
      "text/plain": [
       "  0%|          | 0/60 [00:00<?, ?it/s]"
      ]
     },
     "metadata": {},
     "output_type": "display_data"
    },
    {
     "data": {
      "application/vnd.jupyter.widget-view+json": {
       "model_id": "59d29d30719344c5a37d464ece2d143c",
       "version_major": 2,
       "version_minor": 0
      },
      "text/plain": [
       "  0%|          | 0/60 [00:00<?, ?it/s]"
      ]
     },
     "metadata": {},
     "output_type": "display_data"
    },
    {
     "data": {
      "application/vnd.jupyter.widget-view+json": {
       "model_id": "edecb79a17034a809dc284bf3a22b3b5",
       "version_major": 2,
       "version_minor": 0
      },
      "text/plain": [
       "  0%|          | 0/60 [00:00<?, ?it/s]"
      ]
     },
     "metadata": {},
     "output_type": "display_data"
    },
    {
     "data": {
      "application/vnd.jupyter.widget-view+json": {
       "model_id": "3ade7caa4ba842c7b7355d842d2b01a8",
       "version_major": 2,
       "version_minor": 0
      },
      "text/plain": [
       "  0%|          | 0/60 [00:00<?, ?it/s]"
      ]
     },
     "metadata": {},
     "output_type": "display_data"
    },
    {
     "data": {
      "application/vnd.jupyter.widget-view+json": {
       "model_id": "73a60e8b607a41249862e451d016981d",
       "version_major": 2,
       "version_minor": 0
      },
      "text/plain": [
       "  0%|          | 0/60 [00:00<?, ?it/s]"
      ]
     },
     "metadata": {},
     "output_type": "display_data"
    },
    {
     "data": {
      "application/vnd.jupyter.widget-view+json": {
       "model_id": "8ef6700300c14e808bfb86eb9d3cb68c",
       "version_major": 2,
       "version_minor": 0
      },
      "text/plain": [
       "  0%|          | 0/60 [00:00<?, ?it/s]"
      ]
     },
     "metadata": {},
     "output_type": "display_data"
    },
    {
     "data": {
      "application/vnd.jupyter.widget-view+json": {
       "model_id": "2c260efa23da463c92b2f864508d4ff8",
       "version_major": 2,
       "version_minor": 0
      },
      "text/plain": [
       "  0%|          | 0/60 [00:00<?, ?it/s]"
      ]
     },
     "metadata": {},
     "output_type": "display_data"
    },
    {
     "data": {
      "application/vnd.jupyter.widget-view+json": {
       "model_id": "20ca27937843417282f414aec03ec133",
       "version_major": 2,
       "version_minor": 0
      },
      "text/plain": [
       "  0%|          | 0/60 [00:00<?, ?it/s]"
      ]
     },
     "metadata": {},
     "output_type": "display_data"
    },
    {
     "data": {
      "application/vnd.jupyter.widget-view+json": {
       "model_id": "b28f82a0972d4f09b69b8434f77d6aef",
       "version_major": 2,
       "version_minor": 0
      },
      "text/plain": [
       "  0%|          | 0/60 [00:00<?, ?it/s]"
      ]
     },
     "metadata": {},
     "output_type": "display_data"
    },
    {
     "data": {
      "application/vnd.jupyter.widget-view+json": {
       "model_id": "3b3bf244d63d4c0592d221eef73e0bb8",
       "version_major": 2,
       "version_minor": 0
      },
      "text/plain": [
       "  0%|          | 0/60 [00:00<?, ?it/s]"
      ]
     },
     "metadata": {},
     "output_type": "display_data"
    },
    {
     "data": {
      "application/vnd.jupyter.widget-view+json": {
       "model_id": "ddc80379c6a24411aeadfab2f9887f52",
       "version_major": 2,
       "version_minor": 0
      },
      "text/plain": [
       "  0%|          | 0/60 [00:00<?, ?it/s]"
      ]
     },
     "metadata": {},
     "output_type": "display_data"
    },
    {
     "data": {
      "application/vnd.jupyter.widget-view+json": {
       "model_id": "fd1482ce903c4bb6a0c84812594e6df0",
       "version_major": 2,
       "version_minor": 0
      },
      "text/plain": [
       "  0%|          | 0/60 [00:00<?, ?it/s]"
      ]
     },
     "metadata": {},
     "output_type": "display_data"
    },
    {
     "data": {
      "application/vnd.jupyter.widget-view+json": {
       "model_id": "cb10bf50e0eb492980c50f54ff55858f",
       "version_major": 2,
       "version_minor": 0
      },
      "text/plain": [
       "  0%|          | 0/60 [00:00<?, ?it/s]"
      ]
     },
     "metadata": {},
     "output_type": "display_data"
    },
    {
     "data": {
      "application/vnd.jupyter.widget-view+json": {
       "model_id": "a7e89f493c6b4d90aecc3f462f4bc676",
       "version_major": 2,
       "version_minor": 0
      },
      "text/plain": [
       "  0%|          | 0/60 [00:00<?, ?it/s]"
      ]
     },
     "metadata": {},
     "output_type": "display_data"
    },
    {
     "data": {
      "text/plain": [
       "({'question': 2.3190067555885863,\n",
       "  'category': 0.34225912296078376,\n",
       "  'subcategory': 1.1971703133905314,\n",
       "  'intent': 1.5157268043510923,\n",
       "  'product_feature': 1.115129576114986,\n",
       "  'response': 2.511416656464337,\n",
       "  'related_articles': 0.23824890259412224,\n",
       "  'tags': 1.662920970854158},\n",
       " 0.8008531746031745)"
      ]
     },
     "execution_count": 38,
     "metadata": {},
     "output_type": "execute_result"
    }
   ],
   "source": [
    "simple_optimize(param_ranges, objective, n_iterations=20)"
   ]
  },
  {
   "cell_type": "code",
   "execution_count": 39,
   "id": "21ee762e-4734-4489-851a-a94e43ec46d5",
   "metadata": {},
   "outputs": [
    {
     "data": {
      "application/vnd.jupyter.widget-view+json": {
       "model_id": "7212160a379c4f8fbda88ef33adec4f4",
       "version_major": 2,
       "version_minor": 0
      },
      "text/plain": [
       "  0%|          | 0/625 [00:00<?, ?it/s]"
      ]
     },
     "metadata": {},
     "output_type": "display_data"
    },
    {
     "data": {
      "text/plain": [
       "{'hit_rate': 0.9744, 'mrr': 0.8697815873015872}"
      ]
     },
     "execution_count": 39,
     "metadata": {},
     "output_type": "execute_result"
    }
   ],
   "source": [
    "def minsearch_improved(query):\n",
    "    boost = {\n",
    "        'question': 2.32,\n",
    "        'category': 0.34,\n",
    "        'subcategory': 1.20,\n",
    "        'intent': 1.52,\n",
    "        'product_feature': 1.16,\n",
    "        'response': 2.51,\n",
    "        'related_articles': 0.24,\n",
    "        'tags': 1.66,\n",
    "    }\n",
    "\n",
    "    results = index.search(\n",
    "        query=query,\n",
    "        filter_dict={},\n",
    "        boost_dict=boost,\n",
    "        num_results=10\n",
    "    )\n",
    "\n",
    "    return results\n",
    "\n",
    "evaluate(ground_truth, lambda q: minsearch_improved(q['question']))"
   ]
  },
  {
   "cell_type": "markdown",
   "id": "8f7b4a14-188b-4205-a0c3-a2cae312fc14",
   "metadata": {},
   "source": [
    "## RAG evaluation\n",
    "\n",
    "Let's use LLM-as-a-judge"
   ]
  },
  {
   "cell_type": "code",
   "execution_count": 40,
   "id": "23576ed2-89e2-445b-b24e-f26270653046",
   "metadata": {},
   "outputs": [],
   "source": [
    "prompt2_template = \"\"\"\n",
    "You are an expert evaluator for a RAG system.\n",
    "Your task is to analyze the relevance of the generated answer to the given question.\n",
    "Based on the relevance of the generated answer, you will classify it\n",
    "as \"NON_RELEVANT\", \"PARTLY_RELEVANT\", or \"RELEVANT\".\n",
    "\n",
    "Here is the data for evaluation:\n",
    "\n",
    "Question: {question}\n",
    "Generated Answer: {answer_llm}\n",
    "\n",
    "Please analyze the content and context of the generated answer in relation to the question\n",
    "and provide your evaluation in parsable JSON without using code blocks:\n",
    "\n",
    "{{\n",
    "  \"Relevance\": \"NON_RELEVANT\" | \"PARTLY_RELEVANT\" | \"RELEVANT\",\n",
    "  \"Explanation\": \"[Provide a brief explanation for your evaluation]\"\n",
    "}}\n",
    "\"\"\".strip()"
   ]
  },
  {
   "cell_type": "code",
   "execution_count": 41,
   "id": "106c8a4e-9b89-4e58-9bbf-b3b74e12a882",
   "metadata": {},
   "outputs": [
    {
     "data": {
      "text/plain": [
       "625"
      ]
     },
     "execution_count": 41,
     "metadata": {},
     "output_type": "execute_result"
    }
   ],
   "source": [
    "len(ground_truth)"
   ]
  },
  {
   "cell_type": "code",
   "execution_count": 42,
   "id": "2cd5bb17-fa70-47d8-a0fe-fb74bc0d675c",
   "metadata": {},
   "outputs": [],
   "source": [
    "record = ground_truth[0]\n",
    "question = record['question']\n",
    "answer_llm = rag(question)"
   ]
  },
  {
   "cell_type": "code",
   "execution_count": 43,
   "id": "ffa3bdff-f842-4e86-80e0-cd9d3625cef3",
   "metadata": {},
   "outputs": [
    {
     "name": "stdout",
     "output_type": "stream",
     "text": [
      "To reset your password, follow these steps:\n",
      "\n",
      "1. Click on the 'Forgot Password' link on the login page.\n",
      "2. Enter your email address.\n",
      "3. Check your email for instructions to create a new password.\n",
      "\n",
      "For more details, you can refer to the related article: [Password Reset Instructions](https://help.example.com/account/reset-password).\n"
     ]
    }
   ],
   "source": [
    "print(answer_llm)"
   ]
  },
  {
   "cell_type": "code",
   "execution_count": 44,
   "id": "9e76810f-5d0f-426a-846c-f98c8dc0cfb4",
   "metadata": {},
   "outputs": [
    {
     "name": "stdout",
     "output_type": "stream",
     "text": [
      "You are an expert evaluator for a RAG system.\n",
      "Your task is to analyze the relevance of the generated answer to the given question.\n",
      "Based on the relevance of the generated answer, you will classify it\n",
      "as \"NON_RELEVANT\", \"PARTLY_RELEVANT\", or \"RELEVANT\".\n",
      "\n",
      "Here is the data for evaluation:\n",
      "\n",
      "Question: What steps do I need to follow to reset my password for my account?\n",
      "Generated Answer: To reset your password, follow these steps:\n",
      "\n",
      "1. Click on the 'Forgot Password' link on the login page.\n",
      "2. Enter your email address.\n",
      "3. Check your email for instructions to create a new password.\n",
      "\n",
      "For more details, you can refer to the related article: [Password Reset Instructions](https://help.example.com/account/reset-password).\n",
      "\n",
      "Please analyze the content and context of the generated answer in relation to the question\n",
      "and provide your evaluation in parsable JSON without using code blocks:\n",
      "\n",
      "{\n",
      "  \"Relevance\": \"NON_RELEVANT\" | \"PARTLY_RELEVANT\" | \"RELEVANT\",\n",
      "  \"Explanation\": \"[Provide a brief explanation for your evaluation]\"\n",
      "}\n"
     ]
    }
   ],
   "source": [
    "prompt = prompt2_template.format(question=question, answer_llm=answer_llm)\n",
    "print(prompt)"
   ]
  },
  {
   "cell_type": "code",
   "execution_count": 45,
   "id": "f60bc9cc-8f1c-4a92-bb30-7a37e1c77f00",
   "metadata": {},
   "outputs": [
    {
     "data": {
      "text/plain": [
       "'{\\n  \"Relevance\": \"RELEVANT\",\\n  \"Explanation\": \"The generated answer accurately provides specific steps necessary to reset a password, directly addressing the question asked about the process to follow for resetting the password.\"\\n}'"
      ]
     },
     "execution_count": 45,
     "metadata": {},
     "output_type": "execute_result"
    }
   ],
   "source": [
    "llm(prompt)"
   ]
  },
  {
   "cell_type": "code",
   "execution_count": 47,
   "id": "41d3070a-0d1b-4f9f-a375-af61a35e3288",
   "metadata": {},
   "outputs": [],
   "source": [
    "df_sample = df_question.sample(n=200, random_state=1)"
   ]
  },
  {
   "cell_type": "code",
   "execution_count": 48,
   "id": "f914e766-7053-4033-875a-c62f8625c58b",
   "metadata": {},
   "outputs": [],
   "source": [
    "sample = df_sample.to_dict(orient='records')"
   ]
  },
  {
   "cell_type": "code",
   "execution_count": 49,
   "id": "9d668656-84da-4b15-8b07-c31e5c5bf5c5",
   "metadata": {},
   "outputs": [
    {
     "data": {
      "application/vnd.jupyter.widget-view+json": {
       "model_id": "f211c244640f4e749463875c4e2e1384",
       "version_major": 2,
       "version_minor": 0
      },
      "text/plain": [
       "  0%|          | 0/200 [00:00<?, ?it/s]"
      ]
     },
     "metadata": {},
     "output_type": "display_data"
    }
   ],
   "source": [
    "evaluations = []\n",
    "\n",
    "for record in tqdm(sample):\n",
    "    question = record['question']\n",
    "    answer_llm = rag(question) \n",
    "\n",
    "    prompt = prompt2_template.format(\n",
    "        question=question,\n",
    "        answer_llm=answer_llm\n",
    "    )\n",
    "\n",
    "    evaluation = llm(prompt)\n",
    "    evaluation = json.loads(evaluation)\n",
    "\n",
    "    evaluations.append((record, answer_llm, evaluation))"
   ]
  },
  {
   "cell_type": "code",
   "execution_count": 50,
   "id": "f9843079-90e0-4e5d-9369-ec54278b6db6",
   "metadata": {},
   "outputs": [
    {
     "data": {
      "text/plain": [
       "({'id': 110,\n",
       "  'question': 'What is the best way to manage tenant provisioning and data separation?'},\n",
       " 'The best way to manage tenant provisioning and data separation is to implement a multi-tenant architecture using our Multi-Tenant SDK. This involves designing your data model with tenant isolation, which can be achieved through either separate databases or row-level security. The SDK will assist you in managing tenant provisioning, ensuring data separation, and facilitating cross-tenant operations. Additionally, you can configure tenant-specific branding and settings within the admin panel to further customize the experience for each tenant. For more detailed guidance, you can refer to our documentation on implementing multi-tenant architecture.',\n",
       " {'Relevance': 'RELEVANT',\n",
       "  'Explanation': 'The generated answer directly addresses the question about managing tenant provisioning and data separation by discussing the implementation of a multi-tenant architecture, tenant isolation methods, and the use of a specific SDK to assist in management. It provides clear guidance and relevant strategies, making it a comprehensive response to the question.'})"
      ]
     },
     "execution_count": 50,
     "metadata": {},
     "output_type": "execute_result"
    }
   ],
   "source": [
    "evaluations[0]"
   ]
  },
  {
   "cell_type": "code",
   "execution_count": 51,
   "id": "ae124032-4b4f-4160-afd4-2a41aedf6277",
   "metadata": {},
   "outputs": [],
   "source": [
    "df_eval = pd.DataFrame(evaluations, columns=['record', 'answer', 'evaluation'])\n",
    "\n",
    "df_eval['id'] = df_eval.record.apply(lambda d: d['id'])\n",
    "df_eval['question'] = df_eval.record.apply(lambda d: d['question'])\n",
    "\n",
    "df_eval['relevance'] = df_eval.evaluation.apply(lambda d: d['Relevance'])\n",
    "df_eval['explanation'] = df_eval.evaluation.apply(lambda d: d['Explanation'])\n",
    "\n",
    "del df_eval['record']\n",
    "del df_eval['evaluation']"
   ]
  },
  {
   "cell_type": "code",
   "execution_count": 58,
   "id": "eb225d8c-a21b-48a0-942e-5ca3ce8e7e94",
   "metadata": {},
   "outputs": [
    {
     "data": {
      "text/plain": [
       "relevance\n",
       "RELEVANT           188\n",
       "PARTLY_RELEVANT     11\n",
       "NON_RELEVANT         1\n",
       "Name: count, dtype: int64"
      ]
     },
     "execution_count": 58,
     "metadata": {},
     "output_type": "execute_result"
    }
   ],
   "source": [
    "df_eval.relevance.value_counts()"
   ]
  },
  {
   "cell_type": "code",
   "execution_count": 53,
   "id": "642526f9-67c4-4b9a-8a9f-6f9d5f465f29",
   "metadata": {},
   "outputs": [
    {
     "data": {
      "text/plain": [
       "relevance\n",
       "RELEVANT           0.940\n",
       "PARTLY_RELEVANT    0.055\n",
       "NON_RELEVANT       0.005\n",
       "Name: proportion, dtype: float64"
      ]
     },
     "execution_count": 53,
     "metadata": {},
     "output_type": "execute_result"
    }
   ],
   "source": [
    "df_eval.relevance.value_counts(normalize=True)"
   ]
  },
  {
   "cell_type": "code",
   "execution_count": 54,
   "id": "6278c838-05ef-4db0-9f6d-1ce21f477bed",
   "metadata": {},
   "outputs": [],
   "source": [
    "df_eval.to_csv('../data/rag-eval-gpt-4o-mini.csv', index=False)"
   ]
  },
  {
   "cell_type": "code",
   "execution_count": 56,
   "id": "b671b547-323a-4490-a307-048c23010a6b",
   "metadata": {},
   "outputs": [
    {
     "data": {
      "text/html": [
       "<div>\n",
       "<style scoped>\n",
       "    .dataframe tbody tr th:only-of-type {\n",
       "        vertical-align: middle;\n",
       "    }\n",
       "\n",
       "    .dataframe tbody tr th {\n",
       "        vertical-align: top;\n",
       "    }\n",
       "\n",
       "    .dataframe thead th {\n",
       "        text-align: right;\n",
       "    }\n",
       "</style>\n",
       "<table border=\"1\" class=\"dataframe\">\n",
       "  <thead>\n",
       "    <tr style=\"text-align: right;\">\n",
       "      <th></th>\n",
       "      <th>answer</th>\n",
       "      <th>id</th>\n",
       "      <th>question</th>\n",
       "      <th>relevance</th>\n",
       "      <th>explanation</th>\n",
       "    </tr>\n",
       "  </thead>\n",
       "  <tbody>\n",
       "    <tr>\n",
       "      <th>10</th>\n",
       "      <td>Before performing penetration testing, you nee...</td>\n",
       "      <td>98</td>\n",
       "      <td>What are the terms I need to agree to before p...</td>\n",
       "      <td>PARTLY_RELEVANT</td>\n",
       "      <td>The generated answer touches on the need to no...</td>\n",
       "    </tr>\n",
       "    <tr>\n",
       "      <th>43</th>\n",
       "      <td>The specific programming languages supported b...</td>\n",
       "      <td>54</td>\n",
       "      <td>What programming languages are supported by yo...</td>\n",
       "      <td>PARTLY_RELEVANT</td>\n",
       "      <td>The generated answer acknowledges that various...</td>\n",
       "    </tr>\n",
       "    <tr>\n",
       "      <th>45</th>\n",
       "      <td>To configure scopes and attribute mapping when...</td>\n",
       "      <td>75</td>\n",
       "      <td>What should I configure for scopes and attribu...</td>\n",
       "      <td>PARTLY_RELEVANT</td>\n",
       "      <td>The generated answer touches on configuring a ...</td>\n",
       "    </tr>\n",
       "    <tr>\n",
       "      <th>100</th>\n",
       "      <td>The provided context does not contain informat...</td>\n",
       "      <td>113</td>\n",
       "      <td>Is there a way to automate the fulfillment of ...</td>\n",
       "      <td>PARTLY_RELEVANT</td>\n",
       "      <td>The generated answer acknowledges that there i...</td>\n",
       "    </tr>\n",
       "    <tr>\n",
       "      <th>105</th>\n",
       "      <td>Based on the provided context, there is no spe...</td>\n",
       "      <td>121</td>\n",
       "      <td>Is it possible to implement k-anonymity algori...</td>\n",
       "      <td>PARTLY_RELEVANT</td>\n",
       "      <td>The generated answer acknowledges the lack of ...</td>\n",
       "    </tr>\n",
       "    <tr>\n",
       "      <th>111</th>\n",
       "      <td>Based on the provided context, there is no spe...</td>\n",
       "      <td>114</td>\n",
       "      <td>Is there a way to customize dashboards program...</td>\n",
       "      <td>PARTLY_RELEVANT</td>\n",
       "      <td>The generated answer acknowledges the lack of ...</td>\n",
       "    </tr>\n",
       "    <tr>\n",
       "      <th>124</th>\n",
       "      <td>To contact the sales team for an enterprise li...</td>\n",
       "      <td>78</td>\n",
       "      <td>How do I contact the sales team for an enterpr...</td>\n",
       "      <td>PARTLY_RELEVANT</td>\n",
       "      <td>The answer provides some guidance on contactin...</td>\n",
       "    </tr>\n",
       "    <tr>\n",
       "      <th>136</th>\n",
       "      <td>To optimize algorithms for energy efficiency, ...</td>\n",
       "      <td>80</td>\n",
       "      <td>How do you optimize your algorithms for energy...</td>\n",
       "      <td>PARTLY_RELEVANT</td>\n",
       "      <td>The generated answer discusses energy efficien...</td>\n",
       "    </tr>\n",
       "    <tr>\n",
       "      <th>143</th>\n",
       "      <td>No, the provided context does not mention whet...</td>\n",
       "      <td>72</td>\n",
       "      <td>Is a Business Associate Agreement included in ...</td>\n",
       "      <td>PARTLY_RELEVANT</td>\n",
       "      <td>The generated answer addresses the question by...</td>\n",
       "    </tr>\n",
       "    <tr>\n",
       "      <th>144</th>\n",
       "      <td>The default location for data storage is in ou...</td>\n",
       "      <td>60</td>\n",
       "      <td>What is the default location for data storage?</td>\n",
       "      <td>PARTLY_RELEVANT</td>\n",
       "      <td>The generated answer mentions the default loca...</td>\n",
       "    </tr>\n",
       "    <tr>\n",
       "      <th>155</th>\n",
       "      <td>When customizing your forms, you can choose fr...</td>\n",
       "      <td>29</td>\n",
       "      <td>What field types can I choose from when custom...</td>\n",
       "      <td>PARTLY_RELEVANT</td>\n",
       "      <td>The generated answer provides some relevant in...</td>\n",
       "    </tr>\n",
       "  </tbody>\n",
       "</table>\n",
       "</div>"
      ],
      "text/plain": [
       "                                                answer   id  \\\n",
       "10   Before performing penetration testing, you nee...   98   \n",
       "43   The specific programming languages supported b...   54   \n",
       "45   To configure scopes and attribute mapping when...   75   \n",
       "100  The provided context does not contain informat...  113   \n",
       "105  Based on the provided context, there is no spe...  121   \n",
       "111  Based on the provided context, there is no spe...  114   \n",
       "124  To contact the sales team for an enterprise li...   78   \n",
       "136  To optimize algorithms for energy efficiency, ...   80   \n",
       "143  No, the provided context does not mention whet...   72   \n",
       "144  The default location for data storage is in ou...   60   \n",
       "155  When customizing your forms, you can choose fr...   29   \n",
       "\n",
       "                                              question        relevance  \\\n",
       "10   What are the terms I need to agree to before p...  PARTLY_RELEVANT   \n",
       "43   What programming languages are supported by yo...  PARTLY_RELEVANT   \n",
       "45   What should I configure for scopes and attribu...  PARTLY_RELEVANT   \n",
       "100  Is there a way to automate the fulfillment of ...  PARTLY_RELEVANT   \n",
       "105  Is it possible to implement k-anonymity algori...  PARTLY_RELEVANT   \n",
       "111  Is there a way to customize dashboards program...  PARTLY_RELEVANT   \n",
       "124  How do I contact the sales team for an enterpr...  PARTLY_RELEVANT   \n",
       "136  How do you optimize your algorithms for energy...  PARTLY_RELEVANT   \n",
       "143  Is a Business Associate Agreement included in ...  PARTLY_RELEVANT   \n",
       "144     What is the default location for data storage?  PARTLY_RELEVANT   \n",
       "155  What field types can I choose from when custom...  PARTLY_RELEVANT   \n",
       "\n",
       "                                           explanation  \n",
       "10   The generated answer touches on the need to no...  \n",
       "43   The generated answer acknowledges that various...  \n",
       "45   The generated answer touches on configuring a ...  \n",
       "100  The generated answer acknowledges that there i...  \n",
       "105  The generated answer acknowledges the lack of ...  \n",
       "111  The generated answer acknowledges the lack of ...  \n",
       "124  The answer provides some guidance on contactin...  \n",
       "136  The generated answer discusses energy efficien...  \n",
       "143  The generated answer addresses the question by...  \n",
       "144  The generated answer mentions the default loca...  \n",
       "155  The generated answer provides some relevant in...  "
      ]
     },
     "execution_count": 56,
     "metadata": {},
     "output_type": "execute_result"
    }
   ],
   "source": [
    "df_eval[df_eval.relevance == 'PARTLY_RELEVANT']"
   ]
  },
  {
   "cell_type": "code",
   "execution_count": 57,
   "id": "711dcc07-e976-4aa0-ab11-442277832fb5",
   "metadata": {},
   "outputs": [
    {
     "data": {
      "text/html": [
       "<div>\n",
       "<style scoped>\n",
       "    .dataframe tbody tr th:only-of-type {\n",
       "        vertical-align: middle;\n",
       "    }\n",
       "\n",
       "    .dataframe tbody tr th {\n",
       "        vertical-align: top;\n",
       "    }\n",
       "\n",
       "    .dataframe thead th {\n",
       "        text-align: right;\n",
       "    }\n",
       "</style>\n",
       "<table border=\"1\" class=\"dataframe\">\n",
       "  <thead>\n",
       "    <tr style=\"text-align: right;\">\n",
       "      <th></th>\n",
       "      <th>answer</th>\n",
       "      <th>id</th>\n",
       "      <th>question</th>\n",
       "      <th>relevance</th>\n",
       "      <th>explanation</th>\n",
       "    </tr>\n",
       "  </thead>\n",
       "  <tbody>\n",
       "    <tr>\n",
       "      <th>132</th>\n",
       "      <td>The provided context does not contain any info...</td>\n",
       "      <td>90</td>\n",
       "      <td>What is your TLS version for securing data in ...</td>\n",
       "      <td>NON_RELEVANT</td>\n",
       "      <td>The generated answer states that there is no i...</td>\n",
       "    </tr>\n",
       "  </tbody>\n",
       "</table>\n",
       "</div>"
      ],
      "text/plain": [
       "                                                answer  id  \\\n",
       "132  The provided context does not contain any info...  90   \n",
       "\n",
       "                                              question     relevance  \\\n",
       "132  What is your TLS version for securing data in ...  NON_RELEVANT   \n",
       "\n",
       "                                           explanation  \n",
       "132  The generated answer states that there is no i...  "
      ]
     },
     "execution_count": 57,
     "metadata": {},
     "output_type": "execute_result"
    }
   ],
   "source": [
    "df_eval[df_eval.relevance == 'NON_RELEVANT']"
   ]
  },
  {
   "cell_type": "code",
   "execution_count": 59,
   "id": "68508827-8abc-44c8-99f2-c2c7a7e7a51d",
   "metadata": {},
   "outputs": [
    {
     "data": {
      "application/vnd.jupyter.widget-view+json": {
       "model_id": "06f5c60207474646bd61eb0527dacd3e",
       "version_major": 2,
       "version_minor": 0
      },
      "text/plain": [
       "  0%|          | 0/200 [00:00<?, ?it/s]"
      ]
     },
     "metadata": {},
     "output_type": "display_data"
    }
   ],
   "source": [
    "evaluations_gpt4o = []\n",
    "\n",
    "for record in tqdm(sample):\n",
    "    question = record['question']\n",
    "    answer_llm = rag(question, model='gpt-4o') \n",
    "\n",
    "    prompt = prompt2_template.format(\n",
    "        question=question,\n",
    "        answer_llm=answer_llm\n",
    "    )\n",
    "\n",
    "    evaluation = llm(prompt)\n",
    "    evaluation = json.loads(evaluation)\n",
    "    \n",
    "    evaluations_gpt4o.append((record, answer_llm, evaluation))"
   ]
  },
  {
   "cell_type": "code",
   "execution_count": 60,
   "id": "670d6e0b-d491-43e9-a455-d6530b1c13bb",
   "metadata": {},
   "outputs": [
    {
     "data": {
      "text/plain": [
       "({'id': 110,\n",
       "  'question': 'What is the best way to manage tenant provisioning and data separation?'},\n",
       " 'The best way to manage tenant provisioning and data separation in a multi-tenant architecture is to use our Multi-Tenant SDK. Here are the essential steps:\\n\\n1. **Design Your Data Model**: Ensure tenant isolation by using either separate databases or row-level security mechanisms.\\n2. **Use the Multi-Tenant SDK**: This SDK aids in tenant provisioning, data separation, and handling cross-tenant operations.\\n3. **Tenant-Specific Configurations**: Customize tenant-specific branding and settings via the admin panel.\\n\\nBy following these steps, you can efficiently manage tenant provisioning and maintain strong data separation between tenants.\\n\\nFor more detailed guidance, refer to our [Developer Documentation on Multi-Tenant SDK](https://developers.example.com/multi-tenant-sdk).',\n",
       " {'Relevance': 'RELEVANT',\n",
       "  'Explanation': 'The generated answer directly addresses the question about managing tenant provisioning and data separation by providing specific steps and recommendations for implementation. It explains the use of a Multi-Tenant SDK and different approaches to ensure tenant isolation, which addresses the core aspects of the question effectively.'})"
      ]
     },
     "execution_count": 60,
     "metadata": {},
     "output_type": "execute_result"
    }
   ],
   "source": [
    "evaluations_gpt4o[0]"
   ]
  },
  {
   "cell_type": "code",
   "execution_count": 61,
   "id": "b624d987-6f5a-4a0a-a435-137817f36ef1",
   "metadata": {},
   "outputs": [],
   "source": [
    "df_eval = pd.DataFrame(evaluations_gpt4o, columns=['record', 'answer', 'evaluation'])\n",
    "\n",
    "df_eval['id'] = df_eval.record.apply(lambda d: d['id'])\n",
    "df_eval['question'] = df_eval.record.apply(lambda d: d['question'])\n",
    "\n",
    "df_eval['relevance'] = df_eval.evaluation.apply(lambda d: d['Relevance'])\n",
    "df_eval['explanation'] = df_eval.evaluation.apply(lambda d: d['Explanation'])\n",
    "\n",
    "del df_eval['record']\n",
    "del df_eval['evaluation']"
   ]
  },
  {
   "cell_type": "code",
   "execution_count": 62,
   "id": "9acbc12e-5b12-4226-bda9-b184bc8aa4f3",
   "metadata": {},
   "outputs": [
    {
     "data": {
      "text/plain": [
       "relevance\n",
       "RELEVANT           189\n",
       "PARTLY_RELEVANT     11\n",
       "Name: count, dtype: int64"
      ]
     },
     "execution_count": 62,
     "metadata": {},
     "output_type": "execute_result"
    }
   ],
   "source": [
    "df_eval.relevance.value_counts()"
   ]
  },
  {
   "cell_type": "code",
   "execution_count": 63,
   "id": "367fd8c4-9d05-4b86-a065-e3f606d0c03a",
   "metadata": {},
   "outputs": [
    {
     "data": {
      "text/plain": [
       "relevance\n",
       "RELEVANT           0.945\n",
       "PARTLY_RELEVANT    0.055\n",
       "Name: proportion, dtype: float64"
      ]
     },
     "execution_count": 63,
     "metadata": {},
     "output_type": "execute_result"
    }
   ],
   "source": [
    "df_eval.relevance.value_counts(normalize=True)"
   ]
  },
  {
   "cell_type": "code",
   "execution_count": 64,
   "id": "6da9b282-2cf2-4014-bbb1-3a4414a436d4",
   "metadata": {},
   "outputs": [],
   "source": [
    "df_eval.to_csv('../data/rag-eval-gpt-4o.csv', index=False)"
   ]
  },
  {
   "cell_type": "code",
   "execution_count": null,
   "id": "85e45478-ca17-4e13-b80a-5776e96eccd6",
   "metadata": {},
   "outputs": [],
   "source": []
  }
 ],
 "metadata": {
  "kernelspec": {
   "display_name": "Python 3 (ipykernel)",
   "language": "python",
   "name": "python3"
  },
  "language_info": {
   "codemirror_mode": {
    "name": "ipython",
    "version": 3
   },
   "file_extension": ".py",
   "mimetype": "text/x-python",
   "name": "python",
   "nbconvert_exporter": "python",
   "pygments_lexer": "ipython3",
   "version": "3.12.1"
  }
 },
 "nbformat": 4,
 "nbformat_minor": 5
}
