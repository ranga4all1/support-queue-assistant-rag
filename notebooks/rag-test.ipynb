{
 "cells": [
  {
   "cell_type": "markdown",
   "id": "6fe33621-9419-4a5a-876a-c7f51f8259d7",
   "metadata": {},
   "source": [
    "# support-queue-assistant-rag"
   ]
  },
  {
   "cell_type": "code",
   "execution_count": 2,
   "id": "fb8b049f-d26c-468a-aefd-f0d7ff31dd28",
   "metadata": {},
   "outputs": [
    {
     "name": "stdout",
     "output_type": "stream",
     "text": [
      "--2024-09-11 00:36:02--  https://raw.githubusercontent.com/alexeygrigorev/minsearch/main/minsearch.py\n",
      "Resolving raw.githubusercontent.com (raw.githubusercontent.com)... 185.199.109.133, 185.199.110.133, 185.199.111.133, ...\n",
      "Connecting to raw.githubusercontent.com (raw.githubusercontent.com)|185.199.109.133|:443... connected.\n",
      "HTTP request sent, awaiting response... 200 OK\n",
      "Length: 3832 (3.7K) [text/plain]\n",
      "Saving to: ‘minsearch.py’\n",
      "\n",
      "minsearch.py        100%[===================>]   3.74K  --.-KB/s    in 0s      \n",
      "\n",
      "2024-09-11 00:36:02 (43.9 MB/s) - ‘minsearch.py’ saved [3832/3832]\n",
      "\n"
     ]
    }
   ],
   "source": [
    "# Uncomment and execute this once to download minsearch\n",
    "# !wget https://raw.githubusercontent.com/alexeygrigorev/minsearch/main/minsearch.py"
   ]
  },
  {
   "cell_type": "code",
   "execution_count": 3,
   "id": "6b9b57ed-e906-4aae-8f92-c0997b673774",
   "metadata": {},
   "outputs": [],
   "source": [
    "# Import libraries\n",
    "import pandas as pd\n",
    "import random\n",
    "import json\n",
    "from tqdm.auto import tqdm\n",
    "import minsearch\n",
    "from openai import OpenAI"
   ]
  },
  {
   "cell_type": "markdown",
   "id": "29288501-d09f-4696-93cc-a6d005174749",
   "metadata": {},
   "source": [
    "## Ingestion"
   ]
  },
  {
   "cell_type": "code",
   "execution_count": 5,
   "id": "65a795b7-fae2-405c-8c1d-71b1c5bbca2d",
   "metadata": {},
   "outputs": [
    {
     "data": {
      "text/html": [
       "<div>\n",
       "<style scoped>\n",
       "    .dataframe tbody tr th:only-of-type {\n",
       "        vertical-align: middle;\n",
       "    }\n",
       "\n",
       "    .dataframe tbody tr th {\n",
       "        vertical-align: top;\n",
       "    }\n",
       "\n",
       "    .dataframe thead th {\n",
       "        text-align: right;\n",
       "    }\n",
       "</style>\n",
       "<table border=\"1\" class=\"dataframe\">\n",
       "  <thead>\n",
       "    <tr style=\"text-align: right;\">\n",
       "      <th></th>\n",
       "      <th>id</th>\n",
       "      <th>question</th>\n",
       "      <th>category</th>\n",
       "      <th>subcategory</th>\n",
       "      <th>intent</th>\n",
       "      <th>product_feature</th>\n",
       "      <th>response</th>\n",
       "      <th>related_articles</th>\n",
       "      <th>tags</th>\n",
       "    </tr>\n",
       "  </thead>\n",
       "  <tbody>\n",
       "    <tr>\n",
       "      <th>0</th>\n",
       "      <td>0</td>\n",
       "      <td>How do I reset my account password?</td>\n",
       "      <td>Account</td>\n",
       "      <td>Password Reset</td>\n",
       "      <td>Password Recovery</td>\n",
       "      <td>Authentication &amp; Security</td>\n",
       "      <td>To reset your password: 1. Go to the login pag...</td>\n",
       "      <td>/account-security/password-reset;/account-mana...</td>\n",
       "      <td>password,reset,account,security,login</td>\n",
       "    </tr>\n",
       "    <tr>\n",
       "      <th>1</th>\n",
       "      <td>1</td>\n",
       "      <td>Can I upgrade my subscription plan?</td>\n",
       "      <td>Billing</td>\n",
       "      <td>Subscription Management</td>\n",
       "      <td>Plan Upgrade</td>\n",
       "      <td>Billing &amp; Subscriptions</td>\n",
       "      <td>Yes, you can upgrade anytime. To do so: 1. Log...</td>\n",
       "      <td>/billing/changing-subscription-plans;/billing/...</td>\n",
       "      <td>upgrade,subscription,billing,plan,pricing</td>\n",
       "    </tr>\n",
       "    <tr>\n",
       "      <th>2</th>\n",
       "      <td>2</td>\n",
       "      <td>How do I integrate your API with my CRM?</td>\n",
       "      <td>Technical</td>\n",
       "      <td>API Integration</td>\n",
       "      <td>Integration Setup</td>\n",
       "      <td>API &amp; Integrations</td>\n",
       "      <td>To integrate: 1. Generate an API key 2. Review...</td>\n",
       "      <td>/api-reference;/integrations/crm-setup-guide</td>\n",
       "      <td>API,integration,CRM,developer,technical</td>\n",
       "    </tr>\n",
       "    <tr>\n",
       "      <th>3</th>\n",
       "      <td>3</td>\n",
       "      <td>What's included in your enterprise SLA?</td>\n",
       "      <td>General Inquiry</td>\n",
       "      <td>Service Level Agreement</td>\n",
       "      <td>Contract Information</td>\n",
       "      <td>Enterprise Support</td>\n",
       "      <td>Our Enterprise SLA includes: 99.99% uptime, 24...</td>\n",
       "      <td>/enterprise/sla;/enterprise/support-tiers</td>\n",
       "      <td>SLA,enterprise,uptime,support,contract</td>\n",
       "    </tr>\n",
       "    <tr>\n",
       "      <th>4</th>\n",
       "      <td>4</td>\n",
       "      <td>How do I enable two-factor authentication?</td>\n",
       "      <td>Account</td>\n",
       "      <td>Security Settings</td>\n",
       "      <td>Enable 2FA</td>\n",
       "      <td>Authentication &amp; Security</td>\n",
       "      <td>To enable 2FA: 1. Go to 'Account Settings' 2. ...</td>\n",
       "      <td>/account-security/two-factor-authentication;/a...</td>\n",
       "      <td>2FA,authentication,security,account,login</td>\n",
       "    </tr>\n",
       "  </tbody>\n",
       "</table>\n",
       "</div>"
      ],
      "text/plain": [
       "   id                                    question         category  \\\n",
       "0   0         How do I reset my account password?          Account   \n",
       "1   1         Can I upgrade my subscription plan?          Billing   \n",
       "2   2    How do I integrate your API with my CRM?        Technical   \n",
       "3   3     What's included in your enterprise SLA?  General Inquiry   \n",
       "4   4  How do I enable two-factor authentication?          Account   \n",
       "\n",
       "               subcategory                intent            product_feature  \\\n",
       "0           Password Reset     Password Recovery  Authentication & Security   \n",
       "1  Subscription Management          Plan Upgrade    Billing & Subscriptions   \n",
       "2          API Integration     Integration Setup         API & Integrations   \n",
       "3  Service Level Agreement  Contract Information         Enterprise Support   \n",
       "4        Security Settings            Enable 2FA  Authentication & Security   \n",
       "\n",
       "                                            response  \\\n",
       "0  To reset your password: 1. Go to the login pag...   \n",
       "1  Yes, you can upgrade anytime. To do so: 1. Log...   \n",
       "2  To integrate: 1. Generate an API key 2. Review...   \n",
       "3  Our Enterprise SLA includes: 99.99% uptime, 24...   \n",
       "4  To enable 2FA: 1. Go to 'Account Settings' 2. ...   \n",
       "\n",
       "                                    related_articles  \\\n",
       "0  /account-security/password-reset;/account-mana...   \n",
       "1  /billing/changing-subscription-plans;/billing/...   \n",
       "2       /api-reference;/integrations/crm-setup-guide   \n",
       "3          /enterprise/sla;/enterprise/support-tiers   \n",
       "4  /account-security/two-factor-authentication;/a...   \n",
       "\n",
       "                                        tags  \n",
       "0      password,reset,account,security,login  \n",
       "1  upgrade,subscription,billing,plan,pricing  \n",
       "2    API,integration,CRM,developer,technical  \n",
       "3     SLA,enterprise,uptime,support,contract  \n",
       "4  2FA,authentication,security,account,login  "
      ]
     },
     "execution_count": 5,
     "metadata": {},
     "output_type": "execute_result"
    }
   ],
   "source": [
    "df = pd.read_csv('../data/data-unclean.csv', sep=\",\")\n",
    "df.head()"
   ]
  },
  {
   "cell_type": "code",
   "execution_count": 6,
   "id": "1124d1f1-febe-4cc0-b772-bc2a62574946",
   "metadata": {},
   "outputs": [
    {
     "data": {
      "text/plain": [
       "Index(['id', 'question', 'category', 'subcategory', 'intent',\n",
       "       'product_feature', 'response', 'related_articles', 'tags'],\n",
       "      dtype='object')"
      ]
     },
     "execution_count": 6,
     "metadata": {},
     "output_type": "execute_result"
    }
   ],
   "source": [
    "df.columns"
   ]
  },
  {
   "cell_type": "code",
   "execution_count": 7,
   "id": "e1d95d89-f9bb-4058-9fc0-81800e01d464",
   "metadata": {},
   "outputs": [],
   "source": [
    "documents = df.to_dict(orient='records')"
   ]
  },
  {
   "cell_type": "code",
   "execution_count": 8,
   "id": "42a4c64e-607c-438e-b246-a1971f5b8ef4",
   "metadata": {},
   "outputs": [
    {
     "data": {
      "text/plain": [
       "{'id': 0,\n",
       " 'question': 'How do I reset my account password?',\n",
       " 'category': 'Account',\n",
       " 'subcategory': 'Password Reset',\n",
       " 'intent': 'Password Recovery',\n",
       " 'product_feature': 'Authentication & Security',\n",
       " 'response': \"To reset your password: 1. Go to the login page 2. Click 'Forgot Password' 3. Enter your email 4. Check your email for a reset link 5. Click the link and enter a new password\",\n",
       " 'related_articles': '/account-security/password-reset;/account-management/updating-account-info',\n",
       " 'tags': 'password,reset,account,security,login'}"
      ]
     },
     "execution_count": 8,
     "metadata": {},
     "output_type": "execute_result"
    }
   ],
   "source": [
    "documents[0]"
   ]
  },
  {
   "cell_type": "code",
   "execution_count": 9,
   "id": "7ff4a045-5cdf-42f6-bbc4-fabcab27a08d",
   "metadata": {},
   "outputs": [],
   "source": [
    "index = minsearch.Index(\n",
    "    text_fields=['question', 'category', 'subcategory', 'intent',\n",
    "       'product_feature', 'response', 'related_articles', 'tags'],\n",
    "    keyword_fields=['id']\n",
    ")"
   ]
  },
  {
   "cell_type": "code",
   "execution_count": 10,
   "id": "37be3965-4e03-4785-abe0-00567c758f8b",
   "metadata": {},
   "outputs": [
    {
     "data": {
      "text/plain": [
       "<minsearch.Index at 0x7a0eaf72b020>"
      ]
     },
     "execution_count": 10,
     "metadata": {},
     "output_type": "execute_result"
    }
   ],
   "source": [
    "index.fit(documents)"
   ]
  },
  {
   "cell_type": "code",
   "execution_count": 11,
   "id": "74c70bd3-ec4e-4457-b3c6-a9b28afcbb73",
   "metadata": {},
   "outputs": [],
   "source": [
    "query = 'How do I integrate your API with my CRM?'"
   ]
  },
  {
   "cell_type": "code",
   "execution_count": 12,
   "id": "6dba9dd9-fbda-468b-bbf1-32cfdd2dbc87",
   "metadata": {},
   "outputs": [
    {
     "data": {
      "text/plain": [
       "[{'id': 2,\n",
       "  'question': 'How do I integrate your API with my CRM?',\n",
       "  'category': 'Technical',\n",
       "  'subcategory': 'API Integration',\n",
       "  'intent': 'Integration Setup',\n",
       "  'product_feature': 'API & Integrations',\n",
       "  'response': 'To integrate: 1. Generate an API key 2. Review our API docs 3. Use our SDKs or make REST calls 4. Configure your CRM 5. Test the integration thoroughly',\n",
       "  'related_articles': '/api-reference;/integrations/crm-setup-guide',\n",
       "  'tags': 'API,integration,CRM,developer,technical'},\n",
       " {'id': 14,\n",
       "  'question': 'How do I generate an API key?',\n",
       "  'category': 'Technical',\n",
       "  'subcategory': 'API Management',\n",
       "  'intent': 'API Key Generation',\n",
       "  'product_feature': 'API & Integrations',\n",
       "  'response': \"To generate an API key: 1. Go to 'Developer Settings' 2. Click 'API Keys' 3. Select 'Generate New Key' 4. Set permissions for the key 5. Copy and securely store the key (it won't be shown again)\",\n",
       "  'related_articles': '/api-reference/authentication;/api-management/key-security',\n",
       "  'tags': 'API,key,developer,authentication,security'},\n",
       " {'id': 23,\n",
       "  'question': 'What integrations do you offer?',\n",
       "  'category': 'Technical',\n",
       "  'subcategory': 'Third-party Integrations',\n",
       "  'intent': 'Integration Options',\n",
       "  'product_feature': 'API & Integrations',\n",
       "  'response': 'We offer integrations with: 1. CRM systems (Salesforce, HubSpot) 2. Communication tools (Slack, Microsoft Teams) 3. Project management (Jira, Asana) 4. Analytics (Google Analytics, Mixpanel) 5. Custom via API',\n",
       "  'related_articles': '/integrations/available-integrations;/api-reference/webhooks',\n",
       "  'tags': 'integrations,API,CRM,analytics,productivity'},\n",
       " {'id': 0,\n",
       "  'question': 'How do I reset my account password?',\n",
       "  'category': 'Account',\n",
       "  'subcategory': 'Password Reset',\n",
       "  'intent': 'Password Recovery',\n",
       "  'product_feature': 'Authentication & Security',\n",
       "  'response': \"To reset your password: 1. Go to the login page 2. Click 'Forgot Password' 3. Enter your email 4. Check your email for a reset link 5. Click the link and enter a new password\",\n",
       "  'related_articles': '/account-security/password-reset;/account-management/updating-account-info',\n",
       "  'tags': 'password,reset,account,security,login'},\n",
       " {'id': 12,\n",
       "  'question': 'How do I cancel my subscription?',\n",
       "  'category': 'Billing',\n",
       "  'subcategory': 'Account Termination',\n",
       "  'intent': 'Cancel Subscription',\n",
       "  'product_feature': 'Billing & Subscriptions',\n",
       "  'response': \"To cancel: 1. Log in 2. Go to 'Billing' 3. Click 'Cancel Subscription' 4. Select reason for cancelling 5. Confirm cancellation. Your account will remain active until the end of the current billing cycle.\",\n",
       "  'related_articles': '/billing/cancelling-subscription;/account-management/account-closure',\n",
       "  'tags': 'cancel,subscription,billing,account,termination'},\n",
       " {'id': 1,\n",
       "  'question': 'Can I upgrade my subscription plan?',\n",
       "  'category': 'Billing',\n",
       "  'subcategory': 'Subscription Management',\n",
       "  'intent': 'Plan Upgrade',\n",
       "  'product_feature': 'Billing & Subscriptions',\n",
       "  'response': \"Yes, you can upgrade anytime. To do so: 1. Log in 2. Go to 'Billing' 3. Select 'Change Plan' 4. Choose your new plan 5. Confirm the upgrade\",\n",
       "  'related_articles': '/billing/changing-subscription-plans;/billing/billing-cycles-and-proration',\n",
       "  'tags': 'upgrade,subscription,billing,plan,pricing'},\n",
       " {'id': 24,\n",
       "  'question': 'How do I download invoices for my account?',\n",
       "  'category': 'Billing',\n",
       "  'subcategory': 'Invoice Management',\n",
       "  'intent': 'Access Invoices',\n",
       "  'product_feature': 'Billing & Subscriptions',\n",
       "  'response': \"To download invoices: 1. Log in 2. Go to 'Billing' 3. Click 'Invoice History' 4. Select the invoice you want 5. Click 'Download PDF' 6. Save the file to your computer\",\n",
       "  'related_articles': '/billing/accessing-invoices;/accounting/tax-documentation',\n",
       "  'tags': 'invoice,billing,accounting,taxes,documentation'},\n",
       " {'id': 8,\n",
       "  'question': 'How do I add team members to my account?',\n",
       "  'category': 'Account',\n",
       "  'subcategory': 'User Management',\n",
       "  'intent': 'Add Users',\n",
       "  'product_feature': 'Collaboration & Sharing',\n",
       "  'response': \"To add team members: 1. Go to 'Team Settings' 2. Click 'Invite Member' 3. Enter their email and set permissions 4. Click 'Send Invite' 5. They'll receive an email to join your team\",\n",
       "  'related_articles': '/account-management/adding-team-members;/collaboration/team-permissions',\n",
       "  'tags': 'team,users,collaboration,permissions,invite'},\n",
       " {'id': 19,\n",
       "  'question': 'Can I use my own domain for your service?',\n",
       "  'category': 'Technical',\n",
       "  'subcategory': 'Domain Management',\n",
       "  'intent': 'Custom Domain Setup',\n",
       "  'product_feature': 'Branding & Customization',\n",
       "  'response': \"Yes, on Pro and Enterprise plans. To set up: 1. Go to 'Domain Settings' 2. Click 'Add Custom Domain' 3. Enter your domain 4. Update your DNS records as instructed 5. Verify domain ownership 6. Enable SSL\",\n",
       "  'related_articles': '/customization/custom-domains;/security/ssl-certificates',\n",
       "  'tags': 'domain,DNS,branding,SSL,customization'},\n",
       " {'id': 6,\n",
       "  'question': 'How can I export my data?',\n",
       "  'category': 'Technical',\n",
       "  'subcategory': 'Data Management',\n",
       "  'intent': 'Data Export',\n",
       "  'product_feature': 'Data & Analytics',\n",
       "  'response': \"To export your data: 1. Go to 'Settings' 2. Click 'Data Export' 3. Select the data you want to export 4. Choose the file format (CSV or JSON) 5. Click 'Generate Export' 6. Download the file when ready\",\n",
       "  'related_articles': '/data-management/exporting-data;/data-management/data-retention-policy',\n",
       "  'tags': 'export,data,CSV,JSON,analytics'}]"
      ]
     },
     "execution_count": 12,
     "metadata": {},
     "output_type": "execute_result"
    }
   ],
   "source": [
    "index.search(query, num_results=10)"
   ]
  },
  {
   "cell_type": "markdown",
   "id": "d894e3e0-b1a1-4307-a443-3b1a5d9b00eb",
   "metadata": {},
   "source": [
    "## RAG Flow"
   ]
  },
  {
   "cell_type": "code",
   "execution_count": 13,
   "id": "c970265d-3405-48e1-8f02-8e9cd3c84cbc",
   "metadata": {},
   "outputs": [],
   "source": [
    "# client = OpenAI(api_key = 'YOUR_KEY')"
   ]
  },
  {
   "cell_type": "code",
   "execution_count": 14,
   "id": "ca422f77-6b38-4492-bcf1-661a981b6ad4",
   "metadata": {},
   "outputs": [],
   "source": [
    "def search(query):\n",
    "    boost = {}\n",
    "\n",
    "    results = index.search(\n",
    "        query=query,\n",
    "        filter_dict={},\n",
    "        boost_dict=boost,\n",
    "        num_results=10\n",
    "    )\n",
    "\n",
    "    return results"
   ]
  },
  {
   "cell_type": "code",
   "execution_count": 15,
   "id": "bae6b46c-3016-4b53-bb6c-a51693f9c260",
   "metadata": {},
   "outputs": [],
   "source": [
    "prompt_template = \"\"\"\n",
    "You're a B2B SaaS company's customer support analyst. Answer the QUESTION based on the CONTEXT from our support queue knowledge database.\n",
    "Use only the facts from the CONTEXT when answering the QUESTION.\n",
    "\n",
    "QUESTION: {question}\n",
    "\n",
    "CONTEXT:\n",
    "{context}\n",
    "\"\"\".strip()\n",
    "\n",
    "entry_template = \"\"\"\n",
    "question: {question}\n",
    "category: {category}\n",
    "subcategory: {subcategory}\n",
    "intent: {intent}\n",
    "product_feature: {product_feature}\n",
    "response: {response}\n",
    "related_articles: {related_articles}\n",
    "tags: {tags}\n",
    "\"\"\".strip()\n",
    "\n",
    "def build_prompt(query, search_results):\n",
    "    context = \"\"\n",
    "    \n",
    "    for doc in search_results:\n",
    "        context = context + entry_template.format(**doc) + \"\\n\\n\"\n",
    "\n",
    "    prompt = prompt_template.format(question=query, context=context).strip()\n",
    "    return prompt"
   ]
  },
  {
   "cell_type": "code",
   "execution_count": 16,
   "id": "f099289d-4556-4eaf-83cc-0730be70b740",
   "metadata": {},
   "outputs": [],
   "source": [
    "def llm(prompt, model='gpt-4o-mini'):\n",
    "    response = client.chat.completions.create(\n",
    "        model=model,\n",
    "        messages=[{\"role\": \"user\", \"content\": prompt}]\n",
    "    )\n",
    "    \n",
    "    return response.choices[0].message.content"
   ]
  },
  {
   "cell_type": "code",
   "execution_count": 17,
   "id": "6269394a-2f04-419d-bf94-b4af69b9297f",
   "metadata": {},
   "outputs": [],
   "source": [
    "def rag(query, model='gpt-4o-mini'):\n",
    "    search_results = search(query)\n",
    "    prompt = build_prompt(query, search_results)\n",
    "    #print(prompt)\n",
    "    answer = llm(prompt, model=model)\n",
    "    return answer"
   ]
  },
  {
   "cell_type": "code",
   "execution_count": 18,
   "id": "4e1f3c83-7e82-4956-a4cc-546c67372e0c",
   "metadata": {},
   "outputs": [
    {
     "name": "stdout",
     "output_type": "stream",
     "text": [
      "To reset your password, follow these steps:\n",
      "\n",
      "1. Go to the login page.\n",
      "2. Click 'Forgot Password'.\n",
      "3. Enter your email.\n",
      "4. Check your email for a reset link.\n",
      "5. Click the link and enter a new password.\n"
     ]
    }
   ],
   "source": [
    "question = 'How can I reset my password?'\n",
    "answer = rag(question)\n",
    "print(answer)"
   ]
  },
  {
   "cell_type": "code",
   "execution_count": 19,
   "id": "a6f34caa-60cb-4df2-a51d-b5f70b325e35",
   "metadata": {},
   "outputs": [
    {
     "name": "stdout",
     "output_type": "stream",
     "text": [
      "To set up an enterprise account, you need to follow these steps:\n",
      "\n",
      "1. Upgrade to the Enterprise plan.\n",
      "2. Go to 'Security Settings.'\n",
      "3. Enable Single Sign-On (SSO).\n",
      "4. Choose your Identity Provider (IdP) such as Okta or Azure AD.\n",
      "5. Configure SAML or OAuth.\n",
      "6. Test the SSO connection.\n",
      "\n",
      "For more details, you can refer to the related articles on SSO setup and best practices.\n"
     ]
    }
   ],
   "source": [
    "question = 'How can I setup enterprise account?'\n",
    "answer = rag(question)\n",
    "print(answer)"
   ]
  },
  {
   "cell_type": "markdown",
   "id": "2f636c0a-d9c3-4160-9a60-11212a5b9819",
   "metadata": {},
   "source": [
    "## Retrieval evaluation\n",
    "\n",
    "Make sure that ground truth data was generated using `evaluation-data-generation.ipynb`"
   ]
  },
  {
   "cell_type": "code",
   "execution_count": null,
   "id": "0a2800b6-5dc8-4888-b432-11f42e17f035",
   "metadata": {},
   "outputs": [],
   "source": []
  }
 ],
 "metadata": {
  "kernelspec": {
   "display_name": "Python 3 (ipykernel)",
   "language": "python",
   "name": "python3"
  },
  "language_info": {
   "codemirror_mode": {
    "name": "ipython",
    "version": 3
   },
   "file_extension": ".py",
   "mimetype": "text/x-python",
   "name": "python",
   "nbconvert_exporter": "python",
   "pygments_lexer": "ipython3",
   "version": "3.12.1"
  }
 },
 "nbformat": 4,
 "nbformat_minor": 5
}
