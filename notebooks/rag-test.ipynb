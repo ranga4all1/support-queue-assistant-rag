{
 "cells": [
  {
   "cell_type": "markdown",
   "id": "6fe33621-9419-4a5a-876a-c7f51f8259d7",
   "metadata": {},
   "source": [
    "# support-queue-assistant-rag"
   ]
  },
  {
   "cell_type": "code",
   "execution_count": 1,
   "id": "fb8b049f-d26c-468a-aefd-f0d7ff31dd28",
   "metadata": {},
   "outputs": [],
   "source": [
    "# Uncomment and execute this once to download minsearch\n",
    "# !wget https://raw.githubusercontent.com/alexeygrigorev/minsearch/main/minsearch.py"
   ]
  },
  {
   "cell_type": "code",
   "execution_count": 2,
   "id": "6b9b57ed-e906-4aae-8f92-c0997b673774",
   "metadata": {},
   "outputs": [],
   "source": [
    "# Import libraries\n",
    "import pandas as pd\n",
    "import random\n",
    "import json\n",
    "from tqdm.auto import tqdm\n",
    "import minsearch\n",
    "from openai import OpenAI"
   ]
  },
  {
   "cell_type": "markdown",
   "id": "29288501-d09f-4696-93cc-a6d005174749",
   "metadata": {},
   "source": [
    "## Ingestion"
   ]
  },
  {
   "cell_type": "code",
   "execution_count": 3,
   "id": "65a795b7-fae2-405c-8c1d-71b1c5bbca2d",
   "metadata": {},
   "outputs": [
    {
     "data": {
      "text/html": [
       "<div>\n",
       "<style scoped>\n",
       "    .dataframe tbody tr th:only-of-type {\n",
       "        vertical-align: middle;\n",
       "    }\n",
       "\n",
       "    .dataframe tbody tr th {\n",
       "        vertical-align: top;\n",
       "    }\n",
       "\n",
       "    .dataframe thead th {\n",
       "        text-align: right;\n",
       "    }\n",
       "</style>\n",
       "<table border=\"1\" class=\"dataframe\">\n",
       "  <thead>\n",
       "    <tr style=\"text-align: right;\">\n",
       "      <th></th>\n",
       "      <th>id</th>\n",
       "      <th>question</th>\n",
       "      <th>category</th>\n",
       "      <th>subcategory</th>\n",
       "      <th>intent</th>\n",
       "      <th>product_feature</th>\n",
       "      <th>response</th>\n",
       "      <th>related_articles</th>\n",
       "      <th>tags</th>\n",
       "    </tr>\n",
       "  </thead>\n",
       "  <tbody>\n",
       "    <tr>\n",
       "      <th>0</th>\n",
       "      <td>0</td>\n",
       "      <td>How do I reset my account password?</td>\n",
       "      <td>Account</td>\n",
       "      <td>Password Reset</td>\n",
       "      <td>Password Recovery</td>\n",
       "      <td>Authentication &amp; Security</td>\n",
       "      <td>To reset your password: 1. Go to the login pag...</td>\n",
       "      <td>/account-security/password-reset;/account-mana...</td>\n",
       "      <td>password,reset,account,security,login</td>\n",
       "    </tr>\n",
       "    <tr>\n",
       "      <th>1</th>\n",
       "      <td>1</td>\n",
       "      <td>Can I upgrade my subscription plan?</td>\n",
       "      <td>Billing</td>\n",
       "      <td>Subscription Management</td>\n",
       "      <td>Plan Upgrade</td>\n",
       "      <td>Billing &amp; Subscriptions</td>\n",
       "      <td>Yes, you can upgrade anytime. To do so: 1. Log...</td>\n",
       "      <td>/billing/changing-subscription-plans;/billing/...</td>\n",
       "      <td>upgrade,subscription,billing,plan,pricing</td>\n",
       "    </tr>\n",
       "    <tr>\n",
       "      <th>2</th>\n",
       "      <td>2</td>\n",
       "      <td>How do I integrate your API with my CRM?</td>\n",
       "      <td>Technical</td>\n",
       "      <td>API Integration</td>\n",
       "      <td>Integration Setup</td>\n",
       "      <td>API &amp; Integrations</td>\n",
       "      <td>To integrate: 1. Generate an API key 2. Review...</td>\n",
       "      <td>/api-reference;/integrations/crm-setup-guide</td>\n",
       "      <td>API,integration,CRM,developer,technical</td>\n",
       "    </tr>\n",
       "    <tr>\n",
       "      <th>3</th>\n",
       "      <td>3</td>\n",
       "      <td>What's included in your enterprise SLA?</td>\n",
       "      <td>General Inquiry</td>\n",
       "      <td>Service Level Agreement</td>\n",
       "      <td>Contract Information</td>\n",
       "      <td>Enterprise Support</td>\n",
       "      <td>Our Enterprise SLA includes: 99.99% uptime, 24...</td>\n",
       "      <td>/enterprise/sla;/enterprise/support-tiers</td>\n",
       "      <td>SLA,enterprise,uptime,support,contract</td>\n",
       "    </tr>\n",
       "    <tr>\n",
       "      <th>4</th>\n",
       "      <td>4</td>\n",
       "      <td>How do I enable two-factor authentication?</td>\n",
       "      <td>Account</td>\n",
       "      <td>Security Settings</td>\n",
       "      <td>Enable 2FA</td>\n",
       "      <td>Authentication &amp; Security</td>\n",
       "      <td>To enable 2FA: 1. Go to 'Account Settings' 2. ...</td>\n",
       "      <td>/account-security/two-factor-authentication;/a...</td>\n",
       "      <td>2FA,authentication,security,account,login</td>\n",
       "    </tr>\n",
       "  </tbody>\n",
       "</table>\n",
       "</div>"
      ],
      "text/plain": [
       "   id                                    question         category  \\\n",
       "0   0         How do I reset my account password?          Account   \n",
       "1   1         Can I upgrade my subscription plan?          Billing   \n",
       "2   2    How do I integrate your API with my CRM?        Technical   \n",
       "3   3     What's included in your enterprise SLA?  General Inquiry   \n",
       "4   4  How do I enable two-factor authentication?          Account   \n",
       "\n",
       "               subcategory                intent            product_feature  \\\n",
       "0           Password Reset     Password Recovery  Authentication & Security   \n",
       "1  Subscription Management          Plan Upgrade    Billing & Subscriptions   \n",
       "2          API Integration     Integration Setup         API & Integrations   \n",
       "3  Service Level Agreement  Contract Information         Enterprise Support   \n",
       "4        Security Settings            Enable 2FA  Authentication & Security   \n",
       "\n",
       "                                            response  \\\n",
       "0  To reset your password: 1. Go to the login pag...   \n",
       "1  Yes, you can upgrade anytime. To do so: 1. Log...   \n",
       "2  To integrate: 1. Generate an API key 2. Review...   \n",
       "3  Our Enterprise SLA includes: 99.99% uptime, 24...   \n",
       "4  To enable 2FA: 1. Go to 'Account Settings' 2. ...   \n",
       "\n",
       "                                    related_articles  \\\n",
       "0  /account-security/password-reset;/account-mana...   \n",
       "1  /billing/changing-subscription-plans;/billing/...   \n",
       "2       /api-reference;/integrations/crm-setup-guide   \n",
       "3          /enterprise/sla;/enterprise/support-tiers   \n",
       "4  /account-security/two-factor-authentication;/a...   \n",
       "\n",
       "                                        tags  \n",
       "0      password,reset,account,security,login  \n",
       "1  upgrade,subscription,billing,plan,pricing  \n",
       "2    API,integration,CRM,developer,technical  \n",
       "3     SLA,enterprise,uptime,support,contract  \n",
       "4  2FA,authentication,security,account,login  "
      ]
     },
     "execution_count": 3,
     "metadata": {},
     "output_type": "execute_result"
    }
   ],
   "source": [
    "df = pd.read_csv('../data/data-unclean.csv', sep=\",\")\n",
    "df.head()"
   ]
  },
  {
   "cell_type": "code",
   "execution_count": 4,
   "id": "1124d1f1-febe-4cc0-b772-bc2a62574946",
   "metadata": {},
   "outputs": [
    {
     "data": {
      "text/plain": [
       "Index(['id', 'question', 'category', 'subcategory', 'intent',\n",
       "       'product_feature', 'response', 'related_articles', 'tags'],\n",
       "      dtype='object')"
      ]
     },
     "execution_count": 4,
     "metadata": {},
     "output_type": "execute_result"
    }
   ],
   "source": [
    "df.columns"
   ]
  },
  {
   "cell_type": "code",
   "execution_count": 5,
   "id": "e1d95d89-f9bb-4058-9fc0-81800e01d464",
   "metadata": {},
   "outputs": [],
   "source": [
    "documents = df.to_dict(orient='records')"
   ]
  },
  {
   "cell_type": "code",
   "execution_count": 6,
   "id": "42a4c64e-607c-438e-b246-a1971f5b8ef4",
   "metadata": {},
   "outputs": [
    {
     "data": {
      "text/plain": [
       "{'id': 0,\n",
       " 'question': 'How do I reset my account password?',\n",
       " 'category': 'Account',\n",
       " 'subcategory': 'Password Reset',\n",
       " 'intent': 'Password Recovery',\n",
       " 'product_feature': 'Authentication & Security',\n",
       " 'response': \"To reset your password: 1. Go to the login page 2. Click 'Forgot Password' 3. Enter your email 4. Check your email for a reset link 5. Click the link and enter a new password\",\n",
       " 'related_articles': '/account-security/password-reset;/account-management/updating-account-info',\n",
       " 'tags': 'password,reset,account,security,login'}"
      ]
     },
     "execution_count": 6,
     "metadata": {},
     "output_type": "execute_result"
    }
   ],
   "source": [
    "documents[0]"
   ]
  },
  {
   "cell_type": "code",
   "execution_count": 7,
   "id": "7ff4a045-5cdf-42f6-bbc4-fabcab27a08d",
   "metadata": {},
   "outputs": [],
   "source": [
    "index = minsearch.Index(\n",
    "    text_fields=['question', 'category', 'subcategory', 'intent',\n",
    "       'product_feature', 'response', 'related_articles', 'tags'],\n",
    "    keyword_fields=['id']\n",
    ")"
   ]
  },
  {
   "cell_type": "code",
   "execution_count": 8,
   "id": "37be3965-4e03-4785-abe0-00567c758f8b",
   "metadata": {},
   "outputs": [
    {
     "data": {
      "text/plain": [
       "<minsearch.Index at 0x706ae62d7830>"
      ]
     },
     "execution_count": 8,
     "metadata": {},
     "output_type": "execute_result"
    }
   ],
   "source": [
    "index.fit(documents)"
   ]
  },
  {
   "cell_type": "code",
   "execution_count": 9,
   "id": "74c70bd3-ec4e-4457-b3c6-a9b28afcbb73",
   "metadata": {},
   "outputs": [],
   "source": [
    "query = 'How do I integrate your API with my CRM?'"
   ]
  },
  {
   "cell_type": "code",
   "execution_count": 10,
   "id": "6dba9dd9-fbda-468b-bbf1-32cfdd2dbc87",
   "metadata": {},
   "outputs": [
    {
     "data": {
      "text/plain": [
       "[{'id': 2,\n",
       "  'question': 'How do I integrate your API with my CRM?',\n",
       "  'category': 'Technical',\n",
       "  'subcategory': 'API Integration',\n",
       "  'intent': 'Integration Setup',\n",
       "  'product_feature': 'API & Integrations',\n",
       "  'response': 'To integrate: 1. Generate an API key 2. Review our API docs 3. Use our SDKs or make REST calls 4. Configure your CRM 5. Test the integration thoroughly',\n",
       "  'related_articles': '/api-reference;/integrations/crm-setup-guide',\n",
       "  'tags': 'API,integration,CRM,developer,technical'},\n",
       " {'id': 14,\n",
       "  'question': 'How do I generate an API key?',\n",
       "  'category': 'Technical',\n",
       "  'subcategory': 'API Management',\n",
       "  'intent': 'API Key Generation',\n",
       "  'product_feature': 'API & Integrations',\n",
       "  'response': \"To generate an API key: 1. Go to 'Developer Settings' 2. Click 'API Keys' 3. Select 'Generate New Key' 4. Set permissions for the key 5. Copy and securely store the key (it won't be shown again)\",\n",
       "  'related_articles': '/api-reference/authentication;/api-management/key-security',\n",
       "  'tags': 'API,key,developer,authentication,security'},\n",
       " {'id': 23,\n",
       "  'question': 'What integrations do you offer?',\n",
       "  'category': 'Technical',\n",
       "  'subcategory': 'Third-party Integrations',\n",
       "  'intent': 'Integration Options',\n",
       "  'product_feature': 'API & Integrations',\n",
       "  'response': 'We offer integrations with: 1. CRM systems (Salesforce, HubSpot) 2. Communication tools (Slack, Microsoft Teams) 3. Project management (Jira, Asana) 4. Analytics (Google Analytics, Mixpanel) 5. Custom via API',\n",
       "  'related_articles': '/integrations/available-integrations;/api-reference/webhooks',\n",
       "  'tags': 'integrations,API,CRM,analytics,productivity'},\n",
       " {'id': 0,\n",
       "  'question': 'How do I reset my account password?',\n",
       "  'category': 'Account',\n",
       "  'subcategory': 'Password Reset',\n",
       "  'intent': 'Password Recovery',\n",
       "  'product_feature': 'Authentication & Security',\n",
       "  'response': \"To reset your password: 1. Go to the login page 2. Click 'Forgot Password' 3. Enter your email 4. Check your email for a reset link 5. Click the link and enter a new password\",\n",
       "  'related_articles': '/account-security/password-reset;/account-management/updating-account-info',\n",
       "  'tags': 'password,reset,account,security,login'},\n",
       " {'id': 12,\n",
       "  'question': 'How do I cancel my subscription?',\n",
       "  'category': 'Billing',\n",
       "  'subcategory': 'Account Termination',\n",
       "  'intent': 'Cancel Subscription',\n",
       "  'product_feature': 'Billing & Subscriptions',\n",
       "  'response': \"To cancel: 1. Log in 2. Go to 'Billing' 3. Click 'Cancel Subscription' 4. Select reason for cancelling 5. Confirm cancellation. Your account will remain active until the end of the current billing cycle.\",\n",
       "  'related_articles': '/billing/cancelling-subscription;/account-management/account-closure',\n",
       "  'tags': 'cancel,subscription,billing,account,termination'},\n",
       " {'id': 1,\n",
       "  'question': 'Can I upgrade my subscription plan?',\n",
       "  'category': 'Billing',\n",
       "  'subcategory': 'Subscription Management',\n",
       "  'intent': 'Plan Upgrade',\n",
       "  'product_feature': 'Billing & Subscriptions',\n",
       "  'response': \"Yes, you can upgrade anytime. To do so: 1. Log in 2. Go to 'Billing' 3. Select 'Change Plan' 4. Choose your new plan 5. Confirm the upgrade\",\n",
       "  'related_articles': '/billing/changing-subscription-plans;/billing/billing-cycles-and-proration',\n",
       "  'tags': 'upgrade,subscription,billing,plan,pricing'},\n",
       " {'id': 24,\n",
       "  'question': 'How do I download invoices for my account?',\n",
       "  'category': 'Billing',\n",
       "  'subcategory': 'Invoice Management',\n",
       "  'intent': 'Access Invoices',\n",
       "  'product_feature': 'Billing & Subscriptions',\n",
       "  'response': \"To download invoices: 1. Log in 2. Go to 'Billing' 3. Click 'Invoice History' 4. Select the invoice you want 5. Click 'Download PDF' 6. Save the file to your computer\",\n",
       "  'related_articles': '/billing/accessing-invoices;/accounting/tax-documentation',\n",
       "  'tags': 'invoice,billing,accounting,taxes,documentation'},\n",
       " {'id': 8,\n",
       "  'question': 'How do I add team members to my account?',\n",
       "  'category': 'Account',\n",
       "  'subcategory': 'User Management',\n",
       "  'intent': 'Add Users',\n",
       "  'product_feature': 'Collaboration & Sharing',\n",
       "  'response': \"To add team members: 1. Go to 'Team Settings' 2. Click 'Invite Member' 3. Enter their email and set permissions 4. Click 'Send Invite' 5. They'll receive an email to join your team\",\n",
       "  'related_articles': '/account-management/adding-team-members;/collaboration/team-permissions',\n",
       "  'tags': 'team,users,collaboration,permissions,invite'},\n",
       " {'id': 19,\n",
       "  'question': 'Can I use my own domain for your service?',\n",
       "  'category': 'Technical',\n",
       "  'subcategory': 'Domain Management',\n",
       "  'intent': 'Custom Domain Setup',\n",
       "  'product_feature': 'Branding & Customization',\n",
       "  'response': \"Yes, on Pro and Enterprise plans. To set up: 1. Go to 'Domain Settings' 2. Click 'Add Custom Domain' 3. Enter your domain 4. Update your DNS records as instructed 5. Verify domain ownership 6. Enable SSL\",\n",
       "  'related_articles': '/customization/custom-domains;/security/ssl-certificates',\n",
       "  'tags': 'domain,DNS,branding,SSL,customization'},\n",
       " {'id': 6,\n",
       "  'question': 'How can I export my data?',\n",
       "  'category': 'Technical',\n",
       "  'subcategory': 'Data Management',\n",
       "  'intent': 'Data Export',\n",
       "  'product_feature': 'Data & Analytics',\n",
       "  'response': \"To export your data: 1. Go to 'Settings' 2. Click 'Data Export' 3. Select the data you want to export 4. Choose the file format (CSV or JSON) 5. Click 'Generate Export' 6. Download the file when ready\",\n",
       "  'related_articles': '/data-management/exporting-data;/data-management/data-retention-policy',\n",
       "  'tags': 'export,data,CSV,JSON,analytics'}]"
      ]
     },
     "execution_count": 10,
     "metadata": {},
     "output_type": "execute_result"
    }
   ],
   "source": [
    "index.search(query, num_results=10)"
   ]
  },
  {
   "cell_type": "markdown",
   "id": "d894e3e0-b1a1-4307-a443-3b1a5d9b00eb",
   "metadata": {},
   "source": [
    "## RAG Flow"
   ]
  },
  {
   "cell_type": "code",
   "execution_count": 11,
   "id": "c970265d-3405-48e1-8f02-8e9cd3c84cbc",
   "metadata": {},
   "outputs": [],
   "source": [
    "client = OpenAI(api_key = 'YOUR_KEY')"
   ]
  },
  {
   "cell_type": "code",
   "execution_count": 12,
   "id": "ca422f77-6b38-4492-bcf1-661a981b6ad4",
   "metadata": {},
   "outputs": [],
   "source": [
    "def search(query):\n",
    "    boost = {}\n",
    "\n",
    "    results = index.search(\n",
    "        query=query,\n",
    "        filter_dict={},\n",
    "        boost_dict=boost,\n",
    "        num_results=10\n",
    "    )\n",
    "\n",
    "    return results"
   ]
  },
  {
   "cell_type": "code",
   "execution_count": 13,
   "id": "bae6b46c-3016-4b53-bb6c-a51693f9c260",
   "metadata": {},
   "outputs": [],
   "source": [
    "prompt_template = \"\"\"\n",
    "You're a B2B SaaS company's customer support analyst. Answer the QUESTION based on the CONTEXT from our support queue knowledge database.\n",
    "Use only the facts from the CONTEXT when answering the QUESTION.\n",
    "\n",
    "QUESTION: {question}\n",
    "\n",
    "CONTEXT:\n",
    "{context}\n",
    "\"\"\".strip()\n",
    "\n",
    "entry_template = \"\"\"\n",
    "question: {question}\n",
    "category: {category}\n",
    "subcategory: {subcategory}\n",
    "intent: {intent}\n",
    "product_feature: {product_feature}\n",
    "response: {response}\n",
    "related_articles: {related_articles}\n",
    "tags: {tags}\n",
    "\"\"\".strip()\n",
    "\n",
    "def build_prompt(query, search_results):\n",
    "    context = \"\"\n",
    "    \n",
    "    for doc in search_results:\n",
    "        context = context + entry_template.format(**doc) + \"\\n\\n\"\n",
    "\n",
    "    prompt = prompt_template.format(question=query, context=context).strip()\n",
    "    return prompt"
   ]
  },
  {
   "cell_type": "code",
   "execution_count": 14,
   "id": "f099289d-4556-4eaf-83cc-0730be70b740",
   "metadata": {},
   "outputs": [],
   "source": [
    "def llm(prompt, model='gpt-4o-mini'):\n",
    "    response = client.chat.completions.create(\n",
    "        model=model,\n",
    "        messages=[{\"role\": \"user\", \"content\": prompt}]\n",
    "    )\n",
    "    \n",
    "    return response.choices[0].message.content"
   ]
  },
  {
   "cell_type": "code",
   "execution_count": 15,
   "id": "6269394a-2f04-419d-bf94-b4af69b9297f",
   "metadata": {},
   "outputs": [],
   "source": [
    "def rag(query, model='gpt-4o-mini'):\n",
    "    search_results = search(query)\n",
    "    prompt = build_prompt(query, search_results)\n",
    "    #print(prompt)\n",
    "    answer = llm(prompt, model=model)\n",
    "    return answer"
   ]
  },
  {
   "cell_type": "code",
   "execution_count": 16,
   "id": "4e1f3c83-7e82-4956-a4cc-546c67372e0c",
   "metadata": {},
   "outputs": [
    {
     "name": "stdout",
     "output_type": "stream",
     "text": [
      "To reset your password, follow these steps: \n",
      "\n",
      "1. Go to the login page.\n",
      "2. Click 'Forgot Password'.\n",
      "3. Enter your email.\n",
      "4. Check your email for a reset link.\n",
      "5. Click the link and enter a new password.\n"
     ]
    }
   ],
   "source": [
    "question = 'How can I reset my password?'\n",
    "answer = rag(question)\n",
    "print(answer)"
   ]
  },
  {
   "cell_type": "code",
   "execution_count": 17,
   "id": "a6f34caa-60cb-4df2-a51d-b5f70b325e35",
   "metadata": {},
   "outputs": [
    {
     "name": "stdout",
     "output_type": "stream",
     "text": [
      "To set up an enterprise account, you need to follow these steps:\n",
      "\n",
      "1. Upgrade to the Enterprise plan.\n",
      "2. Go to 'Security Settings'.\n",
      "3. Enable Single Sign-On (SSO) if required by your organization.\n",
      "4. Choose your Identity Provider (IdP) such as Okta or Azure AD.\n",
      "5. Configure SAML or OAuth as per your requirements.\n",
      "6. Test the SSO connection to ensure it's working properly.\n",
      "\n",
      "For more details, you can refer to related articles on SSO setup and enterprise features.\n"
     ]
    }
   ],
   "source": [
    "question = 'How can I setup enterprise account?'\n",
    "answer = rag(question)\n",
    "print(answer)"
   ]
  },
  {
   "cell_type": "markdown",
   "id": "2f636c0a-d9c3-4160-9a60-11212a5b9819",
   "metadata": {},
   "source": [
    "## Retrieval evaluation\n",
    "\n",
    "Make sure that ground truth data was generated using `evaluation-data-generation.ipynb`"
   ]
  },
  {
   "cell_type": "code",
   "execution_count": 18,
   "id": "0a2800b6-5dc8-4888-b432-11f42e17f035",
   "metadata": {},
   "outputs": [],
   "source": [
    "df_question = pd.read_csv('../data/ground-truth-retrieval.csv')"
   ]
  },
  {
   "cell_type": "code",
   "execution_count": 19,
   "id": "47ac04ce-38de-48ca-bfbe-e7bf919d362c",
   "metadata": {},
   "outputs": [
    {
     "data": {
      "text/html": [
       "<div>\n",
       "<style scoped>\n",
       "    .dataframe tbody tr th:only-of-type {\n",
       "        vertical-align: middle;\n",
       "    }\n",
       "\n",
       "    .dataframe tbody tr th {\n",
       "        vertical-align: top;\n",
       "    }\n",
       "\n",
       "    .dataframe thead th {\n",
       "        text-align: right;\n",
       "    }\n",
       "</style>\n",
       "<table border=\"1\" class=\"dataframe\">\n",
       "  <thead>\n",
       "    <tr style=\"text-align: right;\">\n",
       "      <th></th>\n",
       "      <th>id</th>\n",
       "      <th>question</th>\n",
       "    </tr>\n",
       "  </thead>\n",
       "  <tbody>\n",
       "    <tr>\n",
       "      <th>0</th>\n",
       "      <td>0</td>\n",
       "      <td>What steps should I follow to reset my account...</td>\n",
       "    </tr>\n",
       "    <tr>\n",
       "      <th>1</th>\n",
       "      <td>0</td>\n",
       "      <td>Can you guide me on how to recover my password?</td>\n",
       "    </tr>\n",
       "    <tr>\n",
       "      <th>2</th>\n",
       "      <td>0</td>\n",
       "      <td>What should I do if I forgot my password for m...</td>\n",
       "    </tr>\n",
       "    <tr>\n",
       "      <th>3</th>\n",
       "      <td>0</td>\n",
       "      <td>Where can I find the link to reset my password?</td>\n",
       "    </tr>\n",
       "    <tr>\n",
       "      <th>4</th>\n",
       "      <td>0</td>\n",
       "      <td>How can I change my password if I can't log in?</td>\n",
       "    </tr>\n",
       "    <tr>\n",
       "      <th>...</th>\n",
       "      <td>...</td>\n",
       "      <td>...</td>\n",
       "    </tr>\n",
       "    <tr>\n",
       "      <th>120</th>\n",
       "      <td>24</td>\n",
       "      <td>What steps should I follow to download my acco...</td>\n",
       "    </tr>\n",
       "    <tr>\n",
       "      <th>121</th>\n",
       "      <td>24</td>\n",
       "      <td>Where can I find the option to download my inv...</td>\n",
       "    </tr>\n",
       "    <tr>\n",
       "      <th>122</th>\n",
       "      <td>24</td>\n",
       "      <td>Is there a specific format in which the invoic...</td>\n",
       "    </tr>\n",
       "    <tr>\n",
       "      <th>123</th>\n",
       "      <td>24</td>\n",
       "      <td>After downloading an invoice, where will it be...</td>\n",
       "    </tr>\n",
       "    <tr>\n",
       "      <th>124</th>\n",
       "      <td>24</td>\n",
       "      <td>Can I access my invoice history from the billi...</td>\n",
       "    </tr>\n",
       "  </tbody>\n",
       "</table>\n",
       "<p>125 rows × 2 columns</p>\n",
       "</div>"
      ],
      "text/plain": [
       "     id                                           question\n",
       "0     0  What steps should I follow to reset my account...\n",
       "1     0    Can you guide me on how to recover my password?\n",
       "2     0  What should I do if I forgot my password for m...\n",
       "3     0    Where can I find the link to reset my password?\n",
       "4     0    How can I change my password if I can't log in?\n",
       "..   ..                                                ...\n",
       "120  24  What steps should I follow to download my acco...\n",
       "121  24  Where can I find the option to download my inv...\n",
       "122  24  Is there a specific format in which the invoic...\n",
       "123  24  After downloading an invoice, where will it be...\n",
       "124  24  Can I access my invoice history from the billi...\n",
       "\n",
       "[125 rows x 2 columns]"
      ]
     },
     "execution_count": 19,
     "metadata": {},
     "output_type": "execute_result"
    }
   ],
   "source": [
    "df_question"
   ]
  },
  {
   "cell_type": "code",
   "execution_count": 20,
   "id": "9bf70d02-703b-4349-bfb8-1942d0585f43",
   "metadata": {},
   "outputs": [],
   "source": [
    "ground_truth = df_question.to_dict(orient='records')"
   ]
  },
  {
   "cell_type": "code",
   "execution_count": 21,
   "id": "d9836ff7-eaab-4185-8e47-8a242dcf426d",
   "metadata": {},
   "outputs": [
    {
     "data": {
      "text/plain": [
       "{'id': 0,\n",
       " 'question': 'What steps should I follow to reset my account password?'}"
      ]
     },
     "execution_count": 21,
     "metadata": {},
     "output_type": "execute_result"
    }
   ],
   "source": [
    "ground_truth[0]"
   ]
  },
  {
   "cell_type": "code",
   "execution_count": 22,
   "id": "211b700b-4346-4982-a8d8-c54dec522532",
   "metadata": {},
   "outputs": [],
   "source": [
    "def hit_rate(relevance_total):\n",
    "    cnt = 0\n",
    "\n",
    "    for line in relevance_total:\n",
    "        if True in line:\n",
    "            cnt = cnt + 1\n",
    "\n",
    "    return cnt / len(relevance_total)\n",
    "\n",
    "def mrr(relevance_total):\n",
    "    total_score = 0.0\n",
    "\n",
    "    for line in relevance_total:\n",
    "        for rank in range(len(line)):\n",
    "            if line[rank] == True:\n",
    "                total_score = total_score + 1 / (rank + 1)\n",
    "\n",
    "    return total_score / len(relevance_total)"
   ]
  },
  {
   "cell_type": "code",
   "execution_count": 23,
   "id": "8163518a-12ef-4d46-80ea-7471e0c19a5e",
   "metadata": {},
   "outputs": [],
   "source": [
    "def minsearch_search(query):\n",
    "    boost = {}\n",
    "\n",
    "    results = index.search(\n",
    "        query=query,\n",
    "        filter_dict={},\n",
    "        boost_dict=boost,\n",
    "        num_results=10\n",
    "    )\n",
    "\n",
    "    return results"
   ]
  },
  {
   "cell_type": "code",
   "execution_count": 24,
   "id": "46ad0ad2-c737-4979-a426-715080071bc6",
   "metadata": {},
   "outputs": [],
   "source": [
    "def evaluate(ground_truth, search_function):\n",
    "    relevance_total = []\n",
    "\n",
    "    for q in tqdm(ground_truth):\n",
    "        doc_id = q['id']\n",
    "        results = search_function(q)\n",
    "        relevance = [d['id'] == doc_id for d in results]\n",
    "        relevance_total.append(relevance)\n",
    "\n",
    "    return {\n",
    "        'hit_rate': hit_rate(relevance_total),\n",
    "        'mrr': mrr(relevance_total),\n",
    "    }"
   ]
  },
  {
   "cell_type": "code",
   "execution_count": 25,
   "id": "55453e32-d1b0-4c0a-9ed3-2931e01d7f60",
   "metadata": {},
   "outputs": [
    {
     "data": {
      "application/vnd.jupyter.widget-view+json": {
       "model_id": "cfe0ef72a77e4060829c527a4c5d2a64",
       "version_major": 2,
       "version_minor": 0
      },
      "text/plain": [
       "  0%|          | 0/125 [00:00<?, ?it/s]"
      ]
     },
     "metadata": {},
     "output_type": "display_data"
    },
    {
     "data": {
      "text/plain": [
       "{'hit_rate': 0.992, 'mrr': 0.888}"
      ]
     },
     "execution_count": 25,
     "metadata": {},
     "output_type": "execute_result"
    }
   ],
   "source": [
    "evaluate(ground_truth, lambda q: minsearch_search(q['question']))"
   ]
  },
  {
   "cell_type": "markdown",
   "id": "41c75606-9638-4709-a6e9-418607bed598",
   "metadata": {},
   "source": [
    "## Finding the best parameters"
   ]
  },
  {
   "cell_type": "code",
   "execution_count": 26,
   "id": "9104cffa-7827-4dcd-a33e-ab9823be96cb",
   "metadata": {},
   "outputs": [],
   "source": [
    "df_validation = df_question[:25]\n",
    "df_test = df_question[25:]"
   ]
  },
  {
   "cell_type": "code",
   "execution_count": 27,
   "id": "466d6b3c-37f9-4825-8baa-e4af44d2af68",
   "metadata": {},
   "outputs": [
    {
     "data": {
      "text/html": [
       "<div>\n",
       "<style scoped>\n",
       "    .dataframe tbody tr th:only-of-type {\n",
       "        vertical-align: middle;\n",
       "    }\n",
       "\n",
       "    .dataframe tbody tr th {\n",
       "        vertical-align: top;\n",
       "    }\n",
       "\n",
       "    .dataframe thead th {\n",
       "        text-align: right;\n",
       "    }\n",
       "</style>\n",
       "<table border=\"1\" class=\"dataframe\">\n",
       "  <thead>\n",
       "    <tr style=\"text-align: right;\">\n",
       "      <th></th>\n",
       "      <th>id</th>\n",
       "      <th>question</th>\n",
       "    </tr>\n",
       "  </thead>\n",
       "  <tbody>\n",
       "    <tr>\n",
       "      <th>0</th>\n",
       "      <td>0</td>\n",
       "      <td>What steps should I follow to reset my account...</td>\n",
       "    </tr>\n",
       "    <tr>\n",
       "      <th>1</th>\n",
       "      <td>0</td>\n",
       "      <td>Can you guide me on how to recover my password?</td>\n",
       "    </tr>\n",
       "    <tr>\n",
       "      <th>2</th>\n",
       "      <td>0</td>\n",
       "      <td>What should I do if I forgot my password for m...</td>\n",
       "    </tr>\n",
       "    <tr>\n",
       "      <th>3</th>\n",
       "      <td>0</td>\n",
       "      <td>Where can I find the link to reset my password?</td>\n",
       "    </tr>\n",
       "    <tr>\n",
       "      <th>4</th>\n",
       "      <td>0</td>\n",
       "      <td>How can I change my password if I can't log in?</td>\n",
       "    </tr>\n",
       "    <tr>\n",
       "      <th>5</th>\n",
       "      <td>1</td>\n",
       "      <td>Is it possible to upgrade my current subscript...</td>\n",
       "    </tr>\n",
       "    <tr>\n",
       "      <th>6</th>\n",
       "      <td>1</td>\n",
       "      <td>What steps do I need to take to change my subs...</td>\n",
       "    </tr>\n",
       "    <tr>\n",
       "      <th>7</th>\n",
       "      <td>1</td>\n",
       "      <td>Where can I find the option to upgrade my plan...</td>\n",
       "    </tr>\n",
       "    <tr>\n",
       "      <th>8</th>\n",
       "      <td>1</td>\n",
       "      <td>Will I be able to choose a new plan when I upg...</td>\n",
       "    </tr>\n",
       "    <tr>\n",
       "      <th>9</th>\n",
       "      <td>1</td>\n",
       "      <td>Do I need to confirm anything after selecting ...</td>\n",
       "    </tr>\n",
       "    <tr>\n",
       "      <th>10</th>\n",
       "      <td>2</td>\n",
       "      <td>What are the steps for integrating your API wi...</td>\n",
       "    </tr>\n",
       "    <tr>\n",
       "      <th>11</th>\n",
       "      <td>2</td>\n",
       "      <td>How can I generate an API key for the integrat...</td>\n",
       "    </tr>\n",
       "    <tr>\n",
       "      <th>12</th>\n",
       "      <td>2</td>\n",
       "      <td>Where can I find the documentation for your API?</td>\n",
       "    </tr>\n",
       "    <tr>\n",
       "      <th>13</th>\n",
       "      <td>2</td>\n",
       "      <td>Do you provide SDKs for API integration with C...</td>\n",
       "    </tr>\n",
       "    <tr>\n",
       "      <th>14</th>\n",
       "      <td>2</td>\n",
       "      <td>What should I do to test the integration after...</td>\n",
       "    </tr>\n",
       "    <tr>\n",
       "      <th>15</th>\n",
       "      <td>3</td>\n",
       "      <td>What are the uptime guarantees included in the...</td>\n",
       "    </tr>\n",
       "    <tr>\n",
       "      <th>16</th>\n",
       "      <td>3</td>\n",
       "      <td>Does the enterprise SLA provide 24/7 support?</td>\n",
       "    </tr>\n",
       "    <tr>\n",
       "      <th>17</th>\n",
       "      <td>3</td>\n",
       "      <td>Will I have a dedicated account manager with t...</td>\n",
       "    </tr>\n",
       "    <tr>\n",
       "      <th>18</th>\n",
       "      <td>3</td>\n",
       "      <td>How often will reviews be conducted under the ...</td>\n",
       "    </tr>\n",
       "    <tr>\n",
       "      <th>19</th>\n",
       "      <td>3</td>\n",
       "      <td>Are there any advanced security features inclu...</td>\n",
       "    </tr>\n",
       "    <tr>\n",
       "      <th>20</th>\n",
       "      <td>4</td>\n",
       "      <td>What steps do I need to follow to turn on two-...</td>\n",
       "    </tr>\n",
       "    <tr>\n",
       "      <th>21</th>\n",
       "      <td>4</td>\n",
       "      <td>Can you guide me through the process of settin...</td>\n",
       "    </tr>\n",
       "    <tr>\n",
       "      <th>22</th>\n",
       "      <td>4</td>\n",
       "      <td>What options do I have for choosing a two-fact...</td>\n",
       "    </tr>\n",
       "    <tr>\n",
       "      <th>23</th>\n",
       "      <td>4</td>\n",
       "      <td>How can I make sure I don’t lose access to my ...</td>\n",
       "    </tr>\n",
       "    <tr>\n",
       "      <th>24</th>\n",
       "      <td>4</td>\n",
       "      <td>Where can I find additional resources about en...</td>\n",
       "    </tr>\n",
       "  </tbody>\n",
       "</table>\n",
       "</div>"
      ],
      "text/plain": [
       "    id                                           question\n",
       "0    0  What steps should I follow to reset my account...\n",
       "1    0    Can you guide me on how to recover my password?\n",
       "2    0  What should I do if I forgot my password for m...\n",
       "3    0    Where can I find the link to reset my password?\n",
       "4    0    How can I change my password if I can't log in?\n",
       "5    1  Is it possible to upgrade my current subscript...\n",
       "6    1  What steps do I need to take to change my subs...\n",
       "7    1  Where can I find the option to upgrade my plan...\n",
       "8    1  Will I be able to choose a new plan when I upg...\n",
       "9    1  Do I need to confirm anything after selecting ...\n",
       "10   2  What are the steps for integrating your API wi...\n",
       "11   2  How can I generate an API key for the integrat...\n",
       "12   2   Where can I find the documentation for your API?\n",
       "13   2  Do you provide SDKs for API integration with C...\n",
       "14   2  What should I do to test the integration after...\n",
       "15   3  What are the uptime guarantees included in the...\n",
       "16   3      Does the enterprise SLA provide 24/7 support?\n",
       "17   3  Will I have a dedicated account manager with t...\n",
       "18   3  How often will reviews be conducted under the ...\n",
       "19   3  Are there any advanced security features inclu...\n",
       "20   4  What steps do I need to follow to turn on two-...\n",
       "21   4  Can you guide me through the process of settin...\n",
       "22   4  What options do I have for choosing a two-fact...\n",
       "23   4  How can I make sure I don’t lose access to my ...\n",
       "24   4  Where can I find additional resources about en..."
      ]
     },
     "execution_count": 27,
     "metadata": {},
     "output_type": "execute_result"
    }
   ],
   "source": [
    "df_validation"
   ]
  },
  {
   "cell_type": "code",
   "execution_count": 28,
   "id": "8c51b078-d7d2-4629-8147-0d4058febeec",
   "metadata": {},
   "outputs": [
    {
     "data": {
      "text/html": [
       "<div>\n",
       "<style scoped>\n",
       "    .dataframe tbody tr th:only-of-type {\n",
       "        vertical-align: middle;\n",
       "    }\n",
       "\n",
       "    .dataframe tbody tr th {\n",
       "        vertical-align: top;\n",
       "    }\n",
       "\n",
       "    .dataframe thead th {\n",
       "        text-align: right;\n",
       "    }\n",
       "</style>\n",
       "<table border=\"1\" class=\"dataframe\">\n",
       "  <thead>\n",
       "    <tr style=\"text-align: right;\">\n",
       "      <th></th>\n",
       "      <th>id</th>\n",
       "      <th>question</th>\n",
       "    </tr>\n",
       "  </thead>\n",
       "  <tbody>\n",
       "    <tr>\n",
       "      <th>25</th>\n",
       "      <td>5</td>\n",
       "      <td>What types of credit cards can I use for payment?</td>\n",
       "    </tr>\n",
       "    <tr>\n",
       "      <th>26</th>\n",
       "      <td>5</td>\n",
       "      <td>Can I pay for my subscription using PayPal?</td>\n",
       "    </tr>\n",
       "    <tr>\n",
       "      <th>27</th>\n",
       "      <td>5</td>\n",
       "      <td>Is it possible to use a bank transfer for my a...</td>\n",
       "    </tr>\n",
       "    <tr>\n",
       "      <th>28</th>\n",
       "      <td>5</td>\n",
       "      <td>How do I update my current payment method in t...</td>\n",
       "    </tr>\n",
       "    <tr>\n",
       "      <th>29</th>\n",
       "      <td>5</td>\n",
       "      <td>Where can I find information about the payment...</td>\n",
       "    </tr>\n",
       "    <tr>\n",
       "      <th>...</th>\n",
       "      <td>...</td>\n",
       "      <td>...</td>\n",
       "    </tr>\n",
       "    <tr>\n",
       "      <th>120</th>\n",
       "      <td>24</td>\n",
       "      <td>What steps should I follow to download my acco...</td>\n",
       "    </tr>\n",
       "    <tr>\n",
       "      <th>121</th>\n",
       "      <td>24</td>\n",
       "      <td>Where can I find the option to download my inv...</td>\n",
       "    </tr>\n",
       "    <tr>\n",
       "      <th>122</th>\n",
       "      <td>24</td>\n",
       "      <td>Is there a specific format in which the invoic...</td>\n",
       "    </tr>\n",
       "    <tr>\n",
       "      <th>123</th>\n",
       "      <td>24</td>\n",
       "      <td>After downloading an invoice, where will it be...</td>\n",
       "    </tr>\n",
       "    <tr>\n",
       "      <th>124</th>\n",
       "      <td>24</td>\n",
       "      <td>Can I access my invoice history from the billi...</td>\n",
       "    </tr>\n",
       "  </tbody>\n",
       "</table>\n",
       "<p>100 rows × 2 columns</p>\n",
       "</div>"
      ],
      "text/plain": [
       "     id                                           question\n",
       "25    5  What types of credit cards can I use for payment?\n",
       "26    5        Can I pay for my subscription using PayPal?\n",
       "27    5  Is it possible to use a bank transfer for my a...\n",
       "28    5  How do I update my current payment method in t...\n",
       "29    5  Where can I find information about the payment...\n",
       "..   ..                                                ...\n",
       "120  24  What steps should I follow to download my acco...\n",
       "121  24  Where can I find the option to download my inv...\n",
       "122  24  Is there a specific format in which the invoic...\n",
       "123  24  After downloading an invoice, where will it be...\n",
       "124  24  Can I access my invoice history from the billi...\n",
       "\n",
       "[100 rows x 2 columns]"
      ]
     },
     "execution_count": 28,
     "metadata": {},
     "output_type": "execute_result"
    }
   ],
   "source": [
    "df_test"
   ]
  },
  {
   "cell_type": "code",
   "execution_count": 29,
   "id": "bb85e173-067d-4949-8f44-0d530b8d9051",
   "metadata": {},
   "outputs": [],
   "source": [
    "import random\n",
    "\n",
    "def simple_optimize(param_ranges, objective_function, n_iterations=10):\n",
    "    best_params = None\n",
    "    best_score = float('-inf')  # Assuming we're minimizing. Use float('-inf') if maximizing.\n",
    "\n",
    "    for _ in range(n_iterations):\n",
    "        # Generate random parameters\n",
    "        current_params = {}\n",
    "        for param, (min_val, max_val) in param_ranges.items():\n",
    "            if isinstance(min_val, int) and isinstance(max_val, int):\n",
    "                current_params[param] = random.randint(min_val, max_val)\n",
    "            else:\n",
    "                current_params[param] = random.uniform(min_val, max_val)\n",
    "        \n",
    "        # Evaluate the objective function\n",
    "        current_score = objective_function(current_params)\n",
    "        \n",
    "        # Update best if current is better\n",
    "        if current_score > best_score:  # Change to > if maximizing\n",
    "            best_score = current_score\n",
    "            best_params = current_params\n",
    "    \n",
    "    return best_params, best_score"
   ]
  },
  {
   "cell_type": "code",
   "execution_count": 30,
   "id": "07c9d7ac-769f-4e3f-95d1-358ee0429b67",
   "metadata": {},
   "outputs": [],
   "source": [
    "gt_val = df_validation.to_dict(orient='records')"
   ]
  },
  {
   "cell_type": "code",
   "execution_count": 31,
   "id": "f4577c3b-17e8-4f75-a2c8-3737aac02fec",
   "metadata": {},
   "outputs": [],
   "source": [
    "def minsearch_search(query, boost=None):\n",
    "    if boost is None:\n",
    "        boost = {}\n",
    "\n",
    "    results = index.search(\n",
    "        query=query,\n",
    "        filter_dict={},\n",
    "        boost_dict=boost,\n",
    "        num_results=10\n",
    "    )\n",
    "\n",
    "    return results"
   ]
  },
  {
   "cell_type": "code",
   "execution_count": 34,
   "id": "77e10549-98ab-40e7-9463-fd672bb2e608",
   "metadata": {},
   "outputs": [],
   "source": [
    "param_ranges = {\n",
    "    'question': (0.0, 3.0),\n",
    "    'category': (0.0, 3.0),\n",
    "    'subcategory': (0.0, 3.0),\n",
    "    'intent': (0.0, 3.0),\n",
    "    'product_feature': (0.0, 3.0),\n",
    "    'response': (0.0, 3.0),\n",
    "    'related_articles': (0.0, 3.0),\n",
    "    'tags': (0.0, 3.0),\n",
    "}\n",
    "\n",
    "def objective(boost_params):\n",
    "    def search_function(q):\n",
    "        return minsearch_search(q['question'], boost_params)\n",
    "\n",
    "    results = evaluate(gt_val, search_function)\n",
    "    return results['mrr']"
   ]
  },
  {
   "cell_type": "code",
   "execution_count": 35,
   "id": "9fafe336-cb51-48f1-9dd9-b9d26701cd2d",
   "metadata": {},
   "outputs": [
    {
     "data": {
      "application/vnd.jupyter.widget-view+json": {
       "model_id": "cfb67ff7870743d7ac1b8c366b0447bb",
       "version_major": 2,
       "version_minor": 0
      },
      "text/plain": [
       "  0%|          | 0/25 [00:00<?, ?it/s]"
      ]
     },
     "metadata": {},
     "output_type": "display_data"
    },
    {
     "data": {
      "application/vnd.jupyter.widget-view+json": {
       "model_id": "525f2bfd75d744c696705e14f4c9460c",
       "version_major": 2,
       "version_minor": 0
      },
      "text/plain": [
       "  0%|          | 0/25 [00:00<?, ?it/s]"
      ]
     },
     "metadata": {},
     "output_type": "display_data"
    },
    {
     "data": {
      "application/vnd.jupyter.widget-view+json": {
       "model_id": "546a9179988948ce821b1ef6066e2f60",
       "version_major": 2,
       "version_minor": 0
      },
      "text/plain": [
       "  0%|          | 0/25 [00:00<?, ?it/s]"
      ]
     },
     "metadata": {},
     "output_type": "display_data"
    },
    {
     "data": {
      "application/vnd.jupyter.widget-view+json": {
       "model_id": "4506bc6441d7459c904ad6478490a14c",
       "version_major": 2,
       "version_minor": 0
      },
      "text/plain": [
       "  0%|          | 0/25 [00:00<?, ?it/s]"
      ]
     },
     "metadata": {},
     "output_type": "display_data"
    },
    {
     "data": {
      "application/vnd.jupyter.widget-view+json": {
       "model_id": "12f2213c454a45c4ba502c2265195f6b",
       "version_major": 2,
       "version_minor": 0
      },
      "text/plain": [
       "  0%|          | 0/25 [00:00<?, ?it/s]"
      ]
     },
     "metadata": {},
     "output_type": "display_data"
    },
    {
     "data": {
      "application/vnd.jupyter.widget-view+json": {
       "model_id": "a19dd8528f554ea4a62c9decacbd33bf",
       "version_major": 2,
       "version_minor": 0
      },
      "text/plain": [
       "  0%|          | 0/25 [00:00<?, ?it/s]"
      ]
     },
     "metadata": {},
     "output_type": "display_data"
    },
    {
     "data": {
      "application/vnd.jupyter.widget-view+json": {
       "model_id": "ea66d6abe5534006ac5374aa2c44b572",
       "version_major": 2,
       "version_minor": 0
      },
      "text/plain": [
       "  0%|          | 0/25 [00:00<?, ?it/s]"
      ]
     },
     "metadata": {},
     "output_type": "display_data"
    },
    {
     "data": {
      "application/vnd.jupyter.widget-view+json": {
       "model_id": "a9395cd5d9a4461bb18c9995fce5008d",
       "version_major": 2,
       "version_minor": 0
      },
      "text/plain": [
       "  0%|          | 0/25 [00:00<?, ?it/s]"
      ]
     },
     "metadata": {},
     "output_type": "display_data"
    },
    {
     "data": {
      "application/vnd.jupyter.widget-view+json": {
       "model_id": "4e3b57218c2d4fbc974d27b3417e22fc",
       "version_major": 2,
       "version_minor": 0
      },
      "text/plain": [
       "  0%|          | 0/25 [00:00<?, ?it/s]"
      ]
     },
     "metadata": {},
     "output_type": "display_data"
    },
    {
     "data": {
      "application/vnd.jupyter.widget-view+json": {
       "model_id": "cc32dd2052e54ad2bf4c407728ed464c",
       "version_major": 2,
       "version_minor": 0
      },
      "text/plain": [
       "  0%|          | 0/25 [00:00<?, ?it/s]"
      ]
     },
     "metadata": {},
     "output_type": "display_data"
    },
    {
     "data": {
      "application/vnd.jupyter.widget-view+json": {
       "model_id": "96ab6baa5bbb404dbe337fb5920c9c37",
       "version_major": 2,
       "version_minor": 0
      },
      "text/plain": [
       "  0%|          | 0/25 [00:00<?, ?it/s]"
      ]
     },
     "metadata": {},
     "output_type": "display_data"
    },
    {
     "data": {
      "application/vnd.jupyter.widget-view+json": {
       "model_id": "b15ddc82649f49cb82f7cad0196a3acb",
       "version_major": 2,
       "version_minor": 0
      },
      "text/plain": [
       "  0%|          | 0/25 [00:00<?, ?it/s]"
      ]
     },
     "metadata": {},
     "output_type": "display_data"
    },
    {
     "data": {
      "application/vnd.jupyter.widget-view+json": {
       "model_id": "16a16a8cbe4a4356ad941b652c4817fd",
       "version_major": 2,
       "version_minor": 0
      },
      "text/plain": [
       "  0%|          | 0/25 [00:00<?, ?it/s]"
      ]
     },
     "metadata": {},
     "output_type": "display_data"
    },
    {
     "data": {
      "application/vnd.jupyter.widget-view+json": {
       "model_id": "042da356b6d74a63ad637a6efbd58991",
       "version_major": 2,
       "version_minor": 0
      },
      "text/plain": [
       "  0%|          | 0/25 [00:00<?, ?it/s]"
      ]
     },
     "metadata": {},
     "output_type": "display_data"
    },
    {
     "data": {
      "application/vnd.jupyter.widget-view+json": {
       "model_id": "2c1d529bb0184889a6de6eb8f94ac0db",
       "version_major": 2,
       "version_minor": 0
      },
      "text/plain": [
       "  0%|          | 0/25 [00:00<?, ?it/s]"
      ]
     },
     "metadata": {},
     "output_type": "display_data"
    },
    {
     "data": {
      "application/vnd.jupyter.widget-view+json": {
       "model_id": "02f713e44c9844129337ba77b08e5b99",
       "version_major": 2,
       "version_minor": 0
      },
      "text/plain": [
       "  0%|          | 0/25 [00:00<?, ?it/s]"
      ]
     },
     "metadata": {},
     "output_type": "display_data"
    },
    {
     "data": {
      "application/vnd.jupyter.widget-view+json": {
       "model_id": "9a3d12ecae5c41048d7af7f53701f677",
       "version_major": 2,
       "version_minor": 0
      },
      "text/plain": [
       "  0%|          | 0/25 [00:00<?, ?it/s]"
      ]
     },
     "metadata": {},
     "output_type": "display_data"
    },
    {
     "data": {
      "application/vnd.jupyter.widget-view+json": {
       "model_id": "0f493fd28f8f4d5084d935f436072c3a",
       "version_major": 2,
       "version_minor": 0
      },
      "text/plain": [
       "  0%|          | 0/25 [00:00<?, ?it/s]"
      ]
     },
     "metadata": {},
     "output_type": "display_data"
    },
    {
     "data": {
      "application/vnd.jupyter.widget-view+json": {
       "model_id": "c395a7a204d649aead818fd191945a2e",
       "version_major": 2,
       "version_minor": 0
      },
      "text/plain": [
       "  0%|          | 0/25 [00:00<?, ?it/s]"
      ]
     },
     "metadata": {},
     "output_type": "display_data"
    },
    {
     "data": {
      "application/vnd.jupyter.widget-view+json": {
       "model_id": "b8221bd66f904d03816d98cbfe43944b",
       "version_major": 2,
       "version_minor": 0
      },
      "text/plain": [
       "  0%|          | 0/25 [00:00<?, ?it/s]"
      ]
     },
     "metadata": {},
     "output_type": "display_data"
    },
    {
     "data": {
      "text/plain": [
       "({'question': 1.6006767365614856,\n",
       "  'category': 1.1642961700557812,\n",
       "  'subcategory': 0.7233985971305616,\n",
       "  'intent': 1.7157525054180156,\n",
       "  'product_feature': 2.4161287885772005,\n",
       "  'response': 1.01960899464581,\n",
       "  'related_articles': 2.9092863477803985,\n",
       "  'tags': 2.3802803346878116},\n",
       " 0.96)"
      ]
     },
     "execution_count": 35,
     "metadata": {},
     "output_type": "execute_result"
    }
   ],
   "source": [
    "simple_optimize(param_ranges, objective, n_iterations=20)"
   ]
  },
  {
   "cell_type": "code",
   "execution_count": 36,
   "id": "21ee762e-4734-4489-851a-a94e43ec46d5",
   "metadata": {},
   "outputs": [
    {
     "data": {
      "application/vnd.jupyter.widget-view+json": {
       "model_id": "a0303839b0ca41f6be3622f3bfda3f46",
       "version_major": 2,
       "version_minor": 0
      },
      "text/plain": [
       "  0%|          | 0/125 [00:00<?, ?it/s]"
      ]
     },
     "metadata": {},
     "output_type": "display_data"
    },
    {
     "data": {
      "text/plain": [
       "{'hit_rate': 0.992, 'mrr': 0.8958095238095238}"
      ]
     },
     "execution_count": 36,
     "metadata": {},
     "output_type": "execute_result"
    }
   ],
   "source": [
    "def minsearch_improved(query):\n",
    "    boost = {\n",
    "        'question': 1.60,\n",
    "        'category': 1.16,\n",
    "        'subcategory': 0.72,\n",
    "        'intent': 1.72,\n",
    "        'product_feature': 2.41,\n",
    "        'response': 1.02,\n",
    "        'related_articles': 2.90,\n",
    "        'tags': 2.38,\n",
    "    }\n",
    "\n",
    "    results = index.search(\n",
    "        query=query,\n",
    "        filter_dict={},\n",
    "        boost_dict=boost,\n",
    "        num_results=10\n",
    "    )\n",
    "\n",
    "    return results\n",
    "\n",
    "evaluate(ground_truth, lambda q: minsearch_improved(q['question']))"
   ]
  },
  {
   "cell_type": "markdown",
   "id": "8f7b4a14-188b-4205-a0c3-a2cae312fc14",
   "metadata": {},
   "source": [
    "## RAG evaluation\n",
    "\n",
    "Let's use LLM-as-a-judge"
   ]
  },
  {
   "cell_type": "code",
   "execution_count": 37,
   "id": "23576ed2-89e2-445b-b24e-f26270653046",
   "metadata": {},
   "outputs": [],
   "source": [
    "prompt2_template = \"\"\"\n",
    "You are an expert evaluator for a RAG system.\n",
    "Your task is to analyze the relevance of the generated answer to the given question.\n",
    "Based on the relevance of the generated answer, you will classify it\n",
    "as \"NON_RELEVANT\", \"PARTLY_RELEVANT\", or \"RELEVANT\".\n",
    "\n",
    "Here is the data for evaluation:\n",
    "\n",
    "Question: {question}\n",
    "Generated Answer: {answer_llm}\n",
    "\n",
    "Please analyze the content and context of the generated answer in relation to the question\n",
    "and provide your evaluation in parsable JSON without using code blocks:\n",
    "\n",
    "{{\n",
    "  \"Relevance\": \"NON_RELEVANT\" | \"PARTLY_RELEVANT\" | \"RELEVANT\",\n",
    "  \"Explanation\": \"[Provide a brief explanation for your evaluation]\"\n",
    "}}\n",
    "\"\"\".strip()"
   ]
  },
  {
   "cell_type": "code",
   "execution_count": 39,
   "id": "106c8a4e-9b89-4e58-9bbf-b3b74e12a882",
   "metadata": {},
   "outputs": [
    {
     "data": {
      "text/plain": [
       "125"
      ]
     },
     "execution_count": 39,
     "metadata": {},
     "output_type": "execute_result"
    }
   ],
   "source": [
    "len(ground_truth)"
   ]
  },
  {
   "cell_type": "code",
   "execution_count": 40,
   "id": "2cd5bb17-fa70-47d8-a0fe-fb74bc0d675c",
   "metadata": {},
   "outputs": [],
   "source": [
    "record = ground_truth[0]\n",
    "question = record['question']\n",
    "answer_llm = rag(question)"
   ]
  },
  {
   "cell_type": "code",
   "execution_count": 41,
   "id": "ffa3bdff-f842-4e86-80e0-cd9d3625cef3",
   "metadata": {},
   "outputs": [
    {
     "name": "stdout",
     "output_type": "stream",
     "text": [
      "To reset your account password, follow these steps:\n",
      "\n",
      "1. Go to the login page.\n",
      "2. Click 'Forgot Password'.\n",
      "3. Enter your email.\n",
      "4. Check your email for a reset link.\n",
      "5. Click the link and enter a new password.\n"
     ]
    }
   ],
   "source": [
    "print(answer_llm)"
   ]
  },
  {
   "cell_type": "code",
   "execution_count": 42,
   "id": "9e76810f-5d0f-426a-846c-f98c8dc0cfb4",
   "metadata": {},
   "outputs": [
    {
     "name": "stdout",
     "output_type": "stream",
     "text": [
      "You are an expert evaluator for a RAG system.\n",
      "Your task is to analyze the relevance of the generated answer to the given question.\n",
      "Based on the relevance of the generated answer, you will classify it\n",
      "as \"NON_RELEVANT\", \"PARTLY_RELEVANT\", or \"RELEVANT\".\n",
      "\n",
      "Here is the data for evaluation:\n",
      "\n",
      "Question: What steps should I follow to reset my account password?\n",
      "Generated Answer: To reset your account password, follow these steps:\n",
      "\n",
      "1. Go to the login page.\n",
      "2. Click 'Forgot Password'.\n",
      "3. Enter your email.\n",
      "4. Check your email for a reset link.\n",
      "5. Click the link and enter a new password.\n",
      "\n",
      "Please analyze the content and context of the generated answer in relation to the question\n",
      "and provide your evaluation in parsable JSON without using code blocks:\n",
      "\n",
      "{\n",
      "  \"Relevance\": \"NON_RELEVANT\" | \"PARTLY_RELEVANT\" | \"RELEVANT\",\n",
      "  \"Explanation\": \"[Provide a brief explanation for your evaluation]\"\n",
      "}\n"
     ]
    }
   ],
   "source": [
    "prompt = prompt2_template.format(question=question, answer_llm=answer_llm)\n",
    "print(prompt)"
   ]
  },
  {
   "cell_type": "code",
   "execution_count": 43,
   "id": "f60bc9cc-8f1c-4a92-bb30-7a37e1c77f00",
   "metadata": {},
   "outputs": [
    {
     "data": {
      "text/plain": [
       "'{\\n  \"Relevance\": \"RELEVANT\",\\n  \"Explanation\": \"The generated answer provides clear and specific steps that directly address the question about how to reset an account password. Each step is relevant and logical, allowing the user to effectively complete the password reset process.\"\\n}'"
      ]
     },
     "execution_count": 43,
     "metadata": {},
     "output_type": "execute_result"
    }
   ],
   "source": [
    "llm(prompt)"
   ]
  },
  {
   "cell_type": "code",
   "execution_count": 46,
   "id": "41d3070a-0d1b-4f9f-a375-af61a35e3288",
   "metadata": {},
   "outputs": [],
   "source": [
    "df_sample = df_question.sample(n=20, random_state=1)"
   ]
  },
  {
   "cell_type": "code",
   "execution_count": 47,
   "id": "f914e766-7053-4033-875a-c62f8625c58b",
   "metadata": {},
   "outputs": [],
   "source": [
    "sample = df_sample.to_dict(orient='records')"
   ]
  },
  {
   "cell_type": "code",
   "execution_count": 48,
   "id": "9d668656-84da-4b15-8b07-c31e5c5bf5c5",
   "metadata": {},
   "outputs": [
    {
     "data": {
      "application/vnd.jupyter.widget-view+json": {
       "model_id": "123039403af4427f84d819cfd4c76bd5",
       "version_major": 2,
       "version_minor": 0
      },
      "text/plain": [
       "  0%|          | 0/20 [00:00<?, ?it/s]"
      ]
     },
     "metadata": {},
     "output_type": "display_data"
    }
   ],
   "source": [
    "evaluations = []\n",
    "\n",
    "for record in tqdm(sample):\n",
    "    question = record['question']\n",
    "    answer_llm = rag(question) \n",
    "\n",
    "    prompt = prompt2_template.format(\n",
    "        question=question,\n",
    "        answer_llm=answer_llm\n",
    "    )\n",
    "\n",
    "    evaluation = llm(prompt)\n",
    "    evaluation = json.loads(evaluation)\n",
    "\n",
    "    evaluations.append((record, answer_llm, evaluation))"
   ]
  },
  {
   "cell_type": "code",
   "execution_count": 49,
   "id": "f9843079-90e0-4e5d-9369-ec54278b6db6",
   "metadata": {},
   "outputs": [
    {
     "data": {
      "text/plain": [
       "({'id': 14,\n",
       "  'question': 'What should I do to ensure the security of my API key after I create it?'},\n",
       " 'To ensure the security of your API key after you create it, make sure to securely store the key as it will not be shown again once copied. Avoid sharing your API key publicly or through unsecured channels. For more detailed security practices regarding API keys, you may refer to the related article on key security.',\n",
       " {'Relevance': 'RELEVANT',\n",
       "  'Explanation': 'The generated answer directly addresses the question about ensuring the security of an API key by providing specific advice on securely storing the key, avoiding public sharing, and suggesting further reading on security practices. This makes it highly relevant to the question asked.'})"
      ]
     },
     "execution_count": 49,
     "metadata": {},
     "output_type": "execute_result"
    }
   ],
   "source": [
    "evaluations[0]"
   ]
  },
  {
   "cell_type": "code",
   "execution_count": 50,
   "id": "ae124032-4b4f-4160-afd4-2a41aedf6277",
   "metadata": {},
   "outputs": [],
   "source": [
    "df_eval = pd.DataFrame(evaluations, columns=['record', 'answer', 'evaluation'])\n",
    "\n",
    "df_eval['id'] = df_eval.record.apply(lambda d: d['id'])\n",
    "df_eval['question'] = df_eval.record.apply(lambda d: d['question'])\n",
    "\n",
    "df_eval['relevance'] = df_eval.evaluation.apply(lambda d: d['Relevance'])\n",
    "df_eval['explanation'] = df_eval.evaluation.apply(lambda d: d['Explanation'])\n",
    "\n",
    "del df_eval['record']\n",
    "del df_eval['evaluation']"
   ]
  },
  {
   "cell_type": "code",
   "execution_count": 51,
   "id": "eb225d8c-a21b-48a0-942e-5ca3ce8e7e94",
   "metadata": {},
   "outputs": [
    {
     "data": {
      "text/plain": [
       "<bound method IndexOpsMixin.value_counts of 0            RELEVANT\n",
       "1            RELEVANT\n",
       "2            RELEVANT\n",
       "3            RELEVANT\n",
       "4            RELEVANT\n",
       "5            RELEVANT\n",
       "6            RELEVANT\n",
       "7            RELEVANT\n",
       "8            RELEVANT\n",
       "9            RELEVANT\n",
       "10           RELEVANT\n",
       "11    PARTLY_RELEVANT\n",
       "12           RELEVANT\n",
       "13           RELEVANT\n",
       "14           RELEVANT\n",
       "15           RELEVANT\n",
       "16           RELEVANT\n",
       "17           RELEVANT\n",
       "18           RELEVANT\n",
       "19           RELEVANT\n",
       "Name: relevance, dtype: object>"
      ]
     },
     "execution_count": 51,
     "metadata": {},
     "output_type": "execute_result"
    }
   ],
   "source": [
    "df_eval.relevance.value_counts"
   ]
  },
  {
   "cell_type": "code",
   "execution_count": 52,
   "id": "642526f9-67c4-4b9a-8a9f-6f9d5f465f29",
   "metadata": {},
   "outputs": [
    {
     "data": {
      "text/plain": [
       "relevance\n",
       "RELEVANT           0.95\n",
       "PARTLY_RELEVANT    0.05\n",
       "Name: proportion, dtype: float64"
      ]
     },
     "execution_count": 52,
     "metadata": {},
     "output_type": "execute_result"
    }
   ],
   "source": [
    "df_eval.relevance.value_counts(normalize=True)"
   ]
  },
  {
   "cell_type": "code",
   "execution_count": 53,
   "id": "6278c838-05ef-4db0-9f6d-1ce21f477bed",
   "metadata": {},
   "outputs": [],
   "source": [
    "df_eval.to_csv('../data/rag-eval-gpt-4o-mini.csv', index=False)"
   ]
  },
  {
   "cell_type": "code",
   "execution_count": 55,
   "id": "b671b547-323a-4490-a307-048c23010a6b",
   "metadata": {},
   "outputs": [
    {
     "data": {
      "text/html": [
       "<div>\n",
       "<style scoped>\n",
       "    .dataframe tbody tr th:only-of-type {\n",
       "        vertical-align: middle;\n",
       "    }\n",
       "\n",
       "    .dataframe tbody tr th {\n",
       "        vertical-align: top;\n",
       "    }\n",
       "\n",
       "    .dataframe thead th {\n",
       "        text-align: right;\n",
       "    }\n",
       "</style>\n",
       "<table border=\"1\" class=\"dataframe\">\n",
       "  <thead>\n",
       "    <tr style=\"text-align: right;\">\n",
       "      <th></th>\n",
       "      <th>answer</th>\n",
       "      <th>id</th>\n",
       "      <th>question</th>\n",
       "      <th>relevance</th>\n",
       "      <th>explanation</th>\n",
       "    </tr>\n",
       "  </thead>\n",
       "  <tbody>\n",
       "    <tr>\n",
       "      <th>11</th>\n",
       "      <td>Based on the provided context, there is no inf...</td>\n",
       "      <td>8</td>\n",
       "      <td>Is there a limit on the number of team members...</td>\n",
       "      <td>PARTLY_RELEVANT</td>\n",
       "      <td>The generated answer addresses the question by...</td>\n",
       "    </tr>\n",
       "  </tbody>\n",
       "</table>\n",
       "</div>"
      ],
      "text/plain": [
       "                                               answer  id  \\\n",
       "11  Based on the provided context, there is no inf...   8   \n",
       "\n",
       "                                             question        relevance  \\\n",
       "11  Is there a limit on the number of team members...  PARTLY_RELEVANT   \n",
       "\n",
       "                                          explanation  \n",
       "11  The generated answer addresses the question by...  "
      ]
     },
     "execution_count": 55,
     "metadata": {},
     "output_type": "execute_result"
    }
   ],
   "source": [
    "# df_eval[df_eval.relevance == 'NON_RELEVANT']\n",
    "df_eval[df_eval.relevance == 'PARTLY_RELEVANT']"
   ]
  },
  {
   "cell_type": "code",
   "execution_count": 56,
   "id": "68508827-8abc-44c8-99f2-c2c7a7e7a51d",
   "metadata": {},
   "outputs": [
    {
     "data": {
      "application/vnd.jupyter.widget-view+json": {
       "model_id": "6422ac4c53224432baafd21297690e05",
       "version_major": 2,
       "version_minor": 0
      },
      "text/plain": [
       "  0%|          | 0/20 [00:00<?, ?it/s]"
      ]
     },
     "metadata": {},
     "output_type": "display_data"
    }
   ],
   "source": [
    "evaluations_gpt4o = []\n",
    "\n",
    "for record in tqdm(sample):\n",
    "    question = record['question']\n",
    "    answer_llm = rag(question, model='gpt-4o') \n",
    "\n",
    "    prompt = prompt2_template.format(\n",
    "        question=question,\n",
    "        answer_llm=answer_llm\n",
    "    )\n",
    "\n",
    "    evaluation = llm(prompt)\n",
    "    evaluation = json.loads(evaluation)\n",
    "    \n",
    "    evaluations_gpt4o.append((record, answer_llm, evaluation))"
   ]
  },
  {
   "cell_type": "code",
   "execution_count": 57,
   "id": "670d6e0b-d491-43e9-a455-d6530b1c13bb",
   "metadata": {},
   "outputs": [
    {
     "data": {
      "text/plain": [
       "({'id': 14,\n",
       "  'question': 'What should I do to ensure the security of my API key after I create it?'},\n",
       " \"To ensure the security of your API key after you create it, you should:\\n\\n1. **Copy and Securely Store the Key:** The API key will only be shown once, so it's critical to copy it immediately and store it securely.\\n2. **Set Appropriate Permissions:** Configure the appropriate permissions while generating the key to limit its access as needed.\\n3. **Refer to Security Best Practices:** You can find related best practices and guidelines in articles like `/api-management/key-security`.\\n\\nBy following these steps, you help protect your API key from unauthorized access or misuse.\",\n",
       " {'Relevance': 'RELEVANT',\n",
       "  'Explanation': 'The generated answer provides specific and actionable steps to secure an API key after its creation, directly addressing the question. It includes methods such as securely storing the key and setting appropriate permissions, which are essential practices for ensuring API key security.'})"
      ]
     },
     "execution_count": 57,
     "metadata": {},
     "output_type": "execute_result"
    }
   ],
   "source": [
    "evaluations_gpt4o[0]"
   ]
  },
  {
   "cell_type": "code",
   "execution_count": 58,
   "id": "b624d987-6f5a-4a0a-a435-137817f36ef1",
   "metadata": {},
   "outputs": [],
   "source": [
    "df_eval = pd.DataFrame(evaluations_gpt4o, columns=['record', 'answer', 'evaluation'])\n",
    "\n",
    "df_eval['id'] = df_eval.record.apply(lambda d: d['id'])\n",
    "df_eval['question'] = df_eval.record.apply(lambda d: d['question'])\n",
    "\n",
    "df_eval['relevance'] = df_eval.evaluation.apply(lambda d: d['Relevance'])\n",
    "df_eval['explanation'] = df_eval.evaluation.apply(lambda d: d['Explanation'])\n",
    "\n",
    "del df_eval['record']\n",
    "del df_eval['evaluation']"
   ]
  },
  {
   "cell_type": "code",
   "execution_count": 59,
   "id": "9acbc12e-5b12-4226-bda9-b184bc8aa4f3",
   "metadata": {},
   "outputs": [
    {
     "data": {
      "text/plain": [
       "relevance\n",
       "RELEVANT    20\n",
       "Name: count, dtype: int64"
      ]
     },
     "execution_count": 59,
     "metadata": {},
     "output_type": "execute_result"
    }
   ],
   "source": [
    "df_eval.relevance.value_counts()"
   ]
  },
  {
   "cell_type": "code",
   "execution_count": 60,
   "id": "367fd8c4-9d05-4b86-a065-e3f606d0c03a",
   "metadata": {},
   "outputs": [
    {
     "data": {
      "text/plain": [
       "relevance\n",
       "RELEVANT    1.0\n",
       "Name: proportion, dtype: float64"
      ]
     },
     "execution_count": 60,
     "metadata": {},
     "output_type": "execute_result"
    }
   ],
   "source": [
    "df_eval.relevance.value_counts(normalize=True)"
   ]
  },
  {
   "cell_type": "code",
   "execution_count": 61,
   "id": "6da9b282-2cf2-4014-bbb1-3a4414a436d4",
   "metadata": {},
   "outputs": [],
   "source": [
    "df_eval.to_csv('../data/rag-eval-gpt-4o.csv', index=False)"
   ]
  },
  {
   "cell_type": "code",
   "execution_count": null,
   "id": "85e45478-ca17-4e13-b80a-5776e96eccd6",
   "metadata": {},
   "outputs": [],
   "source": []
  }
 ],
 "metadata": {
  "kernelspec": {
   "display_name": "Python 3 (ipykernel)",
   "language": "python",
   "name": "python3"
  },
  "language_info": {
   "codemirror_mode": {
    "name": "ipython",
    "version": 3
   },
   "file_extension": ".py",
   "mimetype": "text/x-python",
   "name": "python",
   "nbconvert_exporter": "python",
   "pygments_lexer": "ipython3",
   "version": "3.12.1"
  }
 },
 "nbformat": 4,
 "nbformat_minor": 5
}
